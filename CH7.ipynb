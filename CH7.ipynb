{
 "cells": [
  {
   "cell_type": "raw",
   "metadata": {},
   "source": [
    "---\n",
    "reference-location: margin\n",
    "citation-location: margin\n",
    "execute:\n",
    "  freeze: auto\n",
    "  cache: true\n",
    "---"
   ]
  },
  {
   "cell_type": "markdown",
   "metadata": {},
   "source": [
    "# Loops\n",
    "\n",
    "[Jupyter Notebook](https://lancejnelson.github.io/PH135/jupyter/loops.ipynb)\n",
    "\n",
    "\n",
    "\n",
    " _Loops_ allow programs to rerun the same block of code multiple times.  This might seem like a funny thing to want to do but it turns out that there are many important tasks that are repetitive in nature (perhaps with small changes for each successive repetition).  A loop provides a succinct and efficient way to perform tasks of this nature.\n",
    "\n",
    "\n",
    "## `for` loops\n",
    "\n",
    "The `for` loop is probably the most common loop you will encounter and is a good choice when you know beforehand exactly what things you want to loop over.  Here is an example of of `for` loop that is used to add up the elements of a list."
   ]
  },
  {
   "cell_type": "code",
   "execution_count": 5,
   "metadata": {},
   "outputs": [
    {
     "name": "stdout",
     "output_type": "stream",
     "text": [
      "3\n",
      "5\n",
      "6\n",
      "15.9\n"
     ]
    }
   ],
   "source": [
    "thesum = 0\n",
    "for physics in [3,2,1,9.9]: \n",
    "    thesum += physics\n",
    "    print(thesum)"
   ]
  },
  {
   "cell_type": "markdown",
   "metadata": {},
   "source": [
    " This would be equivalent to the following code:"
   ]
  },
  {
   "cell_type": "code",
   "execution_count": null,
   "metadata": {
    "md-indent": " "
   },
   "outputs": [],
   "source": [
    "thesum = 0\n",
    "\n",
    "thesum = thesum + 3\n",
    "thesum = thesum + 2\n",
    "thesum = thesum + 1\n",
    "thesum = thesum + 9.9\n"
   ]
  },
  {
   "cell_type": "markdown",
   "metadata": {},
   "source": [
    "which isn't that much longer than using a loop.  However, as the list gets longer and/or the mathematical operations being performed get more complex the second method would get unreasonably long.\n",
    "\n",
    "\n",
    "The correct language is to say that we are _iterating_ over the list `[3,2,1,9.9]`.  This\n",
    "means that the loop variable (`i` in this case but you can choose it to be whatever you want) gets assigned\n",
    "the values of the list elements, one by one, until it reaches the end\n",
    "of the list.  You can use `for` loops to iterate over any multi-element object like lists or tuples.  Python uses indentation to indicate\n",
    "where the loop ends. In this case there was only one statement inside to loop, but if you wanted more than one each line should be indented.  \n",
    "\n",
    "\n",
    ">**_To Do:_**\n",
    ">\n",
    ">1. Add a `print` statement inside of the loop above to display the value of the variable `thesum`.\n",
    ">2. Predict what the output will be and then run the code and verify that you were correct.\n",
    ">3. Now change the loop variable to be named `physics` and verify that the loop still works as expected.\n",
    "\n",
    "\n",
    "You can iterate over `range` objects and strings using `for` loops.\n"
   ]
  },
  {
   "cell_type": "code",
   "execution_count": 6,
   "metadata": {},
   "outputs": [
    {
     "name": "stdout",
     "output_type": "stream",
     "text": [
      "Physics\n",
      "is\n",
      "so\n",
      "fun\n"
     ]
    }
   ],
   "source": [
    "for i in ['Physics', 'is','so','fun']: # Iterate over a list of strings\n",
    "    print(i)"
   ]
  },
  {
   "cell_type": "code",
   "execution_count": 7,
   "metadata": {},
   "outputs": [
    {
     "name": "stdout",
     "output_type": "stream",
     "text": [
      "5\n",
      "8\n",
      "11\n",
      "14\n",
      "17\n",
      "20\n",
      "23\n",
      "26\n",
      "29\n",
      "32\n",
      "35\n",
      "38\n",
      "41\n",
      "44\n",
      "47\n"
     ]
    }
   ],
   "source": [
    "for i in range(5,50,3):  #Generates a list from 5 -> 50 with a step size of 3\n",
    "    print(i)"
   ]
  },
  {
   "cell_type": "markdown",
   "metadata": {},
   "source": [
    "These examples are so simple that you might wonder when a loop might\n",
    "actually be useful to you.  Let's see if we can build a loop to\n",
    "calculate the following sum\n",
    "\n",
    "$$ \\sum_{n=1}^{1000} {1\\over n^2}$$ {#eq-sum}"
   ]
  },
  {
   "cell_type": "code",
   "execution_count": 8,
   "metadata": {},
   "outputs": [
    {
     "name": "stdout",
     "output_type": "stream",
     "text": [
      "1.6439335666815615\n"
     ]
    }
   ],
   "source": [
    "theSum = 0\n",
    "for n in range(1,1000):\n",
    "    theSum = theSum + 1/n**2\n",
    "print(theSum)"
   ]
  },
  {
   "cell_type": "markdown",
   "metadata": {},
   "source": [
    "Here, `n` is being assigned the values\n",
    "`1,2,3,4....1000`, one by one, until it gets all the way to\n",
    "1000.  Each time through the loop, `n` is different\n",
    "and the expression `1/n**2` evaluates to a new value.  The\n",
    "variable `theSum` is updated each time through to be the\n",
    "running total of all calculations performed thus far.  Here's another\n",
    "example of a loop used to calculate the value of $20!$:"
   ]
  },
  {
   "cell_type": "code",
   "execution_count": 10,
   "metadata": {},
   "outputs": [
    {
     "name": "stdout",
     "output_type": "stream",
     "text": [
      "2432902008176640000\n"
     ]
    }
   ],
   "source": [
    "theProduct = 1\n",
    "for n in range(1,21):\n",
    "    theProduct *= n #Multiply theProduct by n\n",
    "print(theProduct)"
   ]
  },
  {
   "cell_type": "markdown",
   "metadata": {},
   "source": [
    "Remember that the range function creates a list starting at $1$, going\n",
    "up to $21$ but not including it. The math library has a function\n",
    "called `factorial` that does the same thing.  Let's use it to\n",
    "check our answer:"
   ]
  },
  {
   "cell_type": "code",
   "execution_count": 11,
   "metadata": {},
   "outputs": [
    {
     "data": {
      "text/plain": [
       "2432902008176640000"
      ]
     },
     "execution_count": 11,
     "metadata": {},
     "output_type": "execute_result"
    }
   ],
   "source": [
    "from math import factorial\n",
    "factorial(20)"
   ]
  },
  {
   "cell_type": "markdown",
   "metadata": {},
   "source": [
    "### Boolean Logic Inside Loops\n",
    "Often when using loops, we only want a block of code to execute when some condition is satisfied.\n",
    "We can use boolean logic inside of the loop to accomplish this. For example, let's write a loop to compute the following sum:\n",
    "\n",
    "$$ \\sum_{{n\\over 5} \\in \\text{ Int and } {n\\over 3} \\in \\text{ Int}} {1\\over n^2} $$\n",
    "\n",
    "which is similar to the one we did above, but this time  we only want to include terms where $n$ is a perfect multiple of both 5 and 3. To check to see if `n` is a perfect multiple of a number we can calculate the modulo (remainder after division) using the `%` operator and check that it is equal to zero."
   ]
  },
  {
   "cell_type": "code",
   "execution_count": 16,
   "metadata": {},
   "outputs": [
    {
     "name": "stdout",
     "output_type": "stream",
     "text": [
      "0.0406917206530716\n"
     ]
    }
   ],
   "source": [
    "theSum = 0\n",
    "for n in range(1,5000):\n",
    "    if (n % 5 == 0 and n % 3 == 0)or n%7 == 0:\n",
    "        theSum += 1/n**2\n",
    "print(theSum)"
   ]
  },
  {
   "cell_type": "markdown",
   "metadata": {},
   "source": [
    ">**_To Do:_**\n",
    ">\n",
    ">Perform the following modifications to the loop above.  \n",
    "> \n",
    ">1. Increase the upper bound of the sum to go up to and include $5000$.\n",
    ">2. Only include the terms where `n` is a multiple of 5 and 3 **or** is a multiple of 7.\n",
    ">3. Replace the statement that updates `theSum` to its shorthand version.\n",
    "\n",
    "### Zipping and Enumerating\n",
    "\n",
    "There are times when it is necessary to iterate over two lists simultaneously.  For example, let us say that we have a list of atomic numbers (`AN`) and a list of approximate atomic masses (`mass`) of the most abundant isotopes for the first six elements on the periodic table.\n",
    "\n",
    "\n",
    "```\n",
    "AN = [1,2,3,4,5,6]\n",
    "mass = [1,4,7,9,11,12]\n",
    "```\n",
    "\n",
    "If we want to calculate the number of neutrons in each isotope, we need to subtract each atomic number from the atomic mass.  To accomplish this, it would be nice to iterate over both lists simultaneously\n",
    "\n",
    "\n",
    "#### Zipping\n",
    "\n",
    "The simplest way to iterate over two lists simultaneously is to combine both lists into a single, iterable object and iterate over it once.  The `zip` function does just that by merging two lists  or tuples into a nested list\n"
   ]
  },
  {
   "cell_type": "code",
   "execution_count": 12,
   "metadata": {},
   "outputs": [
    {
     "name": "stdout",
     "output_type": "stream",
     "text": [
      "0\n",
      "2\n",
      "4\n",
      "5\n",
      "6\n",
      "6\n"
     ]
    }
   ],
   "source": [
    "AN = [1,2,3,4,5,6]\n",
    "mass = [1,4,7,9,11,12]\n",
    "\n",
    "zipped = zip(AN,mass)\n",
    "\n",
    "for pair in zipped:\n",
    "    print(pair[1] - pair[0])"
   ]
  },
  {
   "cell_type": "markdown",
   "metadata": {},
   "source": [
    "The zip objects are \"single use\" so you can't reuse `zipped` in a later loop.  If the two lists being zipped are not the same length, `zip` stops zipping when it reaches the end of the shorter list.\n",
    "\n",
    ">**_To Do:_**\n",
    ">\n",
    ">1. Print the variable `zipped` and inspect closely.  Was the output what you expected?  \n",
    ">2. Now do `print(tuple(zipped))` and inspect closely.  Draw a conclusion.\n",
    ">3. Add a few more entries to the list named `AN`, but don't add the corresponding entries to the other list. Now the lists being zipped aren't the same length.  Inspect the output of the print statement to determine what `zip` does in this scenario.\n",
    "\n",
    "\n",
    "#### Enumeration\n",
    "\n",
    "A close relative to `zip` is `enumerate` which zips a list to _the index value for that list_ (read that last statement again).  It also returns a \"single use\" object that can be iterated over."
   ]
  },
  {
   "cell_type": "code",
   "execution_count": 13,
   "metadata": {},
   "outputs": [
    {
     "name": "stdout",
     "output_type": "stream",
     "text": [
      "0\n",
      "2\n",
      "4\n",
      "5\n",
      "6\n",
      "6\n"
     ]
    }
   ],
   "source": [
    "AN = [1,2,3,4,5,6]\n",
    "mass = [1,4,7,9,11,12]\n",
    "\n",
    "enum = enumerate(mass)\n",
    "\n",
    "for idx,val in enum:\n",
    "    print(val - AN[idx])"
   ]
  },
  {
   "cell_type": "markdown",
   "metadata": {},
   "source": [
    ">**_To Do:_**\n",
    ">\n",
    ">1. Repeat the previous To-Dos for the cell above.\n",
    "\n",
    "\n",
    "### List Comprehension\n",
    "\n",
    "It is fairly common to use a `for` loop to populate a list with a sequence of numbers.  \n"
   ]
  },
  {
   "cell_type": "code",
   "execution_count": null,
   "metadata": {},
   "outputs": [],
   "source": [
    "myList = []\n",
    "\n",
    "for i in range(10):\n",
    "    myList.append(i**2)\n",
    "\n",
    "print(myList)"
   ]
  },
  {
   "cell_type": "markdown",
   "metadata": {},
   "source": [
    "This entire process can be compressed down into a single line by expressing the `for` loop in square brackets. This is known as *list comprehension*. The code below will generate the list as above.\n"
   ]
  },
  {
   "cell_type": "code",
   "execution_count": null,
   "metadata": {},
   "outputs": [],
   "source": [
    "myList = [i**2 for i in range(10)]\n",
    "print(myList)"
   ]
  },
  {
   "cell_type": "markdown",
   "metadata": {},
   "source": [
    "List comprehension can take a little time to get used to but it is well worth it.  It saves both time and space and makes code less cluttered.  You can even add boolean expressions to your conditionals for further control of the final result.\n"
   ]
  },
  {
   "cell_type": "code",
   "execution_count": null,
   "metadata": {},
   "outputs": [],
   "source": [
    "myList = [i**2 for i in range(10) if i %2 == 0]  # Include only the evens.\n",
    "print(myList)"
   ]
  },
  {
   "cell_type": "markdown",
   "metadata": {},
   "source": [
    ">**_To Do:_**\n",
    ">\n",
    ">Think of your favorite mathematical function and modify the code above to generate a few samples from it.\n",
    "\n",
    "## `while` Loops\n",
    "\n",
    "Logic can be combined with loops using something called a\n",
    "`while` loop.  A `while` loop is a good choice when you\n",
    "don't know beforehand exactly how many iterations of the loop will be\n",
    "executed but rather want the loop to continue to execute until some\n",
    "condition is met.  As an example, notice that in @eq-sum, the terms in the sum get progressively smaller as $n$ gets bigger.  It doesn't make sense to continue adding to the sum once the terms get very small.  Let's compute this sum\n",
    "by looping until the fraction ${1 \\over n^2}$  become smaller than $1 \\times 10^{-2}$."
   ]
  },
  {
   "cell_type": "code",
   "execution_count": 4,
   "metadata": {},
   "outputs": [
    {
     "name": "stdout",
     "output_type": "stream",
     "text": [
      "10 1.5497677311665408\n"
     ]
    }
   ],
   "source": [
    "term = 1  # Load the first term in the sum\n",
    "s = term  # Initialize the sum\n",
    "n = 1     # Set a counter\n",
    "while term > 1e-2:  # Loop while term is bigger than 1e-2\n",
    "    n = n +  1        #Add 1 to n so that it will count: 2,3,4,5\n",
    "    term = 1/n**2    # Calculate the next term to add\n",
    "    s = s +  term     # Add 1/n^2 to the running total\n",
    "    \n",
    "print(n,s)"
   ]
  },
  {
   "cell_type": "markdown",
   "metadata": {},
   "source": [
    "This loop will continue to execute until `term<1e-2`. Note\n",
    "that unlike the `for` loop, here you have to do your own counting if you need to know how many iterations have been performed. Be\n",
    "careful about what value `n` starts at and when it is incremented\n",
    "(`n = n + 1`). Also notice that `term` must be assigned\n",
    "prior to the start of the loop.  If it wasn't the loop's first logical\n",
    "test would fail and the loop wouldn't execute at all.\n",
    "\n",
    "\n",
    ">**_To Do:_**\n",
    ">\n",
    ">1. Decrease the threshold on the termination condition and observe any changes in the final result and how many more iterations are performed.  \n",
    ">2. After toying around with it for a while pick a termination condition that you feel will produce a result that is accurate.\n",
    "\n",
    "\n",
    "`while` loops should be used with caution because you can easily write a *faulty termination condition* and inadvertently write a loop that runs forever.  This happens because your termination condition was never met.  An example of this is given below.\n",
    "\n",
    "\n",
    "Warning: Do not execute the code block below!!"
   ]
  },
  {
   "cell_type": "code",
   "execution_count": 6,
   "metadata": {},
   "outputs": [
    {
     "name": "stdout",
     "output_type": "stream",
     "text": [
      "Done\n"
     ]
    }
   ],
   "source": [
    "#| eval: false\n",
    "x = 0\n",
    "\n",
    "while x > 15:\n",
    "    x = x + 3\n",
    "print(\"Done\")"
   ]
  },
  {
   "cell_type": "markdown",
   "metadata": {},
   "source": [
    " The loop above is intended to end after a few iterations when the value of x is equal to 10.  However, closer inspection reveals that the value of x will never be equal to 10.  After the first iteration x is equal to 3, then 6,9,12,15 and so on... but never 10.  This loop will run forever because the termination condition is never met (`x != 10` never produces a `False`)!!  If you choose to use a `while` loop, triple check your termination condition to make sure you haven't made a mental error.  Avoiding the use of `!=` or `==` in your termination condition will help too.  Use `<=` or `>=` instead.\n",
    "\n",
    ">**_To Do:_**\n",
    ">\n",
    ">1. Modify the termination condition in the loop above so that it terminates when `x` gets larger than 15.\n",
    ">2. Run the code and verify that you did it correct.\n",
    "\n",
    "## `continue`, `break`, and `pass` Commands\n",
    "\n",
    "The `continue`, `break`, and `pass` commands are used to control the flow of code execution in loops.  Here is a description of their usage:\n",
    "\n",
    "\n",
    "| Operator | Description |\n",
    "| -------- | ----------- |\n",
    "| `break`      | Exits a `for`/`while` loop.|\n",
    "| `continue`      | Skips the remaining loop block and begins the next iteration.|\n",
    "| `pass`      | No action; code contiues on|\n",
    "\n",
    " \n",
    " \n",
    "  The `break` statement is useful when you want to completely stop a loop early.  Here is our sum loop rewritten with a `break` statement added to stop the loop after 1000 iterations."
   ]
  },
  {
   "cell_type": "code",
   "execution_count": 7,
   "metadata": {},
   "outputs": [
    {
     "name": "stdout",
     "output_type": "stream",
     "text": [
      "This is taking too long. Im outta here...\n"
     ]
    }
   ],
   "source": [
    "term = 1  # Load the first term in the sum\n",
    "s = term  # Initialize the sum\n",
    "n = 1     # Set a counter\n",
    "while term > 1e-10:  # Loop while term is bigger than 1e-10\n",
    "    n +=  1        #Add 1 to n so that it will count: 2,3,4,5\n",
    "    term = 1./n**2    # Calculate the next term to add\n",
    "    s += term     # Add 1/n^2 to the running total\n",
    "    if n > 1000:\n",
    "        print('This is taking too long. I''m outta here...')\n",
    "        break"
   ]
  },
  {
   "cell_type": "markdown",
   "metadata": {},
   "source": [
    "The `continue` statement is similar to `break` except that instead of stopping the loop, it only stops the current iteration of the loop.  All code below the `continue` statement will be skipped and the next iteration will begin.\n",
    "For example, if you wanted to do\n",
    "the sum from equation ?? but only include those terms for\n",
    "which n is a multiple of 3, it could be done like this:"
   ]
  },
  {
   "cell_type": "code",
   "execution_count": 8,
   "metadata": {},
   "outputs": [],
   "source": [
    "term = 1  # Load the first term in the sum\n",
    "s = term  # Initialize the sum\n",
    "n = 1     # Set a counter\n",
    "while term > 1e-10:  # Loop while term is bigger than 1e-10\n",
    "    n +=  1        #Add 1 to n so that it will count: 2,3,4,5\n",
    "    if n % 3 != 0:\n",
    "        continue\n",
    "    term = 1./n**2    # Calculate the next term to add\n",
    "    s += term     # Add 1/n^2 to the running total"
   ]
  },
  {
   "cell_type": "markdown",
   "metadata": {},
   "source": [
    "Now, when the value of `n` is not a multiple of 3, the sum will not be\n",
    "updated and the associated terms are effectively skipped.\n",
    " \n",
    "\n",
    "Finally, the `pass` statement does nothing.  Seriously!!  It is merely a place holder for code that has not bee written yet.  Usually, you'll use the `pass` statement to run and test code without errors due to missing code.  \n",
    "\n",
    "\n",
    "## Flash Cards\n",
    "1. Explain the basic structure and key elements of a `for` loop.\n",
    "2. Explain the basic structure and key elements of a `while` loop.\n",
    "3. What does the `break` statement do?\n",
    "4. What does the `continue` statement do?\n",
    "5. What does the `pass` statement do?\n",
    "6. What does the `zip` function do? Give an example.\n",
    "7. What does the `enumerate` function do? Give an example.\n",
    "8. What is list comprehension? Give an example.\n",
    "9. Where is the account of Jesus walking on the water?\n",
    "\n",
    "## Exercises\n",
    "1. Use a loop to construct a list containing the first 1000 numbers that are multiples of both $5$ and $3$. (The modulo operator (`%`) is a good and efficient way to see if a number is a multiple of another.)"
   ]
  },
  {
   "cell_type": "code",
   "execution_count": 3,
   "metadata": {},
   "outputs": [],
   "source": [
    "multiples = []\n",
    "n = 1\n",
    "while len(multiples)<1000:\n",
    "    if n % 5 ==0 and n%3 ==0:\n",
    "        multiples.append(n)\n",
    "    n += 1"
   ]
  },
  {
   "cell_type": "markdown",
   "metadata": {},
   "source": [
    "2. Summations appear often in science and mathematics.  One such summation is called the Riemann Zeta function and is given by $$ \\zeta(n) = \\sum_{k=1}^\\infty {1\\over k^n} = {1\\over 1^n} + {1\\over 2^n} + {1\\over 3^n} + \\dots$$\n",
    "\n",
    "    1. Use a `for` loop to evaluate $\\zeta(2)$ and $\\zeta(4)$ and verify that $\\zeta(2) = {\\pi^2 \\over 6}$ and $\\zeta(4) = {\\pi^4 \\over 90}$.  This summation is called an infinite sum and we surely don't want our loop to continue forever!! Instead, an infinite sum like this one can be approximated with a `for` loop with a large number of iterations.  To determine if you have included enough terms, increase the number of terms steadily and watch for the final result to stop changing appreciably.\n",
    "    2. Now repeat part 1 using list comprehension and the `sum` function?\n",
    "    3. Repeat the exercise one final time using a `while` loop.  Write the `while` loop so that it stops iterating when the value of ${1\\over k^n}$ gets smaller than $1 \\times 10^{-6}$.\n"
   ]
  },
  {
   "cell_type": "code",
   "execution_count": 4,
   "metadata": {},
   "outputs": [
    {
     "name": "stdout",
     "output_type": "stream",
     "text": [
      "When n=2, (π^2)/6=1.6449 A)1.6439 B)1.6439 C)1.6439\n",
      "When n=4, (π^4)/90=1.0823 A)1.0823 B)1.0823 C)1.0823\n"
     ]
    }
   ],
   "source": [
    "from numpy import pi\n",
    "total_a1 = 0\n",
    "n = 2\n",
    "for i in range(1,1000):\n",
    "    step =1/i**n\n",
    "    total_a1 += step\n",
    "\n",
    "total_a2 = 0\n",
    "n = 4\n",
    "for i in range(1,1000):\n",
    "    step =1/i**n\n",
    "    total_a2 += step\n",
    "    \n",
    "n = 2\n",
    "infinite_sum1 = [1/i**n for i in range(1,1000)]\n",
    "\n",
    "n = 4\n",
    "infinite_sum2 = [1/i**n for i in range(1,1000)]\n",
    "    \n",
    "n = 2\n",
    "k = 1\n",
    "total_c1 = 0\n",
    "while 1/k**n >= 1e-6:\n",
    "    total_c1 += 1/k**n\n",
    "    k += 1\n",
    "    \n",
    "n = 4\n",
    "k = 1\n",
    "total_c2 = 0\n",
    "while 1/k**n >= 1e-6:\n",
    "    total_c2 += 1/k**n\n",
    "    k += 1\n",
    "    \n",
    "print(f'When n=2, (π^2)/6={pi**2/6 :.4f} A){total_a1:.4f} B){sum(infinite_sum1):.4f} C){total_c1:.4f}')\n",
    "print(f'When n=4, (π^4)/90={pi**4/90 :.4f} A){total_a2:.4f} B){sum(infinite_sum2):.4f} C){total_c2:.4f}')"
   ]
  },
  {
   "cell_type": "markdown",
   "metadata": {},
   "source": [
    "3. In the cell below you will find three lists containing the masses, lengths, and radii for a collection of cylinders.  The moment of inertia for each cylinder can be calculated as $$ I = {1\\over 4} M R^2 + {1\\over 12} M L^2$$.  \n",
    "\n",
    "    1. Use a loop to iterate over these lists and calculate the moment of inertia for each one.  Store the calculated values in a new list.  You should use the `enumerate` function on this problem.\n",
    "    2. Calculate the largest, smallest, and average of the calculated values\n"
   ]
  },
  {
   "cell_type": "code",
   "execution_count": 1,
   "metadata": {},
   "outputs": [
    {
     "name": "stdout",
     "output_type": "stream",
     "text": [
      "The largest moment of inertia is 8.0676 kg m^2\n",
      "The smallest moment of inertia is 0.3943 kg m^2\n",
      "The average moment of inertia is 2.8547 kg m^2\n",
      "\n",
      "The largest moment of inertia is 8.0676 kg m^2\n",
      "The smallest moment of inertia is 0.3943 kg m^2\n",
      "The average moment of inertia is 2.8547 kg m^2\n"
     ]
    }
   ],
   "source": [
    "from numpy.random import uniform\n",
    "mass = uniform(3,8,1000)\n",
    "radius = uniform(0.5,1.2,1000)\n",
    "length = uniform(0.8,3,1000)\n",
    "\n",
    "moment_of_inertia = []\n",
    "\n",
    "for i in range(len(mass)):\n",
    "    I = 1/4 * mass[i]*radius[i]**2 + 1/12 * mass[i]*length[i]**2\n",
    "    moment_of_inertia.append(I)\n",
    "\n",
    "print(f'The largest moment of inertia is {max(moment_of_inertia):.4f} kg m^2') \n",
    "print(f'The smallest moment of inertia is {min(moment_of_inertia):.4f} kg m^2')\n",
    "print(f'The average moment of inertia is {sum(moment_of_inertia)/len(moment_of_inertia):.4f} kg m^2')\n",
    "\n",
    "print()\n",
    "new_mass = enumerate(mass)\n",
    "moments = []\n",
    "for ind,m in new_mass:\n",
    "    I = 1/4 * m*radius[ind]**2 + 1/12 * m*length[ind]**2\n",
    "    moments.append(I)\n",
    "    \n",
    "print(f'The largest moment of inertia is {max(moments):.4f} kg m^2')\n",
    "print(f'The smallest moment of inertia is {min(moments):.4f} kg m^2')\n",
    "print(f'The average moment of inertia is {sum(moments)/len(moments) :.4f} kg m^2')\n"
   ]
  },
  {
   "cell_type": "markdown",
   "metadata": {},
   "source": [
    "4. An object that is dropped/thrown from a high altitude and allowed to fall through the air will experience a drag force that is opposite its motion.  Because of that drag force, the velocity of the particle will not increase forever, but instead approach a constant velocity (called terminal velocity).  The function that describes the velocity of the particle as a function of time is given by $$ v(t) = -{mg \\over c} + \\left( {m g \\over c} + v_0\\right) e^{-c t \\over m}$$ and the terminal velocity is given by $$v_t = -{m g \\over c}$$\n",
    "where $m$ is the mass of the projectile, $c$ is the drag constant, $g= 9.8$ m/s$^2$ is the acceleration due to gravity, $v_0$ is the initial velocity of the particle, and $t$ is time. \n",
    "\n",
    "    1. Use a while loop to calculate the velocity of the particle at $0.1$ second time intervals, starting at $t = 0$.\n",
    "    2. The loop should terminate when the velocity of the particle achieves $90\\%$ of terminal velocity.\n",
    "    3. Use a print statement to display the amount of time that has elapsed before reaching $90\\%$ of terminal velocity.\n",
    "    4. Hypothesize about what might happen if you increased or decreased the mass of the object, while leaving all other physical parameters fixed.  Then modify your code and see if your guess was right.\n",
    "    5. Hypothesize about what might happen if you increased or decreased the drag constant (`c`) for the object, while leaving all other physical parameters fixed.  Then modify your code and see if your guess was right."
   ]
  },
  {
   "cell_type": "code",
   "execution_count": 17,
   "metadata": {},
   "outputs": [
    {
     "name": "stdout",
     "output_type": "stream",
     "text": [
      "It has elapsed 3.6 seconds to reach 90% of terminal velocity\n",
      "It has elapsed 1.2 seconds to reach 90% of terminal velocity\n",
      "It has elapsed 6.2 seconds to reach 90% of terminal velocity\n"
     ]
    }
   ],
   "source": [
    "#| eval: true\n",
    "from math import exp,sqrt\n",
    "def velocity(m,g,c,v0,t):\n",
    "    v = -m*g/c + (m*g/c+v0)*exp(-c*t/m)\n",
    "    return v\n",
    "\n",
    "m = 20\n",
    "g = 9.8\n",
    "c = 0.75\n",
    "v0=0\n",
    "dt = 0.1\n",
    "t = 0\n",
    "terminal = -m*g/c\n",
    "\n",
    "while abs(v0) < abs(terminal*.9):\n",
    "    v0=velocity(m,g,c,v0,t)\n",
    "    t +=dt\n",
    "print(f'It has elapsed {t:.1f} seconds to reach 90% of terminal velocity')\n",
    "\n",
    "m = 2\n",
    "g = 9.8\n",
    "c = 0.75\n",
    "v0=0\n",
    "dt = 0.1\n",
    "t = 0\n",
    "terminal = -m*g/c\n",
    "\n",
    "while abs(v0) < abs(terminal*.9):\n",
    "    v0=velocity(m,g,c,v0,t)\n",
    "    t +=dt\n",
    "print(f'It has elapsed {t:.1f} seconds to reach 90% of terminal velocity')\n",
    "\n",
    "m = 20\n",
    "g = 9.8\n",
    "c = 0.25\n",
    "v0=0\n",
    "dt = 0.1\n",
    "t = 0\n",
    "terminal = -m*g/c\n",
    "\n",
    "while abs(v0) < abs(terminal*.9):\n",
    "    v0=velocity(m,g,c,v0,t)\n",
    "    t +=dt\n",
    "print(f'It has elapsed {t:.1f} seconds to reach 90% of terminal velocity')"
   ]
  },
  {
   "cell_type": "markdown",
   "metadata": {},
   "source": [
    "5. In the cell below you will find a dictionary containing the mass(in kg) and diameter of the planets in our solar system.  Use a loop to iterate over this dictionary and calculate the acceleration due to gravity at the surface of the planet. $$ g = {G M \\over R^2}$$.  Then add this value to the list for each planet. Print the dictionary when you are done to verify that each dictionary entry is a list with three elements.\n"
   ]
  },
  {
   "cell_type": "code",
   "execution_count": 25,
   "metadata": {},
   "outputs": [
    {
     "name": "stdout",
     "output_type": "stream",
     "text": [
      "{'Mercury': [3.3e+23, 4879000.0, 3.700990911814213], 'Venus': [4.87e+24, 12104000.0, 8.874355989007363], 'Earth': [5.97e+24, 12756000.0, 9.795148509973872], 'Mars': [6.42e+23, 6792000.0, 3.71539839012432], 'Jupiter': [1.898e+27, 142984000.0, 24.78489243106421], 'Saturn': [5.68e+26, 120536000.0, 10.437115756078459], 'Uranus': [8.68e+25, 51118000.0, 8.868246024372553], 'Neptune': [1.02e+26, 49528000.0, 11.101056287620686], 'Pluto': [1.3e+22, 23760000.0, 0.006147749946150619]}\n"
     ]
    }
   ],
   "source": [
    "planetData = {\"Mercury\": [0.33e24,4.879e6],\"Venus\":[4.87e24,1.2104e7],\"Earth\":[5.97e24,1.2756e7],\"Mars\":[0.642e24,6.792e6],\"Jupiter\":[1.898e27,1.42984e8],\"Saturn\":[5.68e26,1.20536e8],\"Uranus\":[8.68e25,5.1118e7],\"Neptune\":[1.02e26,4.9528e7],\"Pluto\":[0.013e24,2.376e7]}\n",
    "def grav(M,d):\n",
    "    G = 6.6743e-11\n",
    "    R = d/2\n",
    "    g = G*M/R**2\n",
    "    return g\n",
    "\n",
    "for key,value in planetData.items():\n",
    "    g = grav(value[0],value[1])\n",
    "    value.append(g)\n",
    "print(planetData)"
   ]
  },
  {
   "cell_type": "markdown",
   "metadata": {},
   "source": [
    "(Extra Credit) A transcendental equation is one that cannot be solved analytically (with pencil and paper). Try solving the following equation for x to see what I mean: $$ {\\sin x \\over x} = 1$$  One numerical method for solving an equation like this involves first rearranging it to look like this: $$ x = \\sin x$$ and then using a loop to repeatedly evaluating the right hand side, using the result of the previous evaluation as the input, until subsequent evaluations differ very little ($1 \\times 10^{-3}$ would be fine). [^relax] The first few iterations of this process might look something like this: $$(x_\\text{old})_1 = 2 \\text{ (starting guess)}$$ $$(x_\\text{new})_1 = \\sin((x_\\text{old})_1)$$ $$(x_\\text{old})_2 = (x_\\text{new})_1$$ $$(x_\\text{new})_2 = \\sin((x_\\text{old})_2)$$ $$(x_\\text{old})_3 = (x_\\text{new})_2$$ $$(x_\\text{new})_3 = \\sin((x_\\text{old})_3)$$\n",
    "\n",
    "    \n",
    "   1. Use a `while` loop to solve this equation and report the correct value for x.  \n",
    "   2. Plug the answer back into the equation to verify that it indeed does satisfy the equation.\n",
    "   3. Report how many iterations it took to solve the problem.\n",
    "   4. Decrease the value in the termination condition and observe how the number of iterations and the accuracy of the answer change.\n",
    "\n",
    "    Hint: You'll have to define two variables: one to hold the old guess and one to hold the updated guess.  Initialize these variables to any old values but make sure that they aren't equal or your stopping criteria will trigger on the first iteration and the loop won't run at all.\n"
   ]
  },
  {
   "cell_type": "code",
   "execution_count": 33,
   "metadata": {},
   "outputs": [
    {
     "name": "stdout",
     "output_type": "stream",
     "text": [
      "0.039138274036829714\n",
      "0.03912828277141371\n",
      "1951\n"
     ]
    }
   ],
   "source": [
    "from numpy import sin\n",
    "xold = 2 # starting guess\n",
    "xnew = sin(xold)\n",
    "n = 0\n",
    "\n",
    "while abs(xold-xnew)>1e-5:\n",
    "    xold = xnew\n",
    "    xnew = sin(xold)\n",
    "    n +=1\n",
    "    \n",
    "print(xnew)\n",
    "print(sin(xnew))\n",
    "print(n)"
   ]
  },
  {
   "cell_type": "markdown",
   "metadata": {},
   "source": [
    "[^relax]: This is called successive relaxation."
   ]
  },
  {
   "cell_type": "code",
   "execution_count": 1,
   "metadata": {},
   "outputs": [
    {
     "name": "stdout",
     "output_type": "stream",
     "text": [
      "[0, 4, 16, 36, 64]\n"
     ]
    }
   ],
   "source": [
    "mylist = [i**2 for i in range(10) if i%2==0]\n",
    "print(mylist)"
   ]
  },
  {
   "cell_type": "code",
   "execution_count": 3,
   "metadata": {},
   "outputs": [
    {
     "name": "stdout",
     "output_type": "stream",
     "text": [
      "1.6349839001848923\n",
      "1.6349839001848923\n",
      "11.999999999598607\n"
     ]
    }
   ],
   "source": [
    "sum = 0\n",
    "for i in range(1,101):\n",
    "    sum += 1/i**2\n",
    "    \n",
    "print(sum)\n",
    "sum = 0\n",
    "i = 1\n",
    "while i<=100:\n",
    "    sum += 1/i**2\n",
    "    i +=1\n",
    "print(sum)\n",
    "\n",
    "sum = 0\n",
    "n = 1\n",
    "while n*(3/4)**n > 1e-10:\n",
    "    sum += n*(3/4)**n\n",
    "    n += 1\n",
    "print(sum)"
   ]
  },
  {
   "cell_type": "code",
   "execution_count": null,
   "metadata": {},
   "outputs": [],
   "source": []
  }
 ],
 "metadata": {
  "kernelspec": {
   "display_name": "Python 3 (ipykernel)",
   "language": "python",
   "name": "python3"
  },
  "language_info": {
   "codemirror_mode": {
    "name": "ipython",
    "version": 3
   },
   "file_extension": ".py",
   "mimetype": "text/x-python",
   "name": "python",
   "nbconvert_exporter": "python",
   "pygments_lexer": "ipython3",
   "version": "3.9.7"
  }
 },
 "nbformat": 4,
 "nbformat_minor": 4
}
