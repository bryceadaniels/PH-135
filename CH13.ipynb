{
 "cells": [
  {
   "cell_type": "raw",
   "metadata": {},
   "source": [
    "---\n",
    "reference-location: margin\n",
    "citation-location: margin\n",
    "execute:\n",
    "  freeze: auto\n",
    "---"
   ]
  },
  {
   "cell_type": "markdown",
   "metadata": {},
   "source": [
    "# Pandas\n",
    "\n",
    "[Jupyter Notebook](https://lancejnelson.github.io/PH135/jupyter/pandas.ipynb)\n",
    "\n",
    "\n",
    "Pandas is a Python package built to work with spreadsheet-like data, and it is very good at its job.  Pandas stores data in something called a \"dataframe\". A dataframe is simply data stored in rows and columns. As an example, here is some sample data taken by an accelerometer sitting on an elevator floor:\n",
    "\n",
    "time,gFx,gFy,gFz  \n",
    "0.007,-0.0056,-0.0046,1.012  \n",
    "0.008,0.0007,0.0024,1.0022  \n",
    "0.008,0,0.0059,1.0039  \n",
    "0.009,0.0054,-0.0022,1.0032  \n",
    "0.009,-0.0015,-0.0056,1.0042  \n",
    "0.009,0.0037,-0.002,0.9951  \n",
    "0.01,-0.002,-0.002,1.002  \n",
    "0.014,0.009,-0.0024,1.0159  \n",
    "0.015,0.0012,-0.0037,1.01  \n",
    "0.017,-0.0115,-0.002,1.0012  \n",
    "0.019,-0.0022,-0.0015,1.001  \n",
    "0.021,0.0024,-0.0022,1.0166  \n",
    "\n",
    "and here is the same data loaded into a dataframe.\n",
    "\n",
    "```\n",
    "   time     gFx     gFy     gFz  \n",
    "0  0.007 -0.0056 -0.0046  1.0120  \n",
    "1  0.008  0.0007  0.0024  1.0022  \n",
    "2  0.008  0.0000  0.0059  1.0039  \n",
    "3  0.009  0.0054 -0.0022  1.0032  \n",
    "4  0.009 -0.0015 -0.0056  1.0042  \n",
    "5  0.009  0.0037 -0.0020  0.9951  \n",
    "6  0.010 -0.0020 -0.0020  1.0020  \n",
    "7  0.014  0.0090 -0.0024  1.0159  \n",
    "8  0.015  0.0012 -0.0037  1.0100  \n",
    "9  0.017 -0.0115 -0.0020  1.0012 \n",
    "``` \n",
    "Every dataframe has labels attached to its columns and rows.  In this example, the row labels are just the first 10 integers and the column labels are \"time\", \"gFx\", \"gFy\", and , \"gFz\".  Labeling the rows and columns is nice because you can access data using the row and column labels instead of indices.  \n",
    "\n",
    "## Creating dataframes\n",
    "A dataframe can be initiated in many ways but the most common are: from file, from a dictionary, and from an array or list.  We'll discuss each way separately.\n",
    "\n",
    "### Reading from a .csv file.\n",
    "The most-used function from the pandas module is `read_csv` which is used to read a csv-formatted file into a data frame. To use it, simply call the `pandas.read_csv` function and pass in the path to the .csv file. ([Here](https://lancejnelson.github.io/PH135/files/elevator.csv) is a link to the file.)"
   ]
  },
  {
   "cell_type": "code",
   "execution_count": 2,
   "metadata": {},
   "outputs": [
    {
     "name": "stdout",
     "output_type": "stream",
     "text": [
      "    time     gFx     gFy     gFz\n",
      "0  0.007 -0.0056 -0.0046  1.0120\n",
      "1  0.008  0.0070  0.0024  1.0022\n",
      "2  0.008  0.0000  0.0059  1.0039\n",
      "3  0.009  0.0054 -0.0022  1.0032\n",
      "4  0.009 -0.0015 -0.0056  1.0042\n",
      "5  0.009  0.0037 -0.0020  0.9951\n",
      "6  0.010 -0.0020 -0.0020  1.0020\n",
      "7  0.014  0.0090 -0.0025  1.0159\n",
      "8  0.015  0.0012 -0.0037  1.0100\n",
      "9  0.017 -0.0115 -0.0020  1.0012\n"
     ]
    }
   ],
   "source": [
    "from pandas import read_csv\n",
    "\n",
    "elevator_data = read_csv(\"elevator.csv\", index_col = 0)\n",
    "print(elevator_data)"
   ]
  },
  {
   "cell_type": "markdown",
   "metadata": {},
   "source": [
    "The keyword argument `index_col = 0` indicates that the row labels should be taken from the first column in the csv file.  There are many, many possible keyword arguments that can be used to customize the way `read_csv` reads a file into a dataframe.  I'll highlight just a few and refer you to the [documentation](https://pandas.pydata.org/docs/reference/api/pandas.read_csv.html?highlight=read_csv#pandas.read_csv) for the rest:\n",
    "\n",
    "1. `delimiter`- use this to specify the character that separates the data from each other. The default is \",\" for .csv files.\n",
    "2. `header` - use this to specify which row contains the column names.  Usually this occurs on the first row (`header = 0`) but not always.\n",
    "3. `usecols` - use this to specify which columns from the file should be included in the dataframe.\n",
    "4. `skiprows` - line numbers to skip when building the dataframe.  Can be either a single integer (skip the first `n` lines) or a list of integers and it will skip all rows in the list.\n",
    "\n",
    "\n",
    "The `rename()` function can be used if you don't like the default index values (integers if you read from file) and want to reassign them.  "
   ]
  },
  {
   "cell_type": "code",
   "execution_count": 14,
   "metadata": {},
   "outputs": [
    {
     "name": "stdout",
     "output_type": "stream",
     "text": [
      "    time     gFx     gFy     gFz\n",
      "A  0.007 -0.0056 -0.0046  1.0120\n",
      "B  0.008  0.0070  0.0024  1.0022\n",
      "C  0.008  0.0000  0.0059  1.0039\n",
      "D  0.009  0.0054 -0.0022  1.0032\n",
      "E  0.009 -0.0015 -0.0056  1.0042\n",
      "F  0.009  0.0037 -0.0020  0.9951\n",
      "G  0.010 -0.0020 -0.0020  1.0020\n",
      "H  0.014  0.0090 -0.0025  1.0159\n",
      "I  0.015  0.0012 -0.0037  1.0100\n",
      "J  0.017 -0.0115 -0.0020  1.0012\n"
     ]
    }
   ],
   "source": [
    "from pandas import read_csv\n",
    "\n",
    "elevator_data = read_csv(\"elevator.csv\",index_col = 0)\n",
    "elevator_data = elevator_data.rename(index = {0:\"A\",1:\"B\",2:\"C\",3:\"D\",4:\"E\",5:\"F\",6:\"G\",7:\"H\",8:\"I\",9:\"J\"})\n",
    "print(elevator_data)"
   ]
  },
  {
   "cell_type": "markdown",
   "metadata": {},
   "source": [
    "### Create from a dictionary\n",
    "If your data is in a dictionary you can use the `DataFrame` function (case sensitive) to initialize the dataframe. Key values in the dictionary correspond to columns in the dataframe.  "
   ]
  },
  {
   "cell_type": "code",
   "execution_count": 55,
   "metadata": {},
   "outputs": [
    {
     "name": "stdout",
     "output_type": "stream",
     "text": [
      "    time     gFx     gFy     gFz\n",
      "0  0.007 -0.0056 -0.0046  1.0120\n",
      "1  0.008  0.0070  0.0024  1.0022\n",
      "2  0.008  0.0000  0.0059  1.0039\n",
      "3  0.009  0.0054 -0.0022  1.0032\n",
      "4  0.009 -0.0015 -0.0056  1.0042\n",
      "5  0.009  0.0037 -0.0020  0.9951\n",
      "6  0.010 -0.0020 -0.0020  1.0020\n",
      "7  0.014  0.0090 -0.0025  1.0159\n",
      "8  0.015  0.0012 -0.0037  1.0100\n",
      "9  0.017 -0.0115 -0.0020  1.0012\n"
     ]
    }
   ],
   "source": [
    "from pandas import DataFrame\n",
    "elevator = {\"time\":[0.007,0.008,0.008,0.009,0.009,0.009,0.01,0.014,0.015,0.017],\"gFx\":[-0.0056,0.007,0,0.0054,-0.0015,0.0037,-0.002,0.009,0.0012,-0.0115],\"gFy\":[-0.0046,0.0024,0.0059,-0.0022,-0.0056,-0.002,-0.002,-0.0025,-0.0037,-0.002],\"gFz\":[1.012,1.0022,1.0039,1.0032,1.0042,0.9951,1.002,1.0159,1.01,1.0012]}\n",
    "elevator_data = DataFrame(elevator)\n",
    "print(elevator_data)"
   ]
  },
  {
   "cell_type": "markdown",
   "metadata": {},
   "source": [
    "The row indices will default to the a set of integers starting at 0.  If you want to index the rows with other labels, use the `index` keyword argument."
   ]
  },
  {
   "cell_type": "code",
   "execution_count": 7,
   "metadata": {},
   "outputs": [
    {
     "name": "stdout",
     "output_type": "stream",
     "text": [
      "    time     gFx     gFy     gFz\n",
      "A  0.007 -0.0056 -0.0046  1.0120\n",
      "B  0.008  0.0070  0.0024  1.0022\n",
      "C  0.008  0.0000  0.0059  1.0039\n",
      "D  0.009  0.0054 -0.0022  1.0032\n",
      "E  0.009 -0.0015 -0.0056  1.0042\n",
      "F  0.009  0.0037 -0.0020  0.9951\n",
      "G  0.010 -0.0020 -0.0020  1.0020\n",
      "H  0.014  0.0090 -0.0025  1.0159\n",
      "J  0.015  0.0012 -0.0037  1.0100\n",
      "K  0.017 -0.0115 -0.0020  1.0012\n"
     ]
    }
   ],
   "source": [
    "from pandas import DataFrame\n",
    "elevator = {\"time\":[0.007,0.008,0.008,0.009,0.009,0.009,0.01,0.014,0.015,0.017],\"gFx\":[-0.0056,0.007,0,0.0054,-0.0015,0.0037,-0.002,0.009,0.0012,-0.0115],\"gFy\":[-0.0046,0.0024,0.0059,-0.0022,-0.0056,-0.002,-0.002,-0.0025,-0.0037,-0.002],\"gFz\":[1.012,1.0022,1.0039,1.0032,1.0042,0.9951,1.002,1.0159,1.01,1.0012]}\n",
    "elevator_data = DataFrame(elevator,index = [\"A\",\"B\",\"C\",\"D\",\"E\",\"F\",\"G\",\"H\",\"J\",\"K\"])\n",
    "print(elevator_data)"
   ]
  },
  {
   "cell_type": "markdown",
   "metadata": {},
   "source": [
    "### Create from a list\n",
    "Sometimes you have data in a list or multiple list and would like to combine all of that data and form a dataframe.  This can also be done using the `DataFrame` function (case sensitive remember!).  When initializing with lists, you have to also use the `columns` keyword argument to specify what you want the column labels to be.  "
   ]
  },
  {
   "cell_type": "code",
   "execution_count": 9,
   "metadata": {},
   "outputs": [
    {
     "name": "stdout",
     "output_type": "stream",
     "text": [
      "    time     gFx     gFy     gFz\n",
      "0  0.007 -0.0056 -0.0046  1.0120\n",
      "1  0.008  0.0070  0.0024  1.0022\n",
      "2  0.008  0.0000  0.0059  1.0039\n",
      "3  0.009  0.0054 -0.0022  1.0032\n",
      "4  0.009 -0.0015 -0.0056  1.0042\n",
      "5  0.009  0.0037 -0.0020  0.9951\n",
      "6  0.010 -0.0020 -0.0020  1.0020\n",
      "7  0.014  0.0090 -0.0025  1.0159\n",
      "8  0.015  0.0012 -0.0037  1.0100\n",
      "9  0.017 -0.0115 -0.0020  1.0012\n"
     ]
    }
   ],
   "source": [
    "from pandas import DataFrame\n",
    "from numpy import transpose\n",
    "\n",
    "time = [0.007,0.008,0.008,0.009,0.009,0.009,0.01,0.014,0.015,0.017]\n",
    "gFx = [-0.0056,0.007,0,0.0054,-0.0015,0.0037,-0.002,0.009,0.0012,-0.0115]\n",
    "gFy = [-0.0046,0.0024,0.0059,-0.0022,-0.0056,-0.002,-0.002,-0.0025,-0.0037,-0.002]\n",
    "gFz = [1.012,1.0022,1.0039,1.0032,1.0042,0.9951,1.002,1.0159,1.01,1.0012]\n",
    "elevator_data = DataFrame(transpose([time,gFx,gFy,gFz]),columns = [\"time\", \"gFx\",\"gFy\", \"gFz\"])\n",
    "print(elevator_data)"
   ]
  },
  {
   "cell_type": "markdown",
   "metadata": {},
   "source": [
    "The row labels will default to integers unless you specify otherwise with the `index` keyword.\n"
   ]
  },
  {
   "cell_type": "code",
   "execution_count": 11,
   "metadata": {},
   "outputs": [
    {
     "name": "stdout",
     "output_type": "stream",
     "text": [
      "    time     gFx     gFy     gFz\n",
      "A  0.007 -0.0056 -0.0046  1.0120\n",
      "B  0.008  0.0070  0.0024  1.0022\n",
      "C  0.008  0.0000  0.0059  1.0039\n",
      "D  0.009  0.0054 -0.0022  1.0032\n",
      "E  0.009 -0.0015 -0.0056  1.0042\n",
      "F  0.009  0.0037 -0.0020  0.9951\n",
      "G  0.010 -0.0020 -0.0020  1.0020\n",
      "H  0.014  0.0090 -0.0025  1.0159\n",
      "J  0.015  0.0012 -0.0037  1.0100\n",
      "K  0.017 -0.0115 -0.0020  1.0012\n"
     ]
    }
   ],
   "source": [
    "from pandas import DataFrame\n",
    "from numpy import transpose\n",
    "\n",
    "time = [0.007,0.008,0.008,0.009,0.009,0.009,0.01,0.014,0.015,0.017]\n",
    "gFx = [-0.0056,0.007,0,0.0054,-0.0015,0.0037,-0.002,0.009,0.0012,-0.0115]\n",
    "gFy = [-0.0046,0.0024,0.0059,-0.0022,-0.0056,-0.002,-0.002,-0.0025,-0.0037,-0.002]\n",
    "gFz = [1.012,1.0022,1.0039,1.0032,1.0042,0.9951,1.002,1.0159,1.01,1.0012]\n",
    "\n",
    "elevator_data = DataFrame(transpose([time,gFx,gFy,gFz]),columns = [\"time\", \"gFx\",\"gFy\", \"gFz\"],index = [\"A\",\"B\",\"C\",\"D\",\"E\",\"F\",\"G\",\"H\",\"J\",\"K\"])\n",
    "print(elevator_data)"
   ]
  },
  {
   "cell_type": "markdown",
   "metadata": {},
   "source": [
    "## Extracting data\n",
    "Extracting data from the dataframe could mean several things. The most common possibilities include:\n",
    "\n",
    "1. accessing a single number using row and column labels or row and column indices.\n",
    "2. accessing one or several columns of the dataframe.\n",
    "3. accessing one or several rows of the dataframe.\n",
    "4. slicing from the \"middle\" of the dataframe.  (i.e. Not entire columns or entire rows.)\n",
    "5. accessing only elements in the dataframe that meet a certain criteria.\n",
    "\n",
    "We'll cover each of these tasks one at a time.\n",
    "\n",
    "### Extracting General Information\n",
    "Sometimes the dataframe is quite large and you'd like to inspect just a small portion of it.  You can use `dataframe.head(n)` to look at the **first** `n` rows in the dataframe and `dataframe.tail(n)` to look at the **last** `n` rows.\n"
   ]
  },
  {
   "cell_type": "code",
   "execution_count": 14,
   "metadata": {},
   "outputs": [
    {
     "data": {
      "text/html": [
       "<div>\n",
       "<style scoped>\n",
       "    .dataframe tbody tr th:only-of-type {\n",
       "        vertical-align: middle;\n",
       "    }\n",
       "\n",
       "    .dataframe tbody tr th {\n",
       "        vertical-align: top;\n",
       "    }\n",
       "\n",
       "    .dataframe thead th {\n",
       "        text-align: right;\n",
       "    }\n",
       "</style>\n",
       "<table border=\"1\" class=\"dataframe\">\n",
       "  <thead>\n",
       "    <tr style=\"text-align: right;\">\n",
       "      <th></th>\n",
       "      <th>time</th>\n",
       "      <th>gFx</th>\n",
       "      <th>gFy</th>\n",
       "      <th>gFz</th>\n",
       "    </tr>\n",
       "  </thead>\n",
       "  <tbody>\n",
       "    <tr>\n",
       "      <th>G</th>\n",
       "      <td>0.010</td>\n",
       "      <td>-0.0020</td>\n",
       "      <td>-0.0020</td>\n",
       "      <td>1.0020</td>\n",
       "    </tr>\n",
       "    <tr>\n",
       "      <th>H</th>\n",
       "      <td>0.014</td>\n",
       "      <td>0.0090</td>\n",
       "      <td>-0.0025</td>\n",
       "      <td>1.0159</td>\n",
       "    </tr>\n",
       "    <tr>\n",
       "      <th>J</th>\n",
       "      <td>0.015</td>\n",
       "      <td>0.0012</td>\n",
       "      <td>-0.0037</td>\n",
       "      <td>1.0100</td>\n",
       "    </tr>\n",
       "    <tr>\n",
       "      <th>K</th>\n",
       "      <td>0.017</td>\n",
       "      <td>-0.0115</td>\n",
       "      <td>-0.0020</td>\n",
       "      <td>1.0012</td>\n",
       "    </tr>\n",
       "  </tbody>\n",
       "</table>\n",
       "</div>"
      ],
      "text/plain": [
       "    time     gFx     gFy     gFz\n",
       "G  0.010 -0.0020 -0.0020  1.0020\n",
       "H  0.014  0.0090 -0.0025  1.0159\n",
       "J  0.015  0.0012 -0.0037  1.0100\n",
       "K  0.017 -0.0115 -0.0020  1.0012"
      ]
     },
     "execution_count": 14,
     "metadata": {},
     "output_type": "execute_result"
    }
   ],
   "source": [
    "elevator_data.head(3)\n",
    "elevator_data.tail(4)"
   ]
  },
  {
   "cell_type": "markdown",
   "metadata": {},
   "source": [
    "To get a list of the column or row labels, use the variables `dataframe.columns` and `dataframe.index`."
   ]
  },
  {
   "cell_type": "code",
   "execution_count": 15,
   "metadata": {},
   "outputs": [
    {
     "data": {
      "text/plain": [
       "Index(['A', 'B', 'C', 'D', 'E', 'F', 'G', 'H', 'J', 'K'], dtype='object')"
      ]
     },
     "execution_count": 15,
     "metadata": {},
     "output_type": "execute_result"
    }
   ],
   "source": [
    "elevator_data.columns\n",
    "elevator_data.index"
   ]
  },
  {
   "cell_type": "markdown",
   "metadata": {},
   "source": [
    "### Extracting a single number\n",
    "To extract a single number from a dataframe, use the `dataframe.at[]` or `dataframe.iat[]` objects.  The `at` object should be used if you want to locate the number using row and column **labels** and `iat` should be used when you want to access the number using row and column **indices**.  Let's see an example:\n"
   ]
  },
  {
   "cell_type": "code",
   "execution_count": 17,
   "metadata": {},
   "outputs": [
    {
     "name": "stdout",
     "output_type": "stream",
     "text": [
      "0.007\n",
      "0.007\n"
     ]
    }
   ],
   "source": [
    "from pandas import DataFrame\n",
    "from numpy import transpose\n",
    "\n",
    "time = [0.007,0.008,0.008,0.009,0.009,0.009,0.01,0.014,0.015,0.017]\n",
    "gFx = [-0.0056,0.007,0,0.0054,-0.0015,0.0037,-0.002,0.009,0.0012,-0.0115]\n",
    "gFy = [-0.0046,0.0024,0.0059,-0.0022,-0.0056,-0.002,-0.002,-0.0025,-0.0037,-0.002]\n",
    "gFz = [1.012,1.0022,1.0039,1.0032,1.0042,0.9951,1.002,1.0159,1.01,1.0012]\n",
    "elevator_data = DataFrame(transpose([time,gFx,gFy,gFz]),columns = [\"time\", \"gFx\",\"gFy\", \"gFz\"],index = [\"A\",\"B\",\"C\",\"D\",\"E\",\"F\",\"G\",\"H\",\"J\",\"K\"])\n",
    "\n",
    "print(elevator_data.at[\"A\",\"time\"])\n",
    "print(elevator_data.iat[0,0])\n"
   ]
  },
  {
   "cell_type": "markdown",
   "metadata": {},
   "source": [
    "The `loc` and `iloc` dictionaries (see below) can also be used to extract a single entry in the dataframe.\n",
    "\n",
    "### Extracting entire columns\n",
    "An entire column of the dataframe can be extract by indexing it like a dictionary, using the column name as the key value\n",
    "\n",
    "```python\n",
    "elevator_data[\"gFz\"]\n",
    "elevator_data[\"time\"]\n",
    "elevator_data[\"time\"][0:3]\n",
    "\n",
    "```\n",
    "\n",
    "You can bundle the column names into a list and extract multiple columns at once.\n",
    "\n",
    "```python\n",
    "elevator_data[[\"gFx\", \"gFy\", \"gFz\"]]\n",
    "\n",
    "```\n",
    "\n",
    "### Accessing entire rows\n",
    "Accessing rows in a dataframe is done with the help of the `dataframe.loc[n]` or `dataframe.iloc[n]` dictionary.  `loc` should be used if you want to slice using row and column labels whereas `iloc` should be used if you want to slice out using indices."
   ]
  },
  {
   "cell_type": "code",
   "execution_count": 52,
   "metadata": {},
   "outputs": [
    {
     "name": "stdout",
     "output_type": "stream",
     "text": [
      "time    0.0080\n",
      "gFx     0.0000\n",
      "gFy     0.0059\n",
      "gFz     1.0039\n",
      "Name: C, dtype: float64\n"
     ]
    },
    {
     "data": {
      "text/plain": [
       "time    0.0080\n",
       "gFx     0.0000\n",
       "gFy     0.0059\n",
       "gFz     1.0039\n",
       "Name: C, dtype: float64"
      ]
     },
     "execution_count": 52,
     "metadata": {},
     "output_type": "execute_result"
    }
   ],
   "source": [
    "from pandas import DataFrame\n",
    "from numpy import transpose\n",
    "\n",
    "time = [0.007,0.008,0.008,0.009,0.009,0.009,0.01,0.014,0.015,0.017]\n",
    "gFx = [-0.0056,0.007,0,0.0054,-0.0015,0.0037,-0.002,0.009,0.0012,-0.0115]\n",
    "gFy = [-0.0046,0.0024,0.0059,-0.0022,-0.0056,-0.002,-0.002,-0.0025,-0.0037,-0.002]\n",
    "gFz = [1.012,1.0022,1.0039,1.0032,1.0042,0.9951,1.002,1.0159,1.01,1.0012]\n",
    "elevator_data = DataFrame(transpose([time,gFx,gFy,gFz]),columns = [\"time\", \"gFx\",\"gFy\", \"gFz\"],index = [\"A\",\"B\",\"C\",\"D\",\"E\",\"F\",\"G\",\"H\",\"J\",\"K\"])\n",
    "\n",
    "print(elevator_data.loc[\"C\"])\n",
    "elevator_data.iloc[2]  "
   ]
  },
  {
   "cell_type": "markdown",
   "metadata": {},
   "source": [
    " Multiple rows can be accessed using the `A:B` syntax to slice out the desired rows.\n"
   ]
  },
  {
   "cell_type": "code",
   "execution_count": 25,
   "metadata": {},
   "outputs": [
    {
     "data": {
      "text/html": [
       "<div>\n",
       "<style scoped>\n",
       "    .dataframe tbody tr th:only-of-type {\n",
       "        vertical-align: middle;\n",
       "    }\n",
       "\n",
       "    .dataframe tbody tr th {\n",
       "        vertical-align: top;\n",
       "    }\n",
       "\n",
       "    .dataframe thead th {\n",
       "        text-align: right;\n",
       "    }\n",
       "</style>\n",
       "<table border=\"1\" class=\"dataframe\">\n",
       "  <thead>\n",
       "    <tr style=\"text-align: right;\">\n",
       "      <th></th>\n",
       "      <th>time</th>\n",
       "      <th>gFx</th>\n",
       "      <th>gFy</th>\n",
       "      <th>gFz</th>\n",
       "    </tr>\n",
       "  </thead>\n",
       "  <tbody>\n",
       "    <tr>\n",
       "      <th>A</th>\n",
       "      <td>0.007</td>\n",
       "      <td>-0.0056</td>\n",
       "      <td>-0.0046</td>\n",
       "      <td>1.0120</td>\n",
       "    </tr>\n",
       "    <tr>\n",
       "      <th>B</th>\n",
       "      <td>0.008</td>\n",
       "      <td>0.0070</td>\n",
       "      <td>0.0024</td>\n",
       "      <td>1.0022</td>\n",
       "    </tr>\n",
       "    <tr>\n",
       "      <th>C</th>\n",
       "      <td>0.008</td>\n",
       "      <td>0.0000</td>\n",
       "      <td>0.0059</td>\n",
       "      <td>1.0039</td>\n",
       "    </tr>\n",
       "    <tr>\n",
       "      <th>D</th>\n",
       "      <td>0.009</td>\n",
       "      <td>0.0054</td>\n",
       "      <td>-0.0022</td>\n",
       "      <td>1.0032</td>\n",
       "    </tr>\n",
       "  </tbody>\n",
       "</table>\n",
       "</div>"
      ],
      "text/plain": [
       "    time     gFx     gFy     gFz\n",
       "A  0.007 -0.0056 -0.0046  1.0120\n",
       "B  0.008  0.0070  0.0024  1.0022\n",
       "C  0.008  0.0000  0.0059  1.0039\n",
       "D  0.009  0.0054 -0.0022  1.0032"
      ]
     },
     "execution_count": 25,
     "metadata": {},
     "output_type": "execute_result"
    }
   ],
   "source": [
    "from pandas import DataFrame\n",
    "from numpy import transpose\n",
    "\n",
    "time = [0.007,0.008,0.008,0.009,0.009,0.009,0.01,0.014,0.015,0.017]\n",
    "gFx = [-0.0056,0.007,0,0.0054,-0.0015,0.0037,-0.002,0.009,0.0012,-0.0115]\n",
    "gFy = [-0.0046,0.0024,0.0059,-0.0022,-0.0056,-0.002,-0.002,-0.0025,-0.0037,-0.002]\n",
    "gFz = [1.012,1.0022,1.0039,1.0032,1.0042,0.9951,1.002,1.0159,1.01,1.0012]\n",
    "elevator_data = DataFrame(transpose([time,gFx,gFy,gFz]),columns = [\"time\", \"gFx\",\"gFy\", \"gFz\"],index = [\"A\",\"B\",\"C\",\"D\",\"E\",\"F\",\"G\",\"H\",\"J\",\"K\"])\n",
    "\n",
    "elevator_data.loc[\"A\":\"D\"]\n",
    "elevator_data.iloc[0:4]  "
   ]
  },
  {
   "cell_type": "markdown",
   "metadata": {},
   "source": [
    "### Slicing rows and columns\n",
    "\n",
    "The `loc` and `iloc` dictionaries can be used to slice across rows and columns.  Simple separate the two slices with a comma:"
   ]
  },
  {
   "cell_type": "code",
   "execution_count": null,
   "metadata": {},
   "outputs": [],
   "source": [
    "from pandas import DataFrame\n",
    "from numpy import transpose\n",
    "\n",
    "time = [0.007,0.008,0.008,0.009,0.009,0.009,0.01,0.014,0.015,0.017]\n",
    "gFx = [-0.0056,0.007,0,0.0054,-0.0015,0.0037,-0.002,0.009,0.0012,-0.0115]\n",
    "gFy = [-0.0046,0.0024,0.0059,-0.0022,-0.0056,-0.002,-0.002,-0.0025,-0.0037,-0.002]\n",
    "gFz = [1.012,1.0022,1.0039,1.0032,1.0042,0.9951,1.002,1.0159,1.01,1.0012]\n",
    "elevator_data = DataFrame(transpose([time,gFx,gFy,gFz]),columns = [\"time\", \"gFx\",\"gFy\", \"gFz\"],index = [\"A\",\"B\",\"C\",\"D\",\"E\",\"F\",\"G\",\"H\",\"J\",\"K\"])\n",
    "\n",
    "elevator_data.loc[\"A\":\"D\",\"time\":\"gFy\"]\n",
    "elevator_data.iloc[0:4,0:2]  "
   ]
  },
  {
   "cell_type": "markdown",
   "metadata": {},
   "source": [
    "### Boolean Slicing\n",
    "\n",
    "We have already seen boolean slicing in Numpy Arrays and we can use something similar on Pandas. Let's see an example:"
   ]
  },
  {
   "cell_type": "code",
   "execution_count": 30,
   "metadata": {},
   "outputs": [
    {
     "name": "stdout",
     "output_type": "stream",
     "text": [
      "    time     gFx     gFy     gFz\n",
      "A  0.007 -0.0056 -0.0046  1.0120\n",
      "B  0.008  0.0070  0.0024  1.0022\n",
      "C  0.008  0.0000  0.0059  1.0039\n",
      "D  0.009  0.0054 -0.0022  1.0032\n",
      "E  0.009 -0.0015 -0.0056  1.0042\n",
      "F  0.009  0.0037 -0.0020  0.9951\n"
     ]
    }
   ],
   "source": [
    "from pandas import DataFrame\n",
    "from numpy import transpose\n",
    "\n",
    "time = [0.007,0.008,0.008,0.009,0.009,0.009,0.01,0.014,0.015,0.017]\n",
    "gFx = [-0.0056,0.007,0,0.0054,-0.0015,0.0037,-0.002,0.009,0.0012,-0.0115]\n",
    "gFy = [-0.0046,0.0024,0.0059,-0.0022,-0.0056,-0.002,-0.002,-0.0025,-0.0037,-0.002]\n",
    "gFz = [1.012,1.0022,1.0039,1.0032,1.0042,0.9951,1.002,1.0159,1.01,1.0012]\n",
    "elevator_data = DataFrame(transpose([time,gFx,gFy,gFz]),columns = [\"time\", \"gFx\",\"gFy\", \"gFz\"],index = [\"A\",\"B\",\"C\",\"D\",\"E\",\"F\",\"G\",\"H\",\"J\",\"K\"])\n",
    "\n",
    "print(elevator_data[elevator_data[\"time\"] < 0.01])  # Slice only the rows where time < 0.01"
   ]
  },
  {
   "cell_type": "markdown",
   "metadata": {},
   "source": [
    "The statement `elevator_data[\"time\"] < 0.01` produces a boolean sequence which can be used as a set of indices to access only those entries where time is less than 0.01.\n",
    "\n",
    "More complex boolean slicing can be done with the use of the `query` function which allows you to be more specific about your boolean conditions. The example below will extract all rows in the dataframe where time > 0.008 and gFz is greater than 1.\n"
   ]
  },
  {
   "cell_type": "code",
   "execution_count": 27,
   "metadata": {},
   "outputs": [
    {
     "data": {
      "text/html": [
       "<div>\n",
       "<style scoped>\n",
       "    .dataframe tbody tr th:only-of-type {\n",
       "        vertical-align: middle;\n",
       "    }\n",
       "\n",
       "    .dataframe tbody tr th {\n",
       "        vertical-align: top;\n",
       "    }\n",
       "\n",
       "    .dataframe thead th {\n",
       "        text-align: right;\n",
       "    }\n",
       "</style>\n",
       "<table border=\"1\" class=\"dataframe\">\n",
       "  <thead>\n",
       "    <tr style=\"text-align: right;\">\n",
       "      <th></th>\n",
       "      <th>time</th>\n",
       "      <th>gFx</th>\n",
       "      <th>gFy</th>\n",
       "      <th>gFz</th>\n",
       "    </tr>\n",
       "  </thead>\n",
       "  <tbody>\n",
       "    <tr>\n",
       "      <th>D</th>\n",
       "      <td>0.009</td>\n",
       "      <td>0.0054</td>\n",
       "      <td>-0.0022</td>\n",
       "      <td>1.0032</td>\n",
       "    </tr>\n",
       "    <tr>\n",
       "      <th>E</th>\n",
       "      <td>0.009</td>\n",
       "      <td>-0.0015</td>\n",
       "      <td>-0.0056</td>\n",
       "      <td>1.0042</td>\n",
       "    </tr>\n",
       "    <tr>\n",
       "      <th>G</th>\n",
       "      <td>0.010</td>\n",
       "      <td>-0.0020</td>\n",
       "      <td>-0.0020</td>\n",
       "      <td>1.0020</td>\n",
       "    </tr>\n",
       "    <tr>\n",
       "      <th>H</th>\n",
       "      <td>0.014</td>\n",
       "      <td>0.0090</td>\n",
       "      <td>-0.0025</td>\n",
       "      <td>1.0159</td>\n",
       "    </tr>\n",
       "    <tr>\n",
       "      <th>J</th>\n",
       "      <td>0.015</td>\n",
       "      <td>0.0012</td>\n",
       "      <td>-0.0037</td>\n",
       "      <td>1.0100</td>\n",
       "    </tr>\n",
       "    <tr>\n",
       "      <th>K</th>\n",
       "      <td>0.017</td>\n",
       "      <td>-0.0115</td>\n",
       "      <td>-0.0020</td>\n",
       "      <td>1.0012</td>\n",
       "    </tr>\n",
       "  </tbody>\n",
       "</table>\n",
       "</div>"
      ],
      "text/plain": [
       "    time     gFx     gFy     gFz\n",
       "D  0.009  0.0054 -0.0022  1.0032\n",
       "E  0.009 -0.0015 -0.0056  1.0042\n",
       "G  0.010 -0.0020 -0.0020  1.0020\n",
       "H  0.014  0.0090 -0.0025  1.0159\n",
       "J  0.015  0.0012 -0.0037  1.0100\n",
       "K  0.017 -0.0115 -0.0020  1.0012"
      ]
     },
     "execution_count": 27,
     "metadata": {},
     "output_type": "execute_result"
    }
   ],
   "source": [
    "from pandas import DataFrame\n",
    "from numpy import transpose\n",
    "\n",
    "time = [0.007,0.008,0.008,0.009,0.009,0.009,0.01,0.014,0.015,0.017]\n",
    "gFx = [-0.0056,0.007,0,0.0054,-0.0015,0.0037,-0.002,0.009,0.0012,-0.0115]\n",
    "gFy = [-0.0046,0.0024,0.0059,-0.0022,-0.0056,-0.002,-0.002,-0.0025,-0.0037,-0.002]\n",
    "gFz = [1.012,1.0022,1.0039,1.0032,1.0042,0.9951,1.002,1.0159,1.01,1.0012]\n",
    "elevator_data = DataFrame(transpose([time,gFx,gFy,gFz]),columns = [\"time\", \"gFx\",\"gFy\", \"gFz\"],index = [\"A\",\"B\",\"C\",\"D\",\"E\",\"F\",\"G\",\"H\",\"J\",\"K\"])\n",
    "\n",
    "elevator_data.query(\"time > 0.008 and gFz > 1\")"
   ]
  },
  {
   "cell_type": "markdown",
   "metadata": {},
   "source": [
    ">**_To Do:_**\n",
    ">\n",
    ">1. Add print statements to the cell above until you understand what each line of code does.\n",
    ">2. Add comments next to the line of code to help you remember.\n",
    "\n",
    "\n",
    "## Performing Calculations\n",
    "Dataframes are similar to numpy arrays in that you can do math across an entire dataset.  This makes mathematical calculations very easy.  Look at the example below and try to guess what calculation is being performed\n"
   ]
  },
  {
   "cell_type": "code",
   "execution_count": 25,
   "metadata": {},
   "outputs": [
    {
     "name": "stdout",
     "output_type": "stream",
     "text": [
      "        time      gFx      gFy       gFz      a_mag\n",
      "A   9.917854 -0.05488 -0.04508   9.91760   9.917854\n",
      "B   9.821828  0.06860  0.02352   9.82156   9.821828\n",
      "C   9.838390  0.00000  0.05782   9.83822   9.838390\n",
      "D   9.831526  0.05292 -0.02156   9.83136   9.831526\n",
      "E   9.841324 -0.01470 -0.05488   9.84116   9.841324\n",
      "F   9.752067  0.03626 -0.01960   9.75198   9.752067\n",
      "G   9.819639 -0.01960 -0.01960   9.81960   9.819639\n",
      "H   9.956241  0.08820 -0.02450   9.95582   9.956241\n",
      "I   9.898073  0.01176 -0.03626   9.89800   9.898073\n",
      "J   9.812427 -0.11270 -0.01960   9.81176   9.812427\n",
      "0  11.771122 -0.49000  0.14700  11.76000  11.771122\n",
      "0  11.771122 -0.49000  0.14700  11.76000  11.771122\n",
      "        time       gFx       gFy         gFz      a_mag\n",
      "A   9.917854 -0.537824 -0.441784   97.192480   9.917854\n",
      "B   9.821828  0.672280  0.230496   96.251288   9.821828\n",
      "C   9.838390  0.000000  0.566636   96.414556   9.838390\n",
      "D   9.831526  0.518616 -0.211288   96.347328   9.831526\n",
      "E   9.841324 -0.144060 -0.537824   96.443368   9.841324\n",
      "F   9.752067  0.355348 -0.192080   95.569404   9.752067\n",
      "G   9.819639 -0.192080 -0.192080   96.232080   9.819639\n",
      "H   9.956241  0.864360 -0.240100   97.567036   9.956241\n",
      "I   9.898073  0.115248 -0.355348   97.000400   9.898073\n",
      "J   9.812427 -1.104460 -0.192080   96.155248   9.812427\n",
      "0  11.771122 -4.802000  1.440600  115.248000  11.771122\n",
      "0  11.771122 -4.802000  1.440600  115.248000  11.771122\n",
      "A     98.172088\n",
      "B     97.154064\n",
      "C     96.981192\n",
      "D     97.077232\n",
      "E     97.125252\n",
      "F     96.116832\n",
      "G     96.616240\n",
      "H     98.671496\n",
      "I     97.470996\n",
      "J     97.451788\n",
      "0    121.490600\n",
      "0    121.490600\n",
      "dtype: float64\n"
     ]
    },
    {
     "data": {
      "text/html": [
       "<div>\n",
       "<style scoped>\n",
       "    .dataframe tbody tr th:only-of-type {\n",
       "        vertical-align: middle;\n",
       "    }\n",
       "\n",
       "    .dataframe tbody tr th {\n",
       "        vertical-align: top;\n",
       "    }\n",
       "\n",
       "    .dataframe thead th {\n",
       "        text-align: right;\n",
       "    }\n",
       "</style>\n",
       "<table border=\"1\" class=\"dataframe\">\n",
       "  <thead>\n",
       "    <tr style=\"text-align: right;\">\n",
       "      <th></th>\n",
       "      <th>time</th>\n",
       "      <th>gFx</th>\n",
       "      <th>gFy</th>\n",
       "      <th>gFz</th>\n",
       "      <th>a_mag</th>\n",
       "    </tr>\n",
       "  </thead>\n",
       "  <tbody>\n",
       "    <tr>\n",
       "      <th>A</th>\n",
       "      <td>9.917854</td>\n",
       "      <td>-0.537824</td>\n",
       "      <td>-0.441784</td>\n",
       "      <td>97.192480</td>\n",
       "      <td>9.917854</td>\n",
       "    </tr>\n",
       "    <tr>\n",
       "      <th>B</th>\n",
       "      <td>9.821828</td>\n",
       "      <td>0.672280</td>\n",
       "      <td>0.230496</td>\n",
       "      <td>96.251288</td>\n",
       "      <td>9.821828</td>\n",
       "    </tr>\n",
       "    <tr>\n",
       "      <th>C</th>\n",
       "      <td>9.838390</td>\n",
       "      <td>0.000000</td>\n",
       "      <td>0.566636</td>\n",
       "      <td>96.414556</td>\n",
       "      <td>9.838390</td>\n",
       "    </tr>\n",
       "    <tr>\n",
       "      <th>D</th>\n",
       "      <td>9.831526</td>\n",
       "      <td>0.518616</td>\n",
       "      <td>-0.211288</td>\n",
       "      <td>96.347328</td>\n",
       "      <td>9.831526</td>\n",
       "    </tr>\n",
       "    <tr>\n",
       "      <th>E</th>\n",
       "      <td>9.841324</td>\n",
       "      <td>-0.144060</td>\n",
       "      <td>-0.537824</td>\n",
       "      <td>96.443368</td>\n",
       "      <td>9.841324</td>\n",
       "    </tr>\n",
       "    <tr>\n",
       "      <th>F</th>\n",
       "      <td>9.752067</td>\n",
       "      <td>0.355348</td>\n",
       "      <td>-0.192080</td>\n",
       "      <td>95.569404</td>\n",
       "      <td>9.752067</td>\n",
       "    </tr>\n",
       "    <tr>\n",
       "      <th>G</th>\n",
       "      <td>9.819639</td>\n",
       "      <td>-0.192080</td>\n",
       "      <td>-0.192080</td>\n",
       "      <td>96.232080</td>\n",
       "      <td>9.819639</td>\n",
       "    </tr>\n",
       "    <tr>\n",
       "      <th>H</th>\n",
       "      <td>9.956241</td>\n",
       "      <td>0.864360</td>\n",
       "      <td>-0.240100</td>\n",
       "      <td>97.567036</td>\n",
       "      <td>9.956241</td>\n",
       "    </tr>\n",
       "    <tr>\n",
       "      <th>I</th>\n",
       "      <td>9.898073</td>\n",
       "      <td>0.115248</td>\n",
       "      <td>-0.355348</td>\n",
       "      <td>97.000400</td>\n",
       "      <td>9.898073</td>\n",
       "    </tr>\n",
       "    <tr>\n",
       "      <th>J</th>\n",
       "      <td>9.812427</td>\n",
       "      <td>-1.104460</td>\n",
       "      <td>-0.192080</td>\n",
       "      <td>96.155248</td>\n",
       "      <td>9.812427</td>\n",
       "    </tr>\n",
       "    <tr>\n",
       "      <th>0</th>\n",
       "      <td>11.771122</td>\n",
       "      <td>-4.802000</td>\n",
       "      <td>1.440600</td>\n",
       "      <td>115.248000</td>\n",
       "      <td>11.771122</td>\n",
       "    </tr>\n",
       "    <tr>\n",
       "      <th>0</th>\n",
       "      <td>11.771122</td>\n",
       "      <td>-4.802000</td>\n",
       "      <td>1.440600</td>\n",
       "      <td>115.248000</td>\n",
       "      <td>11.771122</td>\n",
       "    </tr>\n",
       "  </tbody>\n",
       "</table>\n",
       "</div>"
      ],
      "text/plain": [
       "        time       gFx       gFy         gFz      a_mag\n",
       "A   9.917854 -0.537824 -0.441784   97.192480   9.917854\n",
       "B   9.821828  0.672280  0.230496   96.251288   9.821828\n",
       "C   9.838390  0.000000  0.566636   96.414556   9.838390\n",
       "D   9.831526  0.518616 -0.211288   96.347328   9.831526\n",
       "E   9.841324 -0.144060 -0.537824   96.443368   9.841324\n",
       "F   9.752067  0.355348 -0.192080   95.569404   9.752067\n",
       "G   9.819639 -0.192080 -0.192080   96.232080   9.819639\n",
       "H   9.956241  0.864360 -0.240100   97.567036   9.956241\n",
       "I   9.898073  0.115248 -0.355348   97.000400   9.898073\n",
       "J   9.812427 -1.104460 -0.192080   96.155248   9.812427\n",
       "0  11.771122 -4.802000  1.440600  115.248000  11.771122\n",
       "0  11.771122 -4.802000  1.440600  115.248000  11.771122"
      ]
     },
     "execution_count": 25,
     "metadata": {},
     "output_type": "execute_result"
    }
   ],
   "source": [
    "from numpy import sqrt\n",
    "print(elevator_data)\n",
    "elevator_data[[\"gFx\", \"gFy\", \"gFz\"]] *= 9.8\n",
    "print(elevator_data)\n",
    "a_magnitude  = sqrt(elevator_data[[\"gFx\", \"gFy\", \"gFz\"]]**2).sum(axis = 1)\n",
    "\n",
    "print(a_magnitude)\n",
    "max_accel = a_magnitude.max()\n",
    "\n",
    "elevator_data"
   ]
  },
  {
   "cell_type": "markdown",
   "metadata": {},
   "source": [
    "You may have noticed that `sum` method that was used to sum up each column.  The keyword argument `axis = 1` indicates that you want to sum over rows, not over columns. (`axis = 0` would result in summing over columns.) There are a few other handy methods for common mathematical operations.\n",
    "\n",
    "1. `min()` - Find the minimum value.\n",
    "2. `max()` - Find the maximum value.\n",
    "3. `cumsum()` - Cumulative sum, just like in numpy.\n",
    "4. `std()` - Standard deviation.\n",
    "5. `mean()` - Mean or average.\n",
    "6. `quantile(q)` - Find value of a give quantile `q`. \n",
    "\n",
    "\n",
    "There are a multitude of other useful math functions available.  See [here](https://pandas.pydata.org/pandas-docs/stable/reference/api/pandas.DataFrame.quantile.html) for a more comprehensive list.  Basically, any function that numpy has, pandas will also have.\n",
    "\n",
    "\n",
    "## Modifying the dataframe\n",
    "\n",
    "### Adding new columns\n",
    "\n",
    "A new column can be added to a dataframe by typing `dataframe[columnname] =` followed by a list,tuple, or array containing the new entries.  For example:"
   ]
  },
  {
   "cell_type": "code",
   "execution_count": 28,
   "metadata": {},
   "outputs": [
    {
     "name": "stdout",
     "output_type": "stream",
     "text": [
      "    time     gFx     gFy     gFz     a_mag\n",
      "A  0.007 -0.0056 -0.0046  1.0120  1.012026\n",
      "B  0.008  0.0070  0.0024  1.0022  1.002227\n",
      "C  0.008  0.0000  0.0059  1.0039  1.003917\n",
      "D  0.009  0.0054 -0.0022  1.0032  1.003217\n",
      "E  0.009 -0.0015 -0.0056  1.0042  1.004217\n",
      "F  0.009  0.0037 -0.0020  0.9951  0.995109\n",
      "G  0.010 -0.0020 -0.0020  1.0020  1.002004\n",
      "H  0.014  0.0090 -0.0025  1.0159  1.015943\n",
      "J  0.015  0.0012 -0.0037  1.0100  1.010007\n",
      "K  0.017 -0.0115 -0.0020  1.0012  1.001268\n"
     ]
    }
   ],
   "source": [
    "elevator_data[\"a_mag\"]  = sqrt( (elevator_data[[\"gFx\", \"gFy\", \"gFz\"]]**2).sum(axis = 1))\n",
    "print(elevator_data)"
   ]
  },
  {
   "cell_type": "markdown",
   "metadata": {},
   "source": [
    "### Adding a new row\n",
    "\n",
    "A row can be added to a dataframe with the `append()` function.  The argument to this function must be either i) another dataframe or ii) a dictionary.  Let's see examples of both."
   ]
  },
  {
   "cell_type": "code",
   "execution_count": 19,
   "metadata": {},
   "outputs": [
    {
     "name": "stdout",
     "output_type": "stream",
     "text": [
      "    time    gFx    gFy    gFz\n",
      "0  0.020 -0.028  0.018  1.028\n",
      "1  0.025 -0.022 -0.012  1.042\n",
      "    time     gFx     gFy     gFz\n",
      "A  0.007 -0.0056 -0.0046  1.0120\n",
      "B  0.008  0.0070  0.0024  1.0022\n",
      "C  0.008  0.0000  0.0059  1.0039\n",
      "D  0.009  0.0054 -0.0022  1.0032\n",
      "E  0.009 -0.0015 -0.0056  1.0042\n",
      "F  0.009  0.0037 -0.0020  0.9951\n",
      "G  0.010 -0.0020 -0.0020  1.0020\n",
      "H  0.014  0.0090 -0.0025  1.0159\n",
      "I  0.015  0.0012 -0.0037  1.0100\n",
      "J  0.017 -0.0115 -0.0020  1.0012\n",
      "0  0.020 -0.0500  0.0150  1.2000\n",
      "0  0.020 -0.0500  0.0150  1.2000\n"
     ]
    }
   ],
   "source": [
    "from pandas import DataFrame\n",
    "elevator_data.append({\"time\":0.02,\"gFx\":-0.028,\"gFy\":0.018,\"gFz\":1.028},ignore_index = True)  # Append using a dictionary.\n",
    "\n",
    "elevator_data2 = DataFrame({\"time\":[0.02,0.025],\"gFx\":[-0.028,-0.022],\"gFy\":[0.018,-0.012],\"gFz\":[1.028,1.042]})\n",
    "print(elevator_data2)\n",
    "elevator_data2 = DataFrame({\"time\":[0.02],\"gFx\":[-0.05],\"gFy\":[0.015],\"gFz\":[1.2]})\n",
    "\n",
    "elevator_data = elevator_data.append(elevator_data2)\n",
    "print(elevator_data)"
   ]
  },
  {
   "cell_type": "markdown",
   "metadata": {},
   "source": [
    "## Other useful methods\n",
    "\n",
    "### Getting a summary of your dataframe.\n",
    "\n",
    "The `describe()` function will calculate several useful statistical quantities and display them in a dataframe."
   ]
  },
  {
   "cell_type": "code",
   "execution_count": 47,
   "metadata": {},
   "outputs": [
    {
     "data": {
      "text/html": [
       "<div>\n",
       "<style scoped>\n",
       "    .dataframe tbody tr th:only-of-type {\n",
       "        vertical-align: middle;\n",
       "    }\n",
       "\n",
       "    .dataframe tbody tr th {\n",
       "        vertical-align: top;\n",
       "    }\n",
       "\n",
       "    .dataframe thead th {\n",
       "        text-align: right;\n",
       "    }\n",
       "</style>\n",
       "<table border=\"1\" class=\"dataframe\">\n",
       "  <thead>\n",
       "    <tr style=\"text-align: right;\">\n",
       "      <th></th>\n",
       "      <th>time</th>\n",
       "      <th>gFx</th>\n",
       "      <th>gFy</th>\n",
       "      <th>gFz</th>\n",
       "      <th>a_mag</th>\n",
       "    </tr>\n",
       "  </thead>\n",
       "  <tbody>\n",
       "    <tr>\n",
       "      <th>count</th>\n",
       "      <td>17.000000</td>\n",
       "      <td>17.000000</td>\n",
       "      <td>17.000000</td>\n",
       "      <td>17.000000</td>\n",
       "      <td>10.000000</td>\n",
       "    </tr>\n",
       "    <tr>\n",
       "      <th>mean</th>\n",
       "      <td>0.014471</td>\n",
       "      <td>0.294988</td>\n",
       "      <td>-0.896261</td>\n",
       "      <td>556.888073</td>\n",
       "      <td>945.891902</td>\n",
       "    </tr>\n",
       "    <tr>\n",
       "      <th>std</th>\n",
       "      <td>0.005421</td>\n",
       "      <td>4.354601</td>\n",
       "      <td>2.517316</td>\n",
       "      <td>479.249525</td>\n",
       "      <td>5.678238</td>\n",
       "    </tr>\n",
       "    <tr>\n",
       "      <th>min</th>\n",
       "      <td>0.007000</td>\n",
       "      <td>-10.823708</td>\n",
       "      <td>-5.270675</td>\n",
       "      <td>1.200000</td>\n",
       "      <td>936.588525</td>\n",
       "    </tr>\n",
       "    <tr>\n",
       "      <th>25%</th>\n",
       "      <td>0.009000</td>\n",
       "      <td>-0.050000</td>\n",
       "      <td>-2.070622</td>\n",
       "      <td>1.200000</td>\n",
       "      <td>943.130690</td>\n",
       "    </tr>\n",
       "    <tr>\n",
       "      <th>50%</th>\n",
       "      <td>0.015000</td>\n",
       "      <td>-0.050000</td>\n",
       "      <td>0.015000</td>\n",
       "      <td>942.321430</td>\n",
       "      <td>944.549365</td>\n",
       "    </tr>\n",
       "    <tr>\n",
       "      <th>75%</th>\n",
       "      <td>0.020000</td>\n",
       "      <td>1.129430</td>\n",
       "      <td>0.015000</td>\n",
       "      <td>944.862649</td>\n",
       "      <td>949.248416</td>\n",
       "    </tr>\n",
       "    <tr>\n",
       "      <th>max</th>\n",
       "      <td>0.020000</td>\n",
       "      <td>8.470728</td>\n",
       "      <td>5.553033</td>\n",
       "      <td>956.156953</td>\n",
       "      <td>956.197369</td>\n",
       "    </tr>\n",
       "  </tbody>\n",
       "</table>\n",
       "</div>"
      ],
      "text/plain": [
       "            time        gFx        gFy         gFz       a_mag\n",
       "count  17.000000  17.000000  17.000000   17.000000   10.000000\n",
       "mean    0.014471   0.294988  -0.896261  556.888073  945.891902\n",
       "std     0.005421   4.354601   2.517316  479.249525    5.678238\n",
       "min     0.007000 -10.823708  -5.270675    1.200000  936.588525\n",
       "25%     0.009000  -0.050000  -2.070622    1.200000  943.130690\n",
       "50%     0.015000  -0.050000   0.015000  942.321430  944.549365\n",
       "75%     0.020000   1.129430   0.015000  944.862649  949.248416\n",
       "max     0.020000   8.470728   5.553033  956.156953  956.197369"
      ]
     },
     "execution_count": 47,
     "metadata": {},
     "output_type": "execute_result"
    }
   ],
   "source": [
    "elevator_data.describe()"
   ]
  },
  {
   "cell_type": "markdown",
   "metadata": {},
   "source": [
    "### Plotting your dataframe.\n",
    "\n",
    "A histogram of each column can be easily generate with the `dataframe.hist()` function. "
   ]
  },
  {
   "cell_type": "code",
   "execution_count": 57,
   "metadata": {},
   "outputs": [
    {
     "data": {
      "text/plain": [
       "array([[<AxesSubplot:title={'center':'time'}>,\n",
       "        <AxesSubplot:title={'center':'gFx'}>],\n",
       "       [<AxesSubplot:title={'center':'gFy'}>,\n",
       "        <AxesSubplot:title={'center':'gFz'}>]], dtype=object)"
      ]
     },
     "execution_count": 57,
     "metadata": {},
     "output_type": "execute_result"
    },
    {
     "data": {
      "image/png": "[encoded data removed]",
      "text/plain": [
       "<Figure size 432x288 with 4 Axes>"
      ]
     },
     "metadata": {
      "needs_background": "light"
     },
     "output_type": "display_data"
    }
   ],
   "source": [
    "elevator_data\n",
    "elevator_data.hist()"
   ]
  },
  {
   "cell_type": "markdown",
   "metadata": {},
   "source": [
    "To make a scatter plot of a chosen set of data, use `dataframe.plot.scatter()`. The `x` and `y` keyword arguments should be used to specify which data to plot."
   ]
  },
  {
   "cell_type": "code",
   "execution_count": 50,
   "metadata": {},
   "outputs": [
    {
     "data": {
      "text/plain": [
       "<AxesSubplot:xlabel='time', ylabel='gFx'>"
      ]
     },
     "execution_count": 50,
     "metadata": {},
     "output_type": "execute_result"
    },
    {
     "data": {
      "image/png": "[encoded data removed]",
      "text/plain": [
       "<Figure size 432x288 with 1 Axes>"
      ]
     },
     "metadata": {
      "needs_background": "light"
     },
     "output_type": "display_data"
    }
   ],
   "source": [
    "elevator_data.plot.scatter(x = \"time\", y = \"gFx\")"
   ]
  },
  {
   "cell_type": "markdown",
   "metadata": {},
   "source": [
    "A wealth of other functions exist for pandas and I will not exemplify or explain them here because it is beyond the scope of the class. A nice summary sheet for pandas can be found [here](https://pandas.pydata.org/Pandas_Cheat_Sheet.pdf)\n",
    "\n",
    "\n",
    "### Writing your dataframe to file\n",
    "You have already used `savetxt` to save an entire array of numbers to a file in one step.  If your data is in a pandas dataframe, saving that dataframe to file couldn't be easier; just use `dataframe.to_csv(\"filename\")`."
   ]
  },
  {
   "cell_type": "code",
   "execution_count": 51,
   "metadata": {},
   "outputs": [],
   "source": [
    "elevator_data.to_csv(\"myelevatorData.csv\")"
   ]
  },
  {
   "cell_type": "markdown",
   "metadata": {},
   "source": [
    "Several helpful keyword arguments are available when writing to a file.  I'll list a few of them below.\n",
    "\n",
    "1. `sep` - Delimiter or character used to separate the data as a length-one string.  Default is a comma (\",\").\n",
    "2. `columns` - specify which columns in your dataframe to write as a list of column labels.\n",
    "3. `index` - `True` if you want the row labels written and `False` if you don't\n",
    "4. `compression` - specify the compression scheme as a string.  Options are 'zip','gzip', 'bz2','zstd', and 'tar'. \n",
    "\n",
    "\n",
    "Depending on the type of data you are working with, there is a good argument for always using `to_csv` to write data to file, never needing `savetxt`.\n",
    "\n",
    "\n",
    "\n",
    "## Flashcards\n",
    "1. How does `read_csv` work? Give a short example.\n",
    "2. What is the keyword argument `usecols` used for when reading a dataframe from file?\n",
    "3. How does the `DataFrame` function work and what type of arguments can you pass it?  Give a few short examples.\n",
    "4. How do you access/extract multiple columns in their entirety from a dataframe.\n",
    "5. How do you access/extract multiple rows in their entirety from a dataframe.\n",
    "6. How do you access/extract the middle part of a dataframe?\n",
    "7. How do you access/extract only the numbers in a dataframe that meet a given criteria?\n",
    "8. How do you add a new column to a dataframe?\n",
    "9. How do you add a new row to a dataframe?\n",
    "10. Recite Mosiah 4:27.\n",
    "\n",
    "## Exercises\n",
    "1. In homework problem 3 from the chapter on dictionaries and sets, you built a dictionary containing planetary information for your top three favorite planets.  \n",
    "   1. Create a dataframe from this dictionary.\n",
    "   2. Make the name of the planet be the row label.\n",
    "   3. Write this dataframe to a csv file.\n"
   ]
  },
  {
   "cell_type": "code",
   "execution_count": 5,
   "metadata": {},
   "outputs": [
    {
     "data": {
      "text/html": [
       "<div>\n",
       "<style scoped>\n",
       "    .dataframe tbody tr th:only-of-type {\n",
       "        vertical-align: middle;\n",
       "    }\n",
       "\n",
       "    .dataframe tbody tr th {\n",
       "        vertical-align: top;\n",
       "    }\n",
       "\n",
       "    .dataframe thead th {\n",
       "        text-align: right;\n",
       "    }\n",
       "</style>\n",
       "<table border=\"1\" class=\"dataframe\">\n",
       "  <thead>\n",
       "    <tr style=\"text-align: right;\">\n",
       "      <th></th>\n",
       "      <th>Mass</th>\n",
       "      <th>Diameter</th>\n",
       "      <th>Density</th>\n",
       "      <th>Gravity</th>\n",
       "      <th>Escape Velocity</th>\n",
       "      <th>Rotation Period</th>\n",
       "      <th>Length of Day</th>\n",
       "      <th>Distance from Sun</th>\n",
       "      <th>Perihelion</th>\n",
       "      <th>Aphelion</th>\n",
       "      <th>Orbital Period</th>\n",
       "      <th>Orbital Velocity</th>\n",
       "      <th>Orbital Inclination</th>\n",
       "      <th>Orbital Eccentricity</th>\n",
       "      <th>Obliquity to Orbit</th>\n",
       "      <th>Mean Temp</th>\n",
       "      <th>Surface Pressure</th>\n",
       "      <th>Number of Moons</th>\n",
       "      <th>Ring System</th>\n",
       "      <th>Global Magnetic Field</th>\n",
       "    </tr>\n",
       "  </thead>\n",
       "  <tbody>\n",
       "    <tr>\n",
       "      <th>Earth</th>\n",
       "      <td>5.970</td>\n",
       "      <td>12756</td>\n",
       "      <td>5514</td>\n",
       "      <td>9.8</td>\n",
       "      <td>11.2</td>\n",
       "      <td>23.9</td>\n",
       "      <td>24.0</td>\n",
       "      <td>149.6</td>\n",
       "      <td>147.1</td>\n",
       "      <td>152.1</td>\n",
       "      <td>365.2</td>\n",
       "      <td>29.8</td>\n",
       "      <td>0.0</td>\n",
       "      <td>0.017</td>\n",
       "      <td>23.4</td>\n",
       "      <td>15</td>\n",
       "      <td>1.00000</td>\n",
       "      <td>1</td>\n",
       "      <td>No</td>\n",
       "      <td>Yes</td>\n",
       "    </tr>\n",
       "    <tr>\n",
       "      <th>Mars</th>\n",
       "      <td>0.642</td>\n",
       "      <td>6792</td>\n",
       "      <td>3934</td>\n",
       "      <td>3.7</td>\n",
       "      <td>5.0</td>\n",
       "      <td>24.6</td>\n",
       "      <td>24.7</td>\n",
       "      <td>228.0</td>\n",
       "      <td>206.7</td>\n",
       "      <td>249.3</td>\n",
       "      <td>687.0</td>\n",
       "      <td>24.1</td>\n",
       "      <td>1.8</td>\n",
       "      <td>0.094</td>\n",
       "      <td>25.2</td>\n",
       "      <td>-65</td>\n",
       "      <td>0.01000</td>\n",
       "      <td>2</td>\n",
       "      <td>No</td>\n",
       "      <td>No</td>\n",
       "    </tr>\n",
       "    <tr>\n",
       "      <th>Pluto</th>\n",
       "      <td>0.013</td>\n",
       "      <td>2376</td>\n",
       "      <td>1850</td>\n",
       "      <td>0.7</td>\n",
       "      <td>1.3</td>\n",
       "      <td>-153.3</td>\n",
       "      <td>153.3</td>\n",
       "      <td>5906.4</td>\n",
       "      <td>4436.8</td>\n",
       "      <td>7375.9</td>\n",
       "      <td>90560.0</td>\n",
       "      <td>4.7</td>\n",
       "      <td>17.2</td>\n",
       "      <td>0.244</td>\n",
       "      <td>122.5</td>\n",
       "      <td>-225</td>\n",
       "      <td>0.00001</td>\n",
       "      <td>5</td>\n",
       "      <td>No</td>\n",
       "      <td>Unknown</td>\n",
       "    </tr>\n",
       "  </tbody>\n",
       "</table>\n",
       "</div>"
      ],
      "text/plain": [
       "        Mass  Diameter  Density  Gravity  Escape Velocity  Rotation Period  \\\n",
       "Earth  5.970     12756     5514      9.8             11.2             23.9   \n",
       "Mars   0.642      6792     3934      3.7              5.0             24.6   \n",
       "Pluto  0.013      2376     1850      0.7              1.3           -153.3   \n",
       "\n",
       "       Length of Day  Distance from Sun  Perihelion  Aphelion  Orbital Period  \\\n",
       "Earth           24.0              149.6       147.1     152.1           365.2   \n",
       "Mars            24.7              228.0       206.7     249.3           687.0   \n",
       "Pluto          153.3             5906.4      4436.8    7375.9         90560.0   \n",
       "\n",
       "       Orbital Velocity  Orbital Inclination  Orbital Eccentricity  \\\n",
       "Earth              29.8                  0.0                 0.017   \n",
       "Mars               24.1                  1.8                 0.094   \n",
       "Pluto               4.7                 17.2                 0.244   \n",
       "\n",
       "       Obliquity to Orbit  Mean Temp  Surface Pressure  Number of Moons  \\\n",
       "Earth                23.4         15           1.00000                1   \n",
       "Mars                 25.2        -65           0.01000                2   \n",
       "Pluto               122.5       -225           0.00001                5   \n",
       "\n",
       "      Ring System Global Magnetic Field  \n",
       "Earth          No                   Yes  \n",
       "Mars           No                    No  \n",
       "Pluto          No               Unknown  "
      ]
     },
     "execution_count": 5,
     "metadata": {},
     "output_type": "execute_result"
    }
   ],
   "source": [
    "from pandas import DataFrame\n",
    "earth_dict = {'Mass': 5.97,\"Diameter\":12756,\"Density\":5514,\"Gravity\":9.8,\"Escape Velocity\":11.2,\"Rotation Period\":23.9,\"Length of Day\":24,\"Distance from Sun\": 149.6,\"Perihelion\":147.1,\"Aphelion\":152.1,\"Orbital Period\":365.2,\"Orbital Velocity\":29.8,\"Orbital Inclination\":0,\"Orbital Eccentricity\":0.017, \"Obliquity to Orbit\":23.4,\"Mean Temp\":15,\"Surface Pressure\":1,\"Number of Moons\":1,\"Ring System\":\"No\",\"Global Magnetic Field\":\"Yes\"}\n",
    "mars_dict = {'Mass': 0.642,\"Diameter\":6792,\"Density\":3934,\"Gravity\":3.7,\"Escape Velocity\":5,\"Rotation Period\":24.6,\"Length of Day\":24.7,\"Distance from Sun\": 228,\"Perihelion\":206.7,\"Aphelion\":249.3,\"Orbital Period\":687,\"Orbital Velocity\":24.1,\"Orbital Inclination\":1.8,\"Orbital Eccentricity\":0.094, \"Obliquity to Orbit\":25.2,\"Mean Temp\":-65,\"Surface Pressure\":0.01,\"Number of Moons\":2,\"Ring System\":\"No\",\"Global Magnetic Field\":\"No\"}\n",
    "pluto_dict ={'Mass': 0.0130,\"Diameter\":2376,\"Density\":1850,\"Gravity\":0.7,\"Escape Velocity\":1.3,\"Rotation Period\":-153.3,\"Length of Day\":153.3,\"Distance from Sun\": 5906.4,\"Perihelion\":4436.8,\"Aphelion\":7375.9,\"Orbital Period\":90560,\"Orbital Velocity\":4.7,\"Orbital Inclination\":17.2,\"Orbital Eccentricity\":0.244, \"Obliquity to Orbit\":122.5,\"Mean Temp\":-225,\"Surface Pressure\":.00001,\"Number of Moons\":5,\"Ring System\":\"No\",\"Global Magnetic Field\":\"Unknown\"}\n",
    "\n",
    "planet_data = DataFrame((earth_dict,mars_dict, pluto_dict), index = [\"Earth\",\"Mars\",\"Pluto\"])\n",
    "planet_data.to_csv(\"planet_data.csv\")\n",
    "print(planet_data)"
   ]
  },
  {
   "cell_type": "markdown",
   "metadata": {},
   "source": [
    "2. In homework problem 2 from the chapter on numpy, you calculated the moment of inertia for 1000 different objects.  \n",
    "   1. Create a dataframe out of the mass, radius, length, and inertia data.  The dataframe should have four columns and 1000 rows.\n",
    "   2. Use `describe` to get a summary of the data.\n",
    "   3. Write the data to a .csv file and inspect the file to ensure that you did it correctly.\n"
   ]
  },
  {
   "cell_type": "code",
   "execution_count": 7,
   "metadata": {},
   "outputs": [
    {
     "data": {
      "text/html": [
       "<div>\n",
       "<style scoped>\n",
       "    .dataframe tbody tr th:only-of-type {\n",
       "        vertical-align: middle;\n",
       "    }\n",
       "\n",
       "    .dataframe tbody tr th {\n",
       "        vertical-align: top;\n",
       "    }\n",
       "\n",
       "    .dataframe thead th {\n",
       "        text-align: right;\n",
       "    }\n",
       "</style>\n",
       "<table border=\"1\" class=\"dataframe\">\n",
       "  <thead>\n",
       "    <tr style=\"text-align: right;\">\n",
       "      <th></th>\n",
       "      <th>Mass</th>\n",
       "      <th>Radius</th>\n",
       "      <th>Length</th>\n",
       "      <th>Moments</th>\n",
       "    </tr>\n",
       "  </thead>\n",
       "  <tbody>\n",
       "    <tr>\n",
       "      <th>count</th>\n",
       "      <td>1000.000000</td>\n",
       "      <td>1000.000000</td>\n",
       "      <td>1000.000000</td>\n",
       "      <td>1000.000000</td>\n",
       "    </tr>\n",
       "    <tr>\n",
       "      <th>mean</th>\n",
       "      <td>5.496107</td>\n",
       "      <td>0.837425</td>\n",
       "      <td>1.945813</td>\n",
       "      <td>2.920262</td>\n",
       "    </tr>\n",
       "    <tr>\n",
       "      <th>std</th>\n",
       "      <td>1.442107</td>\n",
       "      <td>0.201269</td>\n",
       "      <td>0.629009</td>\n",
       "      <td>1.449047</td>\n",
       "    </tr>\n",
       "    <tr>\n",
       "      <th>min</th>\n",
       "      <td>3.001338</td>\n",
       "      <td>0.500405</td>\n",
       "      <td>0.802612</td>\n",
       "      <td>0.546943</td>\n",
       "    </tr>\n",
       "    <tr>\n",
       "      <th>25%</th>\n",
       "      <td>4.205212</td>\n",
       "      <td>0.662146</td>\n",
       "      <td>1.393782</td>\n",
       "      <td>1.791946</td>\n",
       "    </tr>\n",
       "    <tr>\n",
       "      <th>50%</th>\n",
       "      <td>5.499397</td>\n",
       "      <td>0.828953</td>\n",
       "      <td>1.942238</td>\n",
       "      <td>2.676227</td>\n",
       "    </tr>\n",
       "    <tr>\n",
       "      <th>75%</th>\n",
       "      <td>6.781737</td>\n",
       "      <td>1.005308</td>\n",
       "      <td>2.498618</td>\n",
       "      <td>3.770714</td>\n",
       "    </tr>\n",
       "    <tr>\n",
       "      <th>max</th>\n",
       "      <td>7.997251</td>\n",
       "      <td>1.198852</td>\n",
       "      <td>2.997819</td>\n",
       "      <td>8.054847</td>\n",
       "    </tr>\n",
       "  </tbody>\n",
       "</table>\n",
       "</div>"
      ],
      "text/plain": [
       "              Mass       Radius       Length      Moments\n",
       "count  1000.000000  1000.000000  1000.000000  1000.000000\n",
       "mean      5.496107     0.837425     1.945813     2.920262\n",
       "std       1.442107     0.201269     0.629009     1.449047\n",
       "min       3.001338     0.500405     0.802612     0.546943\n",
       "25%       4.205212     0.662146     1.393782     1.791946\n",
       "50%       5.499397     0.828953     1.942238     2.676227\n",
       "75%       6.781737     1.005308     2.498618     3.770714\n",
       "max       7.997251     1.198852     2.997819     8.054847"
      ]
     },
     "execution_count": 7,
     "metadata": {},
     "output_type": "execute_result"
    }
   ],
   "source": [
    "from numpy.random import uniform\n",
    "from numpy import array,transpose\n",
    "\n",
    "mass = uniform(3,8,1000)\n",
    "radius = uniform(0.5,1.2,1000)\n",
    "length = uniform(0.8,3,1000)\n",
    "moments = 1/4 * array(mass)*array(radius)**2 + 1/12 * array(mass)*array(length)**2\n",
    "\n",
    "inertia_data = DataFrame(transpose([mass,radius,length,moments]),columns = [\"Mass\",\"Radius\",\"Length\",\"Moments\"])\n",
    "inertia_data.to_csv(\"InertiaData.csv\")\n",
    "inertia_data.describe()"
   ]
  },
  {
   "cell_type": "markdown",
   "metadata": {},
   "source": [
    "3. In homework problem 3 from the chapter on I/O, you read planetary data into a .csv file using `genfromtxt`.\n",
    "   1. Read the same file into a dataframe using `read_csv`.  Let the name of the planets be the row label and the physical property be the column label.\n",
    "   2. The sixth column contains the acceleration due to gravity for all of the planets in units of m/s$^2$.  Recalculate these values to be in terms of earth's value ($g = 9.78$ m/s$^2$) and modify the sixth column.\n",
    "   3. The seventh column contains the orbital period for all of the planets in units of earth years.  Recalculate these values to be in earth days and modify that column accordingly. \n",
    "   4. Add a new column labeled \"Surface Temperature\" that contains the surface temperature for each planet in Kelvins as given [here](https://solarsystem.nasa.gov/resources/681/solar-system-temperatures/).\n",
    "   5. Add a new row for a hypothetical planet (\"planet X\") and set its physical properties equal to the average of the other 9 planets that are already in the dataframe.\n",
    "   6. Determine which planets have an acceleration due to gravity that is less than earth's value ($9.8 $ m/s$^2$)\n",
    "   7. Determine which planets have an eccentricity that is greater than $0.04$.\n",
    "   8. Determine which planet(s) have an inclination greater than $1.5^\\circ$ **and** have 10 or more satellites.\n",
    "   9. Write the a .csv file containing the following columns in the dataframe: \"Name\", \"SurfaceGravity\", \"OrbitalPeriod\", and \"Satellites\".\n",
    "   10. Write the entire dataframe to a separate file.  \n",
    "\n",
    "   Hints:  \n",
    "      1. For part 5 you will want to use `describe` to generate a dataframe of summary statistics. Then use `append` to add the row labeled \"mean\" to your original planetary database. Then use `rename` to rename that row from `mean` to `Planet X`.  \n",
    "      2. The column label for the acceleration due to gravity start with a space: \" SurfaceGravity\" not \"SurfaceGravity\".\n",
    "      3. For part 8 use `query`.  To include the space in the column names, enclose the name in backticks \"\\`\". (i.e. \" ` Inclination` > 0.04\")"
   ]
  },
  {
   "cell_type": "code",
   "execution_count": 4,
   "metadata": {},
   "outputs": [],
   "source": [
    "import numpy as np\n",
    "from pandas import read_csv\n",
    "planet_data = read_csv(\"planets.csv\")\n",
    "planet_data = planet_data.rename(index={0:\"Mercury\",1:\"Venus\",2:\"Earth\",3:\"Mars\",4:\"Jupiter\",5:\"Saturn\",6:\"Uranus\",7:\"Neptune\",8:\"Pluto\"})\n",
    "g = 9.78\n",
    "planet_data[\" SurfaceGravity\"] /= g\n",
    "planet_data[\" OrbitalPeriod\"] *= 365\n",
    "planet_data[\"Surface Temperature\"] = np.array([167,464,15,-65,-110,-140,-195,-200,-225])+273\n",
    "planet_data.describe()\n",
    "planet_data = planet_data.append(planet_data.describe().loc[\"mean\"])\n",
    "planet_data = planet_data.rename(index = {\"mean\":\"Planet X\"})\n",
    "partF = planet_data[planet_data[\" SurfaceGravity\"]<1]\n",
    "partG = planet_data[planet_data[\" Eccentricity\"]> 0.04]\n",
    "partH = planet_data.query(\"` Inclination` > 1.5 and ` Satellites` >= 10\")\n",
    "planet_data[[\" SurfaceGravity\",\" OrbitalPeriod\",\" Satellites\"]].to_csv(\"Part-I.csv\")\n",
    "planet_data.to_csv(\"Part-J.csv\")"
   ]
  },
  {
   "cell_type": "markdown",
   "metadata": {},
   "source": [
    "### Stuff in class"
   ]
  },
  {
   "cell_type": "code",
   "execution_count": 3,
   "metadata": {},
   "outputs": [
    {
     "data": {
      "image/png": "[encoded data removed]",
      "text/plain": [
       "<Figure size 432x288 with 1 Axes>"
      ]
     },
     "metadata": {
      "needs_background": "light"
     },
     "output_type": "display_data"
    }
   ],
   "source": [
    "from matplotlib import pyplot as plt\n",
    "import numpy as np\n",
    "x = np.linspace(0,20*np.pi, 200)\n",
    "y1 = np.sin(x)*np.exp(-1/20 * x)\n",
    "y2 = np.sin(x)*np.exp(-1/5 * x)\n",
    "plt.plot(x,y1,color = \"m\", label = \"Y1\")\n",
    "plt.plot(x,y2,color = \"c\", label = \"Y2\")\n",
    "plt.show()"
   ]
  },
  {
   "cell_type": "code",
   "execution_count": 16,
   "metadata": {},
   "outputs": [
    {
     "data": {
      "image/png": "[encoded data removed]",
      "text/plain": [
       "<Figure size 432x288 with 2 Axes>"
      ]
     },
     "metadata": {
      "needs_background": "light"
     },
     "output_type": "display_data"
    }
   ],
   "source": [
    "fig = plt.figure()\n",
    "\n",
    "ax1 = fig.add_subplot(1,2,1)\n",
    "ax1.plot(x,y1,color = 'k', ls = '-.', label = \"Y1\")\n",
    "ax1.legend()\n",
    "\n",
    "ax2 = fig.add_subplot(1,2,2)\n",
    "ax2.plot(x,y2, color = 'r', label = \"Y2\")\n",
    "ax2.legend()\n",
    "plt.show()"
   ]
  },
  {
   "cell_type": "code",
   "execution_count": 35,
   "metadata": {},
   "outputs": [
    {
     "data": {
      "image/png": "[encoded data removed]",
      "text/plain": [
       "<Figure size 432x288 with 3 Axes>"
      ]
     },
     "metadata": {
      "needs_background": "light"
     },
     "output_type": "display_data"
    }
   ],
   "source": [
    "fig = plt.figure()\n",
    "\n",
    "ax1 = fig.add_subplot(2,2,3)\n",
    "ax1.plot(x,y1,color = 'k', ls = '-.', label = \"Y1\")\n",
    "ax1.legend()\n",
    "ax1.set_xlabel(\"x\")\n",
    "ax1.set_ylabel(\"y\")\n",
    "\n",
    "ax2 = fig.add_subplot(2,2,4)\n",
    "ax2.plot(x,y2, color = 'r', label = \"Y2\")\n",
    "ax2.legend()\n",
    "ax2.set_xlabel(\"x\")\n",
    "ax2.set_ylabel(\"y\")\n",
    "\n",
    "my_func = (np.sin(x)*np.cos(x))*np.exp(-1/100*x**2)\n",
    "mine = fig.add_subplot(2,1,1)\n",
    "mine.plot(x,my_func,color = \"b\", label = \"mine\")\n",
    "mine.legend()\n",
    "mine.set_xlabel(\"x\")\n",
    "mine.set_ylabel(\"y\")\n",
    "\n",
    "plt.tight_layout()"
   ]
  },
  {
   "cell_type": "code",
   "execution_count": 53,
   "metadata": {},
   "outputs": [
    {
     "data": {
      "image/png": "[encoded data removed]",
      "text/plain": [
       "<Figure size 720x720 with 1 Axes>"
      ]
     },
     "metadata": {
      "needs_background": "light"
     },
     "output_type": "display_data"
    }
   ],
   "source": [
    "x = np.linspace(-5,5,200)\n",
    "y = np.linspace(-6,6,200)\n",
    "X,Y = np.meshgrid(x,y)\n",
    "\n",
    "F = np.exp(-np.abs(X-np.sin(Y)))*(1+1/5 * np.cos(X/2))*(1+4/(3+10*Y**2))\n",
    "plt.figure(figsize=(10,10))\n",
    "ax = plt.axes(projection = '3d')\n",
    "ax.plot_surface(X,Y,F)\n",
    "ax.set_xlabel(\"X\")\n",
    "ax.set_ylabel(\"Y\")\n",
    "ax.view_init(15,70)\n",
    "plt.show()"
   ]
  },
  {
   "cell_type": "code",
   "execution_count": null,
   "metadata": {},
   "outputs": [],
   "source": []
  }
 ],
 "metadata": {
  "kernelspec": {
   "display_name": "Python 3 (ipykernel)",
   "language": "python",
   "name": "python3"
  },
  "language_info": {
   "codemirror_mode": {
    "name": "ipython",
    "version": 3
   },
   "file_extension": ".py",
   "mimetype": "text/x-python",
   "name": "python",
   "nbconvert_exporter": "python",
   "pygments_lexer": "ipython3",
   "version": "3.9.7"
  }
 },
 "nbformat": 4,
 "nbformat_minor": 4
}
