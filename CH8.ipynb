{
 "cells": [
  {
   "cell_type": "raw",
   "metadata": {},
   "source": [
    "---\n",
    "reference-location: margin\n",
    "citation-location: margin\n",
    "execute:\n",
    "  freeze: auto\n",
    "  cache: true\n",
    "---"
   ]
  },
  {
   "cell_type": "markdown",
   "metadata": {},
   "source": [
    "# Functions\n",
    "\n",
    "[Jupyter Notebook](https://lancejnelson.github.io/PH135/jupyter/functions.ipynb)\n",
    "\n",
    "\n",
    "We have already been using functions here and there but in this chapter we will introduce them formally and get into the details.  A function encapsulates a block of code designed to perform a specific task or set of tasks.  To perform the task correctly, most functions require that you provide some information (called arguments) when you call them.  To call a function you type the name of the function followed by the needed arguments enclosed in parenthesis (`()`). \n",
    "\n",
    "\n",
    "```\n",
    "functionName(argument1, argument2, argument3...)\n",
    "```\n",
    "\n",
    "The **number and type** of arguments allowed is different for every function.  As a first example, let's consider the `print` function, which is the simplest (and most familiar) function that we have used so far.  \n"
   ]
  },
  {
   "cell_type": "code",
   "execution_count": 1,
   "metadata": {},
   "outputs": [
    {
     "name": "stdout",
     "output_type": "stream",
     "text": [
      "print is a function\n",
      "print is a function\n",
      "5\n",
      "5 4\n",
      "[5, 4, 2, 5]\n",
      "\n"
     ]
    }
   ],
   "source": [
    "print(\"print is a function\")  #Single string argument\n",
    "print(\"print\", \"is\", \"a\", \"function\") # Multiple string arguments\n",
    "print(5) # Single integer argument\n",
    "print(5,4) # Multiple integer argument\n",
    "print([5,4,2,5])  # Single list argument\n",
    "print() # No arguments"
   ]
  },
  {
   "cell_type": "markdown",
   "metadata": {},
   "source": [
    "The `print` function is pretty flexible in what it allows for arguments;  the arguments can be any type of data (strings, ints, floats, booleans, and even lists) and the number of arguments can be as large as you want.  Most functions are a little more strict on what they allow their arguments to be.  For example, the `factorial` function only allows one argument and that argument must be an integer.[^factorial]  If you attempt to call the factorial function with a float argument or with more than one argument, the result will be an error. \n",
    "\n",
    "\n",
    "[^factorial]: The factorial of a float can be calculated, but the math library is not equipped to handle it."
   ]
  },
  {
   "cell_type": "code",
   "execution_count": 4,
   "metadata": {},
   "outputs": [],
   "source": [
    "#| eval: false\n",
    "from math import factorial\n",
    "#a = factorial(5.54)\n",
    "#b = factorial(5,3)"
   ]
  },
  {
   "cell_type": "markdown",
   "metadata": {},
   "source": [
    ">**_To Do:_**\n",
    ">\n",
    ">1. Run the code above and take note of the error message that results.  \n",
    ">2. Comment out the definition of `a` so you can also see the error message for the definition of `b`.\n",
    "\n",
    "\n",
    "\n",
    "Python functions generally fall into three groups: functions that come standard with Python (called native functions), functions that you can import into Python, and functions that you write yourself.\n",
    "\n",
    "\n",
    "## Native Functions\n",
    "\n",
    "There are a few functions that are always ready to go whenever you run Python. They are included with the programming language. We call these functions native functions. You have already been using some of them, like these\n"
   ]
  },
  {
   "cell_type": "code",
   "execution_count": 5,
   "metadata": {},
   "outputs": [],
   "source": [
    "myList = [5,6,2,1]\n",
    "a = len(myList)  # 'len' function is native.\n",
    "\n",
    "b = float(5) # 'float' function is native.\n",
    "\n",
    "c = str(67.3)  # 'str' function is native."
   ]
  },
  {
   "cell_type": "markdown",
   "metadata": {},
   "source": [
    "The `len`, `float` and `str` functions are all native and they all take **a single argument**. Other native function have been mentioned in previous chapters and others will be mentioned in the future.\n",
    "\n",
    "\n",
    "## Imported Functions\n",
    "\n",
    "Many times, you will need to go beyond what Python can do by itself[^notNative]. However, that doesn’t mean you have to create everything you need to do from scratch. Most likely, the function that you need has already been coded. Somebody else created the function and made it available to anyone who wants it. Groups of functions that perform similar tasks are typically bundled together into libraries ready to be imported so that the functions that they contain can be used.\n",
    "\n",
    "\n",
    "In order to use use a function correctly, you'll need to know what information(arguments) the function expects you to give it and what information the function intends to return to you as a result. This information can be found in the library’s documentation. Most libraries have great documentation with lists of the included functions, what the functions do, the expected arguments, and examples on how to use the most common ones. You can usually find the library documentation by searching the internet for the library’s name plus \"Python documentation\".\n",
    "\n",
    "Providing a complete list of all available libraries and function is not really the purpose of this book. Instead, we’ll illustrate how to import functions and use them. As you use Python more and more you should get in the habit of searching out the appropriate library to accomplish the task at hand. When faced with a task to accomplish, your first thought should be, “ I’ll bet somebody has already done that. I’m going to try to find that library.”\n",
    "\n",
    "Functions are imported using the `import` statement. You’ve already seen how to perform very simple mathematical calculations ($5/6$,$84$, etc..), but for more complex mathematical calculations like $\\sin( {\\pi \\over 2} )$ or $e^{2.5}$ , you’ll need to import these functions from a library.\n",
    "\n",
    "[^notNative]: For example, Python does not include $\\sin()$ or $\\cos()$ as Native functions.\n"
   ]
  },
  {
   "cell_type": "code",
   "execution_count": 6,
   "metadata": {},
   "outputs": [],
   "source": [
    "import math\n",
    "\n",
    "a = math.sqrt(5.2)\n",
    "b = math.sin(math.pi)\n",
    "c = math.e**2.5"
   ]
  },
  {
   "cell_type": "markdown",
   "metadata": {},
   "source": [
    "The `math.` before each function is equivalent to telling Python \"Use the `sqrt()` function that you will find in the `math` book I told you to grab.\" If you just type\n"
   ]
  },
  {
   "cell_type": "code",
   "execution_count": 7,
   "metadata": {},
   "outputs": [
    {
     "ename": "NameError",
     "evalue": "name 'sqrt' is not defined",
     "output_type": "error",
     "traceback": [
      "\u001b[1;31m---------------------------------------------------------------------------\u001b[0m",
      "\u001b[1;31mNameError\u001b[0m                                 Traceback (most recent call last)",
      "\u001b[1;32m~\\AppData\\Local\\Temp/ipykernel_20916/2808608333.py\u001b[0m in \u001b[0;36m<module>\u001b[1;34m\u001b[0m\n\u001b[0;32m      1\u001b[0m \u001b[1;31m#| eval: false\u001b[0m\u001b[1;33m\u001b[0m\u001b[1;33m\u001b[0m\u001b[0m\n\u001b[1;32m----> 2\u001b[1;33m \u001b[0msqrt\u001b[0m\u001b[1;33m(\u001b[0m\u001b[1;36m5.2\u001b[0m\u001b[1;33m)\u001b[0m\u001b[1;33m\u001b[0m\u001b[1;33m\u001b[0m\u001b[0m\n\u001b[0m",
      "\u001b[1;31mNameError\u001b[0m: name 'sqrt' is not defined"
     ]
    }
   ],
   "source": [
    "#| eval: false\n",
    "sqrt(5.2)"
   ]
  },
  {
   "cell_type": "markdown",
   "metadata": {},
   "source": [
    "Python won't know where to find the `sqrt` function and an error message will result.  Sometimes the name of the module can be long and typing `module.` every time you want to use one of it's functions can be cumbersome.  One way around this is to rename the module to a shorter name using the `as` statement."
   ]
  },
  {
   "cell_type": "code",
   "execution_count": 8,
   "metadata": {},
   "outputs": [],
   "source": [
    "import math as mt\n",
    "\n",
    "a = mt.sqrt(5.2)\n",
    "b = mt.sin(mt.pi)\n",
    "c = mt.e**2.5"
   ]
  },
  {
   "cell_type": "markdown",
   "metadata": {},
   "source": [
    "Instead of importing an entire module, you can import only a selection of functions from that module using the `from` statement.  This can make your code even more succinct by eliminating the `module.` prefix altogether.  The trade-off is that it won't be as clear which function belongs to which module."
   ]
  },
  {
   "cell_type": "code",
   "execution_count": 9,
   "metadata": {},
   "outputs": [],
   "source": [
    "from math  import sqrt, sin, pi, e\n",
    "\n",
    "a = sqrt(5.2)\n",
    "b = sin(pi)\n",
    "c = e**2.5"
   ]
  },
  {
   "cell_type": "markdown",
   "metadata": {},
   "source": [
    "All of the functions belonging to a module can be imported at once using `*`."
   ]
  },
  {
   "cell_type": "code",
   "execution_count": 10,
   "metadata": {},
   "outputs": [],
   "source": [
    "from math import *\n",
    "\n",
    "a = sqrt(5.2)\n",
    "b = sin(pi)\n",
    "c = e**2.5\n"
   ]
  },
  {
   "cell_type": "markdown",
   "metadata": {},
   "source": [
    "## User-defined Functions\n",
    "\n",
    "After having programmed for a while, you will notice that certain tasks get repeated frequently.  For example, maybe in your research project you need to calculate the force exerted on an atom due to many other nearby atoms.  You could copy and paste your force-calculation code every time it was needed, but that would likely result in lots of extra code and become very cumbersome to work with.   You can avoid this by creating your own function to calculate the force between any two atoms.  Then, every time you need another force calculation, you simple call the function again.   You only write the force-calculation part of the code once and then you execute it as many times as you need to. \n",
    "\n",
    "\n",
    "To create your own function, you first need to name the function.  The name should be descriptive of what it does and makes sense to you and anyone else who might use it.  The first line of a function definition starts with the `def` statement (short for definition) followed by the name of the function with whatever information, called *arguments*, that needs to be fed into the function enclosed in parenthesis. **The last character in this line must be a colon.**  Everything inside the function is indented four spaces and placed directly below the first line."
   ]
  },
  {
   "cell_type": "code",
   "execution_count": 11,
   "metadata": {},
   "outputs": [
    {
     "ename": "IndentationError",
     "evalue": "expected an indented block (Temp/ipykernel_20916/1425682046.py, line 5)",
     "output_type": "error",
     "traceback": [
      "\u001b[1;36m  File \u001b[1;32m\"C:\\Users\\bryce\\AppData\\Local\\Temp/ipykernel_20916/1425682046.py\"\u001b[1;36m, line \u001b[1;32m5\u001b[0m\n\u001b[1;33m    # Body of Function\u001b[0m\n\u001b[1;37m                      ^\u001b[0m\n\u001b[1;31mIndentationError\u001b[0m\u001b[1;31m:\u001b[0m expected an indented block\n"
     ]
    }
   ],
   "source": [
    "#| eval: false\n",
    "def functionName(arg1,arg2,arg3):\n",
    "    # Body of Function\n",
    "    # Body of Function\n",
    "    # Body of Function\n"
   ]
  },
  {
   "cell_type": "markdown",
   "metadata": {},
   "source": [
    "As an example, let's construct a function that calculates the distance between two atoms.  The function will need to know the location of each atom, which means that there should be two arguments: the xyz coordinates of both atoms passed as a pair of lists or tuples.\n"
   ]
  },
  {
   "cell_type": "code",
   "execution_count": 12,
   "metadata": {},
   "outputs": [
    {
     "name": "stdout",
     "output_type": "stream",
     "text": [
      "The distance is 5.1962.\n",
      "The distance is 7.2560.\n"
     ]
    }
   ],
   "source": [
    "import math\n",
    "\n",
    "def distance(coords1,coords2):\n",
    "\n",
    "    dx = coords1[0] - coords2[0]\n",
    "    dy = coords1[1] - coords2[1]\n",
    "    dz = coords1[2] - coords2[2]\n",
    "    d = math.sqrt(dx**2 + dy**2 + dz**2)\n",
    "    print(f\"The distance is {d:5.4f}.\")\n",
    "\n",
    "distance([1,2,3],[4,5,6])\n",
    "\n",
    "distance([4.2,9.6,4.8],[2.9,2.6,3.4])\n"
   ]
  },
  {
   "cell_type": "markdown",
   "metadata": {},
   "source": [
    "This function works just fine with integers or floats for the coordinates.\n",
    "\n",
    "\n",
    "### The `return` statement\n",
    "\n",
    "The `distance` function prints out the value for the distance, but what if we want to use this distance in a subsequent calculation? Maybe we want to calculate the average distance between several pairs of atoms.  We can instruct the function to return the final distance using the `return` statement.  If the arguments to the function are the inputs, the `return` statement specifies what the output is.  Let's modify the function above to include a `return` statement."
   ]
  },
  {
   "cell_type": "code",
   "execution_count": null,
   "metadata": {},
   "outputs": [],
   "source": [
    "import math\n",
    "def distance(coords1,coords2):\n",
    "    dx = coords1[0] - coords2[0]\n",
    "    dy = coords1[1] - coords2[1]\n",
    "    dz = coords1[2] - coords2[2]\n",
    "    d = math.sqrt(dx**2 + dy**2 + dz**2)\n",
    "    return d\n",
    "\n",
    "distOne = distance([1,2,3],[4,5,6])\n",
    "\n",
    "distTwo = distance([4.2,9.6,4.8],[2.9,2.6,3.4])\n",
    "\n",
    "averageDistance = (distOne + distTwo)/2\n",
    "\n",
    "print(f\"The average distance is {averageDistance:5.4f}.\")"
   ]
  },
  {
   "cell_type": "markdown",
   "metadata": {},
   "source": [
    "### Local vs Global Variable Scope\n",
    "\n",
    "Variables created inside of a function have *local scope*.  This means that they are not accessible outside of the function. In our `distance` function the variables `dx`,`dy`,`dz`, and `d` were all local variables that are used inside the function but have no value outside of it. This is convenient because we don't have to worry about overwriting a variable or using it twice. If someone sends you a function and you want to use it in your code, you don't have to worry about what variable he/she chose to use inside his function; they won't affect your code at all.    \n"
   ]
  },
  {
   "cell_type": "code",
   "execution_count": null,
   "metadata": {},
   "outputs": [],
   "source": [
    "#| eval: false\n",
    "\n",
    "def distance(coords1,coords2):\n",
    "    dx = coords1[0] - coords2[0]\n",
    "    dy = coords1[1] - coords2[1]\n",
    "    dz = coords1[2] - coords2[2]\n",
    "    d = math.sqrt(dx**2 + dy**2 + dz**2)\n",
    "    return d\n",
    "\n",
    "distOne = distance([1,2,3],[4,5,6])\n",
    "\n",
    "print(dx)  # There is no value associated with this variable outside of the function."
   ]
  },
  {
   "cell_type": "markdown",
   "metadata": {},
   "source": [
    "The down side to all of this is that you don't have access to function variables unless you pass them out of the function using the `return` statement.  \n",
    "\n",
    "Any variables defined outside of a function is called a *global variable*, which means that Python remembers these assignments from anywhere in your code including inside of functions.   Using global variables with the intention to use them inside of functions is usually considered bad form and confusing and is discouraged.  One notable exception to this rule are physical constants like $g = 9.8$ m/s$^2$ (acceleration due to gravity on Earth) or $k_B = 1.38 \\times 10^{-23}$ (Boltzmann's constant which is used heavily in thermodynamics) because these values will never change and may be used repeatedly.  Generally speaking every variable that is used in a function ought to be either i) passed in as an argument or ii) defined inside of the function.  Below is an example of an appropriate use of a global variable.\n"
   ]
  },
  {
   "cell_type": "code",
   "execution_count": 13,
   "metadata": {},
   "outputs": [],
   "source": [
    "def myFunction(a,b):\n",
    "    c=a+g # <--- Notice the reference to 'g' here \n",
    "    d = 3.0 * c\n",
    "    f = 5.0 * d**4\n",
    "    return f\n",
    "\n",
    "#The variable below are global variables. \n",
    "r = 10\n",
    "t = 15\n",
    "g = 9.8         #<--- g defined to be a global variable\n",
    "result = myFunction(r,t)\n"
   ]
  },
  {
   "cell_type": "markdown",
   "metadata": {},
   "source": [
    "### Positional vs. Keyword Arguments\n",
    "\n",
    "\n",
    "The function arguments we have been using so far are called *positional arguments* because they are required to be in a specific position inside the parenthesis.  To see what I mean consider the example below.\n"
   ]
  },
  {
   "cell_type": "code",
   "execution_count": 14,
   "metadata": {},
   "outputs": [
    {
     "name": "stdout",
     "output_type": "stream",
     "text": [
      "25 32\n"
     ]
    }
   ],
   "source": [
    "def example(a,b):\n",
    "    return a**b\n",
    "\n",
    "\n",
    "resultOne = example(5,2)\n",
    "resultTwo = example(2,5)\n",
    "\n",
    "print(resultOne, resultTwo)"
   ]
  },
  {
   "cell_type": "markdown",
   "metadata": {},
   "source": [
    "In the first call to `example` the local variable `a` gets assigned to be 5 and the local variable `b` gets assigned 2.  In the second call the order of the arguments is switched and the subsequent assignments to `a` and `b` switch with it.  This produces a different result from the function.  Positional arguments are very common but the user must know what information goes where when calling the function.[^meaningfulNames]\n",
    "\n",
    "The other type of argument is the *keyword argument*.  These arguments are attached to a keyword inside of the parenthesis.  The advantage of a keyword argument is that the user does not need to be concerned about the location of the argument as long as it has the proper label.\n",
    "\n",
    "[^meaningfulNames]: This is another reason why you want to choose meaningful variable names for your arguments.\n"
   ]
  },
  {
   "cell_type": "code",
   "execution_count": 15,
   "metadata": {},
   "outputs": [
    {
     "name": "stdout",
     "output_type": "stream",
     "text": [
      "25 25\n"
     ]
    }
   ],
   "source": [
    "def example(a=1,b=2):\n",
    "    return a**b\n",
    "\n",
    "\n",
    "resultOne = example(a=5,b=2)\n",
    "resultTwo = example(b=2,a=5)\n",
    "\n",
    "print(resultOne, resultTwo)"
   ]
  },
  {
   "cell_type": "markdown",
   "metadata": {},
   "source": [
    "Another advantage to using keyword arguments is that a default value can be coded into the function. This means that we can call the function with some arguments missing and default values will be used for them.  In the example above, the default value of `b` is 2 and if the function is called without specifying a value for that argument, the function will proceed as usual using the default value for `b`.\n"
   ]
  },
  {
   "cell_type": "code",
   "execution_count": 17,
   "metadata": {},
   "outputs": [
    {
     "name": "stdout",
     "output_type": "stream",
     "text": [
      "81\n",
      "25\n"
     ]
    }
   ],
   "source": [
    "def example(a=1,b=2):\n",
    "    return a**b\n",
    "\n",
    "\n",
    "result = example(a=5)\n",
    "print(result)"
   ]
  },
  {
   "cell_type": "markdown",
   "metadata": {},
   "source": [
    "### Splatting\n",
    "Functions can potentially require dozens of arguments to be passed in which can make calling the function long and difficult to look at.  One way to shorten the code is to put all of the arguments in a list or tuple. "
   ]
  },
  {
   "cell_type": "code",
   "execution_count": 20,
   "metadata": {},
   "outputs": [
    {
     "name": "stdout",
     "output_type": "stream",
     "text": [
      "627.0\n"
     ]
    }
   ],
   "source": [
    "def func(a,b,c,d):\n",
    "\n",
    "    return a**b + c/d\n",
    "args  = (5,4,6,3)\n",
    "\n",
    "result = func(*args)\n",
    "\n",
    "print(result)"
   ]
  },
  {
   "cell_type": "markdown",
   "metadata": {},
   "source": [
    "### Lambda Functions\n",
    "\n",
    "When the function you want to construct is very simple (one line), there is a shortcut code for making it called a *lambda function*.  The benefit is that they occupy less lines of code than the standard `def` functions.  A lambda function is defined as shown below with the variable immediately after the `lambda` statement as the independent variable in the function.\n"
   ]
  },
  {
   "cell_type": "code",
   "execution_count": 21,
   "metadata": {},
   "outputs": [
    {
     "name": "stdout",
     "output_type": "stream",
     "text": [
      "25\n"
     ]
    }
   ],
   "source": [
    "f = lambda x: x**2\n",
    "\n",
    "print(f(5))"
   ]
  },
  {
   "cell_type": "markdown",
   "metadata": {},
   "source": [
    "As a simple application of lambda functions let's consider a function from the `scipy.integrate` library called `quad` which will perform a numerical integration of a function.  The `quad` function takes three arguments: the function to be integrated, and the upper and lower bound on the integral. We can use a lambda function for the first argument rather than using several lines of code to build one in the traditional fashion.\n"
   ]
  },
  {
   "cell_type": "code",
   "execution_count": 22,
   "metadata": {},
   "outputs": [
    {
     "data": {
      "text/plain": [
       "(0.15322553581056808, 1.7011451781741914e-15)"
      ]
     },
     "execution_count": 22,
     "metadata": {},
     "output_type": "execute_result"
    }
   ],
   "source": [
    "from scipy.integrate import quad\n",
    "from math import sin, pi\n",
    "\n",
    "quad(lambda x: sin(pi * x)**2,0,0.4 )\n"
   ]
  },
  {
   "cell_type": "markdown",
   "metadata": {},
   "source": [
    "## Flash Cards\n",
    "1. Describe the basic structure and key elements of a user-defined function.\n",
    "2. What are function arguments?\n",
    "3. List all of the ways that a function can be imported from a module.\n",
    "4. What does the `return` statement do?\n",
    "5. What is the difference between a local and global variables?\n",
    "6. What is a keyword argument? Give an example.\n",
    "7. What is a lambda function? How do you make one? \n",
    "8. Recite Alma 32:21.\n",
    "\n",
    "\n",
    "## Exercises\n",
    "1. A wooden block is placed on a horizontal surface and pushed across the floor with an initial velocity of $v_0$.  The expression for the position of the block after $t$ seconds have elapsed is $$x(t) = v_0 t - {1\\over 2} \\mu g t^2$$ where $\\mu$ is the coefficient of friction and $g = 9.8$ m/s$^2$.  You can easily calculate the time it takes for the block to come to rest to be $$ T = {v_0 \\over \\mu g}$$.  \n",
    "\n",
    "    1. Write a function that takes the coefficient of friction and the initial velocity as arguments and returns the total distance traveled while coming to rest.  \n",
    "    2. Call the function for $v_0 = 7.2$ m/s and the following values of $\\mu = 0.62,0.3,0.45,0.2$.  The answers should be: $[4.266, 8.816, 5.878, 13.224]$.\n",
    "    3. Use list comprehension to put these travel distances into a list.  \n",
    "    4. Use the  `zip` function to combine the list of friction coefficients with the list of travel distances. \n",
    "    5. Use a `print` statement to verify that you did it correctly.\n"
   ]
  },
  {
   "cell_type": "code",
   "execution_count": 3,
   "metadata": {},
   "outputs": [
    {
     "name": "stdout",
     "output_type": "stream",
     "text": [
      "[4.265964450296248, 8.816326530612248, 5.877551020408163, 13.224489795918366]\n",
      "[(0.62, 4.265964450296248), (0.3, 8.816326530612248), (0.45, 5.877551020408163), (0.2, 13.224489795918366)]\n"
     ]
    }
   ],
   "source": [
    "def period(v0,μ,g=9.8):\n",
    "    T = v0/(μ*g)\n",
    "    return T\n",
    "def position(v0,μ,g=9.8):\n",
    "    t = period(v0,μ)\n",
    "    x = v0*t -1/2 * μ*g*t**2\n",
    "    return x\n",
    "\n",
    "v0 = 7.2\n",
    "μ = [0.62,0.3,0.45,0.2]\n",
    "distances = [position(v0,coefficient) for coefficient in μ]\n",
    "print(distances)\n",
    "\n",
    "answer = zip(μ,distances)\n",
    "print(list(answer))"
   ]
  },
  {
   "cell_type": "markdown",
   "metadata": {},
   "source": [
    "2. In quantum mechanics you will learn that the energy of an electron can't just be any old value, but can only be certain discrete values.  For the hydrogen atom, the allowed energy levels for the electron (in units of electron-volts) are given by $$E(n) = {-m_e e^3 \\over 32 \\pi^2 \\epsilon_0^2 \\hbar^2 n^2}$$  where $n$ must be an integer and the other constants are\n",
    "    - $m_e = 9.109 \\times 10^{-31}$ kg is the mass of an electron.\n",
    "    - $e = 1.602 \\times 10^{-19}$ C is the fundamental.\n",
    "    - $\\epsilon_0 = 8.854 \\times 10^{-12}$ C V$^{-1}$ m$^{-1}$ is the electrical constant.\n",
    "    - $\\hbar = 1.054 \\times 10^{-34}$ J s is the reduced Planck constant.\n",
    "\n",
    "   1. Construct a function that takes the quantum number ($n$) as an argument and returns the energy of the electron in units of electron-volts.  All of the fundamental constants in the equation should appear as keyword arguments with default values attached. Call the function for a few values of $n$ to make sure it is working.  You should find that $E(1) = -13.6$ eV, $E(2) = -3.4$ eV, $E(3) = -1.5$ eV, etc.\n",
    "   2. When an electron transitions from a high energy state to a low energy state, it releases a bundle of light (called a \"photon\") with an energy that is exactly equal to the energy difference. Use the function you built in part 1 to calculate the energy of a photon that is released when an electron transitions from the $n = 5$ state to the $n = 2$ state.\n",
    "   3.  The wavelength ($\\lambda$) of the photon can by calculated using the following equation: $$\\lambda = {2 \\pi \\hbar c \\over e \\Delta E}$$.  Calculate the wavelength of light released for the transition described in part 2. Go to [this](http://hyperphysics.phy-astr.gsu.edu/hbase/vision/specol.html#c1) website and determine what color this corresponds to.\n",
    "   4. Use list comprehension together with the function you built in part 1 to build a list containing the 15 lowest-energy levels for the hydrogen atom."
   ]
  },
  {
   "cell_type": "code",
   "execution_count": 12,
   "metadata": {},
   "outputs": [
    {
     "name": "stdout",
     "output_type": "stream",
     "text": [
      "-13.61595967613374 -3.403989919033435\n",
      "The transition energy is -2.8594 eV\n",
      "The wavelength is 4.337222e-07 meters which is violet\n"
     ]
    }
   ],
   "source": [
    "from numpy import pi\n",
    "def E(n, me = 9.109e-31, e = 1.602e-19, ϵ0 = 8.854e-12, ħ= 1.054e-34):\n",
    "    return -me*e**3/(32*pi**2 * ϵ0**2 * ħ**2 * n**2)\n",
    "\n",
    "def wavelength(n1,n2,e = 1.602e-19,ħ= 1.054e-34,c = 3e8):\n",
    "    ΔE =E(n2)-E(n1)\n",
    "    return abs(2*pi*ħ*c / (e*ΔE))\n",
    "\n",
    "print(E(1),E(2))\n",
    "\n",
    "print(f'The transition energy is {E(2)-E(5):.4f} eV')\n",
    "print(f'The wavelength is {wavelength(5,2):e} meters which is violet')\n",
    "\n",
    "lowest = [E(n) for n in range(1,16)]\n"
   ]
  },
  {
   "cell_type": "markdown",
   "metadata": {},
   "source": [
    "3. Max Planck discovered that **all** objects emit a spectrum of radiation and that the intensity of the spectrum depends on the object's temperature.  The equation for the intensity of the emitted light is $$ I(\\lambda) = {2 \\pi h c^2 \\over \\lambda^5} {1\\over e^{hc \\over \\lambda k_BT} - 1}$$ where\n",
    "    - $c = 3.0 \\times 10^8$ m/s is the speed of light.\n",
    "    - $h = 6.26 \\times 10^34$ m$^2$ kg /s is Plank's constant.\n",
    "    - $k_B = 1.38 \\times 10^{-23}$ m$^2$kg s$^{-2}$ K$^{-1}$ is the Boltzmann constant.\n",
    "    - T is temperature in Kelvins.\n",
    "    - $\\lambda$ is wavelength in meters.\n",
    "\n",
    "    1. Write a function that takes two arguments: the temperature of the object and the wavelength of light.  All other physical constants should appear as keyword arguments with appropriate default values attached.  The function should return the corresponding light intensity given by the function above.\n",
    "    2. The temperature of the sun is approximately $5780$ K and it emits strongly in the visible region of the spectrum. Use the function you built in part 1 to calculate the intensity of light emitted by the sun at the following wavelengths: [250 nm, 500 nm, 750 nm, 1000 nm, 1500 nm] (\"nm\" is short for nano-meters or $\\times 10^{-9}$ meters). Use list comprehension to build a list of these intensities. Comment on the trend that you notice.\n",
    "    3. The coldest temperature ever measured in our solar system was $25$ K at the bottom of a lunar crater during \"night\" time. That's -410$^\\circ$ F.. Yowza! However, during \"day\" time, the temperature of the moon is about $400$ K.   Compute the intensity of daytime light emitted by the moon for the same wavelengths given in part 2. As before, use list comprehension to put these intensities into a list. How do these intensities compare to the sun's?  \n",
    "    4. The moon emits strongest in the infrared region of the spectrum ($\\lambda > 750$ nm) which our eyes are not able to see. The only reason we can see the moon is because it reflects light from the sun.  Recalculate the intensity of light from the moon for the following infrared wavelengths: [6000 nm, 7500 nm, 9000 nm, 10000 nm, 12000 nm].  How do these intensities compare to the sun's light? "
   ]
  },
  {
   "cell_type": "code",
   "execution_count": 6,
   "metadata": {},
   "outputs": [
    {
     "name": "stdout",
     "output_type": "stream",
     "text": [
      " 250nm = 2.946e+13 W/m^2\n",
      " 500nm = 1.030e+14 W/m^2\n",
      " 750nm = 6.754e+13 W/m^2\n",
      " 1000nm = 3.714e+13 W/m^2\n",
      " 1500nm = 1.225e+13 W/m^2\n",
      "[29460560761807.71, 103046686112235.19, 67539476343940.76, 37136377879871.39, 12251813039128.793]\n",
      "[157457881.86566722, 161550357.63562173, 139988308.9211005, 121943875.74291012, 88731790.69052988]\n"
     ]
    },
    {
     "data": {
      "text/plain": [
       "'\\nThe moon has smaller intensity than the sun\\n'"
      ]
     },
     "execution_count": 6,
     "metadata": {},
     "output_type": "execute_result"
    }
   ],
   "source": [
    "from numpy import pi, e\n",
    "def intensity(T,λ, h = 6.26e-34, c = 3e8, k_B = 1.38e-23):\n",
    "    return 2*pi*h*c**2 / λ**5 * 1/(e**(h*c / (λ*k_B * T))-1)\n",
    "sun = [intensity(5780,i*10**-9) for i in [250,500,750,1000,1500]]\n",
    "print(f' 250nm = {intensity(5780,250e-9):.3e} W/m^2')\n",
    "print(f' 500nm = {intensity(5780,500e-9):.3e} W/m^2')\n",
    "print(f' 750nm = {intensity(5780,750e-9):.3e} W/m^2')\n",
    "print(f' 1000nm = {intensity(5780,1000e-9):.3e} W/m^2')\n",
    "print(f' 1500nm = {intensity(5780,1500e-9):.3e} W/m^2')\n",
    "\n",
    "crater =[intensity(400,i*10**-9) for i in [250,500,750,1000,1500]]\n",
    "moon = [intensity(400,i*10**-9)for i in [6000,7500,9000,10000,12000]]\n",
    "print(sun)\n",
    "print(moon)\n",
    "\n",
    "'''\n",
    "The moon has smaller intensity than the sun\n",
    "'''"
   ]
  }
 ],
 "metadata": {
  "kernelspec": {
   "display_name": "Python 3 (ipykernel)",
   "language": "python",
   "name": "python3"
  },
  "language_info": {
   "codemirror_mode": {
    "name": "ipython",
    "version": 3
   },
   "file_extension": ".py",
   "mimetype": "text/x-python",
   "name": "python",
   "nbconvert_exporter": "python",
   "pygments_lexer": "ipython3",
   "version": "3.9.7"
  }
 },
 "nbformat": 4,
 "nbformat_minor": 4
}
