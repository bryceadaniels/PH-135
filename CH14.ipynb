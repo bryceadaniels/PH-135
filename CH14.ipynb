{
 "cells": [
  {
   "cell_type": "raw",
   "metadata": {},
   "source": [
    "---\n",
    "reference-location: margin\n",
    "citation-location: margin\n",
    "execute:\n",
    "  freeze: auto\n",
    "---"
   ]
  },
  {
   "cell_type": "markdown",
   "metadata": {},
   "source": [
    "[Jupyter Notebook](https://lancejnelson.github.io/PH135/jupyter/sympy.ipynb)\n",
    "\n",
    "# The `sympy` module\n",
    "`Sympy` (pronounced \"sim-pie\") is short for symbolic python and can be used to do symbolic math calculations. You may be familiar with other symbolic math packages like Mathematica or Maple.  Python's sympy package will do all of the same things that they will do and it's nice to not have to switch between two different coding languages.\n",
    "\n",
    "\n",
    "## Simple Calculations\n",
    "You should be very comfortable performing simple calculations by now.  Up to this point all of the calculations that you have performed have been represented **approximately**, rather than exactly.  For example, $\\cos({\\pi \\over 6}) = {\\sqrt{3} \\over 2} \\text{ (exact)} \\approx 0.8660254 \\text{ (approximate)}$ and when you perform this calculation in Python using the `math` module, the result is approximate:\n"
   ]
  },
  {
   "cell_type": "code",
   "execution_count": 1,
   "metadata": {},
   "outputs": [
    {
     "data": {
      "text/plain": [
       "0.8660254037844387"
      ]
     },
     "execution_count": 1,
     "metadata": {},
     "output_type": "execute_result"
    }
   ],
   "source": [
    "from math import cos,pi\n",
    "\n",
    "cos(pi/6)"
   ]
  },
  {
   "cell_type": "markdown",
   "metadata": {},
   "source": [
    "$0.8660254$ is an approximate result; it's very close to the true value but not exact. Sympy can also perform this calculation and the results are represented exactly."
   ]
  },
  {
   "cell_type": "code",
   "execution_count": 2,
   "metadata": {},
   "outputs": [
    {
     "name": "stdout",
     "output_type": "stream",
     "text": [
      "sqrt(3)/2\n"
     ]
    },
    {
     "name": "stderr",
     "output_type": "stream",
     "text": [
      "C:\\Users\\bryce\\anaconda32\\lib\\site-packages\\IPython\\lib\\latextools.py:126: MatplotlibDeprecationWarning: \n",
      "The to_png function was deprecated in Matplotlib 3.4 and will be removed two minor releases later. Use mathtext.math_to_image instead.\n",
      "  mt.to_png(f, s, fontsize=12, dpi=dpi, color=color)\n",
      "C:\\Users\\bryce\\anaconda32\\lib\\site-packages\\IPython\\lib\\latextools.py:126: MatplotlibDeprecationWarning: \n",
      "The to_rgba function was deprecated in Matplotlib 3.4 and will be removed two minor releases later. Use mathtext.math_to_image instead.\n",
      "  mt.to_png(f, s, fontsize=12, dpi=dpi, color=color)\n",
      "C:\\Users\\bryce\\anaconda32\\lib\\site-packages\\IPython\\lib\\latextools.py:126: MatplotlibDeprecationWarning: \n",
      "The to_mask function was deprecated in Matplotlib 3.4 and will be removed two minor releases later. Use mathtext.math_to_image instead.\n",
      "  mt.to_png(f, s, fontsize=12, dpi=dpi, color=color)\n",
      "C:\\Users\\bryce\\anaconda32\\lib\\site-packages\\IPython\\lib\\latextools.py:126: MatplotlibDeprecationWarning: \n",
      "The MathtextBackendBitmap class was deprecated in Matplotlib 3.4 and will be removed two minor releases later. Use mathtext.math_to_image instead.\n",
      "  mt.to_png(f, s, fontsize=12, dpi=dpi, color=color)\n"
     ]
    },
    {
     "data": {
      "image/png": "[encoded data removed]",
      "text/latex": [
       "$\\displaystyle 0.866025403784439$"
      ],
      "text/plain": [
       "0.8660254037844387"
      ]
     },
     "execution_count": 2,
     "metadata": {},
     "output_type": "execute_result"
    }
   ],
   "source": [
    "from sympy import cos,pi,init_printing\n",
    "init_printing(use_unicode = True)\n",
    "\n",
    "import sympy as sp\n",
    "import math as mt\n",
    "\n",
    "print(sp.cos(sp.pi/6))\n",
    "mt.cos(mt.pi/6)"
   ]
  },
  {
   "cell_type": "markdown",
   "metadata": {},
   "source": [
    "The `init_printing(use_unicode=True)` function call tells sympy to display mathematical expressions using \"pretty\" formatting.  Fraction appear with the numerator on top of the denominator,  powers are displayed as superscripts, and other mathematical symbols are rendered to make the mathematical expression look right. Sympy can even simplify expressions.  For example, $\\sqrt{8} = 2 \\sqrt{2}$ and sympy automatically performs this simplification for us:"
   ]
  },
  {
   "cell_type": "code",
   "execution_count": 3,
   "metadata": {},
   "outputs": [
    {
     "data": {
      "image/png": "[encoded data removed]",
      "text/latex": [
       "$\\displaystyle 2 \\sqrt{2}$"
      ],
      "text/plain": [
       "2⋅√2"
      ]
     },
     "execution_count": 3,
     "metadata": {},
     "output_type": "execute_result"
    }
   ],
   "source": [
    "from sympy import sqrt\n",
    "\n",
    "sqrt(8)"
   ]
  },
  {
   "cell_type": "markdown",
   "metadata": {},
   "source": [
    "If you prefer to have your expression approximated numerically, you can use the `N` function.\n"
   ]
  },
  {
   "cell_type": "code",
   "execution_count": 3,
   "metadata": {},
   "outputs": [
    {
     "data": {
      "image/png": "[encoded data removed]",
      "text/latex": [
       "$\\displaystyle 2.82842712474619$"
      ],
      "text/plain": [
       "2.82842712474619"
      ]
     },
     "execution_count": 3,
     "metadata": {},
     "output_type": "execute_result"
    }
   ],
   "source": [
    "from sympy import sqrt,N\n",
    "\n",
    "N(sqrt(8))"
   ]
  },
  {
   "cell_type": "markdown",
   "metadata": {},
   "source": [
    "## Forming Mathematical Expressions\n",
    "\n",
    "### Defining Symbols (Mathematical Variables)\n",
    "A common equation that comes up in physics is quadratic function with constant coefficients $$ax^2 + bx + c$$. To form this expression, we must first define the variables that appear in the expression: `x`, `a`, `b`, and `c`. The `Symbol` function (case sensitive) can be used to define these **mathematical** variables. The argument to the `Symbol` function should be a string containing the desired name of the variable. "
   ]
  },
  {
   "cell_type": "code",
   "execution_count": 7,
   "metadata": {},
   "outputs": [
    {
     "data": {
      "image/png": "[encoded data removed]",
      "text/latex": [
       "$\\displaystyle \\left( x, \\  a, \\  b, \\  c\\right)$"
      ],
      "text/plain": [
       "(x, a, b, c)"
      ]
     },
     "execution_count": 7,
     "metadata": {},
     "output_type": "execute_result"
    }
   ],
   "source": [
    "from sympy import Symbol\n",
    "x = Symbol(\"x\")\n",
    "a = Symbol(\"a\")\n",
    "b = Symbol(\"b\")\n",
    "c = Symbol(\"c\")\n",
    "x,a,b,c"
   ]
  },
  {
   "cell_type": "markdown",
   "metadata": {},
   "source": [
    "Instead of using the `Symbol` function to initialize variables one at a time, you can initialize multiple variables in one line using the `symbols` function.  The argument to the `symbols` function should be a string with the names of each variables inside the string and separated by a space. "
   ]
  },
  {
   "cell_type": "code",
   "execution_count": 8,
   "metadata": {},
   "outputs": [
    {
     "data": {
      "image/png": "[encoded data removed]",
      "text/latex": [
       "$\\displaystyle \\left( x, \\  a, \\  b, \\  c\\right)$"
      ],
      "text/plain": [
       "(x, a, b, c)"
      ]
     },
     "execution_count": 8,
     "metadata": {},
     "output_type": "execute_result"
    }
   ],
   "source": [
    "from sympy import symbols\n",
    "\n",
    "x,a,b,c = symbols(\"x a b c\")\n",
    "x,a,b,c"
   ]
  },
  {
   "cell_type": "markdown",
   "metadata": {},
   "source": [
    "### Mathematical Expressions\n",
    "\n",
    "A mathematical expression, which is composed of multiple mathematical variables (symbols), can now be created using the python variables that we just created"
   ]
  },
  {
   "cell_type": "code",
   "execution_count": 9,
   "metadata": {},
   "outputs": [
    {
     "data": {
      "image/png": "[encoded data removed]",
      "text/latex": [
       "$\\displaystyle a x^{2} + b x + c$"
      ],
      "text/plain": [
       "   2          \n",
       "a⋅x  + b⋅x + c"
      ]
     },
     "execution_count": 9,
     "metadata": {},
     "output_type": "execute_result"
    }
   ],
   "source": [
    "from sympy import Symbol\n",
    "x,a,b,c = symbols(\"x a b c\")\n",
    "expression = a * x**2 + b * x + c\n",
    "expression"
   ]
  },
  {
   "cell_type": "markdown",
   "metadata": {},
   "source": [
    "Expressions can be used to form new expressions by performing mathematical operations on them"
   ]
  },
  {
   "cell_type": "code",
   "execution_count": 10,
   "metadata": {},
   "outputs": [
    {
     "data": {
      "image/png": "[encoded data removed]",
      "text/latex": [
       "$\\displaystyle x \\left(a x^{2} + b x + c\\right)$"
      ],
      "text/plain": [
       "  ⎛   2          ⎞\n",
       "x⋅⎝a⋅x  + b⋅x + c⎠"
      ]
     },
     "execution_count": 10,
     "metadata": {},
     "output_type": "execute_result"
    }
   ],
   "source": [
    "from sympy import symbols\n",
    "\n",
    "x,a,b,c = symbols(\"x a b c\")\n",
    "expression = a * x**2 + b * x + c\n",
    "\n",
    "newexpression = x * expression\n",
    "newexpression"
   ]
  },
  {
   "cell_type": "markdown",
   "metadata": {},
   "source": [
    "## Simplifying Expressions\n",
    "`sympy` has several handy functions that can perform algebraic manipulations to your expressions.\n",
    "\n",
    "### The `simplify` function\n",
    "If you don't know exactly how you want your expression simplified, you should first try the `simplify` function.  `simplify` attempts to apply all of the more specialized functions in a smart way to produce a simpler looking result.  To use `simplify` simply send the desired expression in as an argument.\n",
    "\n",
    "```\n",
    "simplify(expression)\n",
    "```"
   ]
  },
  {
   "cell_type": "code",
   "execution_count": 6,
   "metadata": {},
   "outputs": [
    {
     "data": {
      "image/png": "[encoded data removed]",
      "text/latex": [
       "$\\displaystyle 1$"
      ],
      "text/plain": [
       "1"
      ]
     },
     "execution_count": 6,
     "metadata": {},
     "output_type": "execute_result"
    }
   ],
   "source": [
    "from sympy import symbols,cos,sin,simplify\n",
    "x,y,z = symbols(\"x y z\")\n",
    "simplify(x**2 * z + 4 * x *y*z + 4*y**2*z)\n",
    "simplify(cos(x)**2 + sin(x)**2)"
   ]
  },
  {
   "cell_type": "markdown",
   "metadata": {},
   "source": [
    "When `simplify` doesn't do what you were hoping, you'll have to think a little bit harder about how you want to simplify your expression. The functions described in the rest of this section will help you in your choice.\n",
    "\n",
    "### The `expand` function\n",
    "The expand function will put a polynomial function into its canonical monomial form. For example, expanding the following polynomial $$(x + 1)^2$$\n",
    "will produce the standard form of the polynomial $$x^2 + 2x + 1$$.  This may not seem like a simplification but nevertheless it can be helpful at times.  To expand a polynomial, call the `expand` function and send in the expression that you want expanded.\n",
    "\n",
    "```\n",
    "expand(expression)\n",
    "```"
   ]
  },
  {
   "cell_type": "code",
   "execution_count": 15,
   "metadata": {},
   "outputs": [
    {
     "data": {
      "image/png": "[encoded data removed]",
      "text/latex": [
       "$\\displaystyle x^{4} + 12 x^{3} + 54 x^{2} + 108 x + 81$"
      ],
      "text/plain": [
       " 4       3       2             \n",
       "x  + 12⋅x  + 54⋅x  + 108⋅x + 81"
      ]
     },
     "execution_count": 15,
     "metadata": {},
     "output_type": "execute_result"
    }
   ],
   "source": [
    "from sympy import symbols,expand\n",
    "x = symbols(\"x\")\n",
    "expand((x + 2) * (x - 3))\n",
    "expand((x+3)**4)"
   ]
  },
  {
   "cell_type": "markdown",
   "metadata": {},
   "source": [
    "Sometimes expanding an expression can result in a single number due to cancellation. \n"
   ]
  },
  {
   "cell_type": "code",
   "execution_count": null,
   "metadata": {},
   "outputs": [],
   "source": [
    "from sympy import Symbol,expand\n",
    "x = Symbol(\"x\")\n",
    "expand((x + 1)*(x - 2) - (x - 1)*x)"
   ]
  },
  {
   "cell_type": "markdown",
   "metadata": {},
   "source": [
    "### The `factor` function\n",
    "\n",
    "The `factor` function does the opposite of `expand`, taking a canonical polynomial and attempting to factor it into its irreducible parts.  For example, factoring the equation below $$x^3 - x^2 + x -1$$ will produce $$(x-1)(x^2 + 1)$$\n"
   ]
  },
  {
   "cell_type": "code",
   "execution_count": 16,
   "metadata": {},
   "outputs": [
    {
     "data": {
      "image/png": "[encoded data removed]",
      "text/latex": [
       "$\\displaystyle z \\left(x + 2 y\\right)^{2}$"
      ],
      "text/plain": [
       "           2\n",
       "z⋅(x + 2⋅y) "
      ]
     },
     "execution_count": 16,
     "metadata": {},
     "output_type": "execute_result"
    }
   ],
   "source": [
    "from sympy import symbols,factor\n",
    "x,y,z = symbols(\"x y z\")\n",
    "factor(x**2 * z + 4 * x *y*z + 4*y**2*z)"
   ]
  },
  {
   "cell_type": "markdown",
   "metadata": {},
   "source": [
    "You can also factor an expression that isn't a polynomial.  The following trigonometric function can be factored $$\\cos(x)^2 + 2 \\cos(x)\\sin(x) + \\sin(x)^2$$ into $$(\\sin(x) + \\cos(x))^2$$"
   ]
  },
  {
   "cell_type": "code",
   "execution_count": null,
   "metadata": {},
   "outputs": [],
   "source": [
    "from sympy import symbols,factor,cos,sin\n",
    "x,y,z = symbols(\"x y z\")\n",
    "factor(cos(x)**2 + 2 * cos(x) * sin(x) + sin(x)**2)"
   ]
  },
  {
   "cell_type": "markdown",
   "metadata": {},
   "source": [
    "### The `collect` function\n",
    "The `collect` function gathers terms with common powers in an expression. The function takes two arguments: the first is the expression and the second specifies which variable's powers should be collected.\n",
    "\n",
    "```\n",
    "collect(expression, variable)\n",
    "```"
   ]
  },
  {
   "cell_type": "code",
   "execution_count": 17,
   "metadata": {},
   "outputs": [
    {
     "data": {
      "image/png": "[encoded data removed]",
      "text/latex": [
       "$\\displaystyle x^{3} + x^{2} \\cdot \\left(2 - z\\right) + x \\left(y + 1\\right) - 3$"
      ],
      "text/plain": [
       " 3    2                        \n",
       "x  + x ⋅(2 - z) + x⋅(y + 1) - 3"
      ]
     },
     "execution_count": 17,
     "metadata": {},
     "output_type": "execute_result"
    }
   ],
   "source": [
    "from sympy import symbols,collect\n",
    "x,y,z = symbols(\"x y z\")\n",
    "collect(x*y + x - 3 + 2 * x**2 - z *x**2 + x**3,x)"
   ]
  },
  {
   "cell_type": "markdown",
   "metadata": {},
   "source": [
    "### The `cancel` function\n",
    "\n",
    "The `cancel` function is helpful for simplifying an expression by canceling out like terms where possible.  This function takes just a single argument, which is the expression to be simplified. The code below will simplify the following expression by canceling the common `(x+1)` that appears in both the numerator and denominator. $${x^2 + 2 x + 1 \\over x^2 + x}$$\n"
   ]
  },
  {
   "cell_type": "code",
   "execution_count": 18,
   "metadata": {},
   "outputs": [
    {
     "data": {
      "image/png": "[encoded data removed]",
      "text/latex": [
       "$\\displaystyle \\frac{x + 1}{x}$"
      ],
      "text/plain": [
       "x + 1\n",
       "─────\n",
       "  x  "
      ]
     },
     "execution_count": 18,
     "metadata": {},
     "output_type": "execute_result"
    }
   ],
   "source": [
    "from sympy import symbols,cancel\n",
    "x,y,z = symbols(\"x y z\")\n",
    "cancel((x**2 + 2*x + 1)/(x**2 + x))"
   ]
  },
  {
   "cell_type": "markdown",
   "metadata": {},
   "source": [
    "### The `trigsimp` function\n",
    "\n",
    "If you want to use trigonometric identities to simplify your expression use the `trigsimp` function. For example, most of us know that $\\cos(x)^2 + \\sin(x)^2 = 1$.  `trigsimp` will perform this simplification for us.  \n"
   ]
  },
  {
   "cell_type": "code",
   "execution_count": 7,
   "metadata": {},
   "outputs": [
    {
     "data": {
      "image/png": "[encoded data removed]",
      "text/latex": [
       "$\\displaystyle 1$"
      ],
      "text/plain": [
       "1"
      ]
     },
     "execution_count": 7,
     "metadata": {},
     "output_type": "execute_result"
    }
   ],
   "source": [
    "from sympy import symbols,trigsimp,cos,sin\n",
    "x = symbols(\"x\")\n",
    "trigsimp(cos(x)**2 + sin(x)**2)"
   ]
  },
  {
   "cell_type": "markdown",
   "metadata": {},
   "source": [
    "### The `expand_trig` function\n",
    "\n",
    "`expand_trig` is the opposite of `trigsimp` and usually makes trig functions longer, but that can still be a useful way to view the function.  Below we expand the expression $$\\sin(x + y)$$ using a trig identity. \n"
   ]
  },
  {
   "cell_type": "code",
   "execution_count": 8,
   "metadata": {},
   "outputs": [
    {
     "data": {
      "image/png": "[encoded data removed]",
      "text/latex": [
       "$\\displaystyle \\sin{\\left(x \\right)} \\cos{\\left(y \\right)} + \\sin{\\left(y \\right)} \\cos{\\left(x \\right)}$"
      ],
      "text/plain": [
       "sin(x)⋅cos(y) + sin(y)⋅cos(x)"
      ]
     },
     "execution_count": 8,
     "metadata": {},
     "output_type": "execute_result"
    }
   ],
   "source": [
    "from sympy import symbols,expand_trig\n",
    "x,y = symbols(\"x y\")\n",
    "expand_trig(sin(x + y))"
   ]
  },
  {
   "cell_type": "markdown",
   "metadata": {},
   "source": [
    "## Calculus\n",
    "`sympy` can do common calculus operations on symbolic expressions.  We'll cover: derivatives, integrals, and limits.\n",
    "\n",
    "### Derivatives\n",
    "\n",
    "To calculate the derivative of an expression, use the `diff` function, which takes two arguments.  The first is the expression that you want to take the derivative of and the second is the differentiating variable.  In the cell below we calculate the derivative $${d\\over dx} \\cos(x)$$\n"
   ]
  },
  {
   "cell_type": "code",
   "execution_count": 9,
   "metadata": {},
   "outputs": [
    {
     "data": {
      "image/png": "[encoded data removed]",
      "text/latex": [
       "$\\displaystyle - \\sin{\\left(x \\right)}$"
      ],
      "text/plain": [
       "-sin(x)"
      ]
     },
     "execution_count": 9,
     "metadata": {},
     "output_type": "execute_result"
    }
   ],
   "source": [
    "from sympy import symbols,diff,cos\n",
    "x = symbols(\"x\")\n",
    "diff(cos(x),x)"
   ]
  },
  {
   "cell_type": "markdown",
   "metadata": {},
   "source": [
    "To take multiple derivatives, simply add more `x`s to the `diff` function call.  Below we calculate the derivative $${d^2\\over dx^2} \\cos(x)$$ \n"
   ]
  },
  {
   "cell_type": "code",
   "execution_count": 10,
   "metadata": {},
   "outputs": [
    {
     "data": {
      "image/png": "[encoded data removed]",
      "text/latex": [
       "$\\displaystyle - \\cos{\\left(x \\right)}$"
      ],
      "text/plain": [
       "-cos(x)"
      ]
     },
     "execution_count": 10,
     "metadata": {},
     "output_type": "execute_result"
    }
   ],
   "source": [
    "from sympy import symbols,diff,cos\n",
    "x = symbols(\"x\")\n",
    "diff(cos(x),x,x)"
   ]
  },
  {
   "cell_type": "markdown",
   "metadata": {},
   "source": [
    "`diff` can perform partial derivatives too. Below we perform the following partial derivatives $${\\partial^2 \\over \\partial z^2} {\\partial \\over \\partial y} {\\partial \\over \\partial x} \\exp(x y z)$$\n"
   ]
  },
  {
   "cell_type": "code",
   "execution_count": 11,
   "metadata": {},
   "outputs": [
    {
     "data": {
      "image/png": "[encoded data removed]",
      "text/latex": [
       "$\\displaystyle x y \\left(x^{2} y^{2} z^{2} + 5 x y z + 4\\right) e^{x y z}$"
      ],
      "text/plain": [
       "    ⎛ 2  2  2              ⎞  x⋅y⋅z\n",
       "x⋅y⋅⎝x ⋅y ⋅z  + 5⋅x⋅y⋅z + 4⎠⋅ℯ     "
      ]
     },
     "execution_count": 11,
     "metadata": {},
     "output_type": "execute_result"
    }
   ],
   "source": [
    "from sympy import symbols,diff,exp\n",
    "x,y,z = symbols(\"x y z\")\n",
    "diff(exp(x * y * z),x,y,z,z)"
   ]
  },
  {
   "cell_type": "markdown",
   "metadata": {},
   "source": [
    "### Integrals\n",
    "\n",
    "Use the `integrate` function to perform definite and indefinite integrals.   For definite integral, the function should be called with two arguments; the first is the expression to be integrated and the second is the tuple containing the integration limits.  Below we integrate $$ \\int_0^5 \\exp(-x) dx$$\n"
   ]
  },
  {
   "cell_type": "code",
   "execution_count": 12,
   "metadata": {},
   "outputs": [
    {
     "data": {
      "image/png": "[encoded data removed]",
      "text/latex": [
       "$\\displaystyle 1 - e^{-5}$"
      ],
      "text/plain": [
       "     -5\n",
       "1 - ℯ  "
      ]
     },
     "execution_count": 12,
     "metadata": {},
     "output_type": "execute_result"
    }
   ],
   "source": [
    "from sympy import integrate, Symbol\n",
    "\n",
    "x = Symbol(\"x\")\n",
    "\n",
    "integrate(exp(-x),(x,0,5))"
   ]
  },
  {
   "cell_type": "markdown",
   "metadata": {},
   "source": [
    "The limits of your integral can be at infinity by importing `oo` and using it in the limit specification.\n"
   ]
  },
  {
   "cell_type": "code",
   "execution_count": 13,
   "metadata": {},
   "outputs": [
    {
     "data": {
      "image/png": "[encoded data removed]",
      "text/latex": [
       "$\\displaystyle 1$"
      ],
      "text/plain": [
       "1"
      ]
     },
     "execution_count": 13,
     "metadata": {},
     "output_type": "execute_result"
    }
   ],
   "source": [
    "from sympy import integrate, Symbol,oo\n",
    "\n",
    "x = Symbol(\"x\")\n",
    "\n",
    "integrate(exp(-x),(x,0,oo))"
   ]
  },
  {
   "cell_type": "markdown",
   "metadata": {},
   "source": [
    "Multiple integrations can be carried out by adding more arguments to the `integrate` function, each one specifying the limits for that variable.  Here we integrate $$\\int_0^\\infty \\int_0^\\infty \\exp(-x^2 -y^2) dx dy $$\n"
   ]
  },
  {
   "cell_type": "code",
   "execution_count": null,
   "metadata": {},
   "outputs": [],
   "source": [
    "from sympy import integrate, symbols,oo\n",
    "\n",
    "x,y = symbols(\"x y\")\n",
    "\n",
    "integrate(exp(-x**2 - y**2),(x,0,oo),(y,0,oo))"
   ]
  },
  {
   "cell_type": "markdown",
   "metadata": {},
   "source": [
    "Indefinite integrals can be performed by omitting the limit specification and just indicating the variable to be integrated over.  Below we perform the following indefinite integral $$\\int \\int x^2 + y^2 dx dy $$ \n"
   ]
  },
  {
   "cell_type": "code",
   "execution_count": 22,
   "metadata": {},
   "outputs": [
    {
     "data": {
      "image/png": "[encoded data removed]",
      "text/latex": [
       "$\\displaystyle \\frac{x^{3} y}{3} + \\frac{x y^{3}}{3}$"
      ],
      "text/plain": [
       " 3        3\n",
       "x ⋅y   x⋅y \n",
       "──── + ────\n",
       " 3      3  "
      ]
     },
     "execution_count": 22,
     "metadata": {},
     "output_type": "execute_result"
    }
   ],
   "source": [
    "from sympy import integrate, symbols\n",
    "\n",
    "x,y = symbols(\"x y\")\n",
    "\n",
    "integrate(x**2 + y**2,x,y)"
   ]
  },
  {
   "cell_type": "markdown",
   "metadata": {},
   "source": [
    "### Limits\n",
    "`sympy` can compute limits symbolically with the `limit` function. The function takes three arguments: the expression, the variable of interest, and the limiting value for that variable.  Below we take the following limit $$\\lim_{x \\to 0} {\\sin(x)\\over x}$$\n"
   ]
  },
  {
   "cell_type": "code",
   "execution_count": null,
   "metadata": {},
   "outputs": [],
   "source": [
    "from sympy import limit, Symbol,sin\n",
    "\n",
    "x = Symbol(\"x\")\n",
    "\n",
    "limit(sin(x)/x,x,0)"
   ]
  },
  {
   "cell_type": "markdown",
   "metadata": {},
   "source": [
    "## Solving equations\n",
    "\n",
    "So far we have seen how to construct expressions but not solve equations.  The difference is that an equation is expressing some sort of equality between an multiple expressions.  For example, the following is an equation $$5 x^2 + 3 x - 2 = 10$$  To form an equation, you can use the `Eq` function.  To use it, send in the expression on the left hand side of the equation for the first argument and the expression on the right hand side of the equation for the second argument.\n",
    "\n",
    "```\n",
    "Eq(lhs,rhs)\n",
    "```\n",
    "\n",
    "Below we form the equation $$5 x + 2y = 8$$"
   ]
  },
  {
   "cell_type": "code",
   "execution_count": null,
   "metadata": {},
   "outputs": [],
   "source": [
    "from sympy import symbols,Eq\n",
    "\n",
    "x,y = symbols(\"x y\")\n",
    "\n",
    "equation = Eq(5 * x + 2 * y , 8)\n",
    "equation"
   ]
  },
  {
   "cell_type": "markdown",
   "metadata": {},
   "source": [
    "### Solving single equations\n",
    "Once an equation is created, the `solveset` function attempts to solve the function for the desired variables. To use `solveset`, pass the equation as the first argument and the variable being solved for as the second.  Here we solve the equation $$3 x^2 - 5 x =8$$ for $x$\n"
   ]
  },
  {
   "cell_type": "code",
   "execution_count": 31,
   "metadata": {},
   "outputs": [
    {
     "data": {
      "image/png": "[encoded data removed]",
      "text/latex": [
       "$\\displaystyle \\left\\{\\frac{5}{6} - \\frac{\\sqrt{71} i}{6}, \\frac{5}{6} + \\frac{\\sqrt{71} i}{6}\\right\\}$"
      ],
      "text/plain": [
       "⎧5   √71⋅ⅈ  5   √71⋅ⅈ⎫\n",
       "⎨─ - ─────, ─ + ─────⎬\n",
       "⎩6     6    6     6  ⎭"
      ]
     },
     "execution_count": 31,
     "metadata": {},
     "output_type": "execute_result"
    }
   ],
   "source": [
    "from sympy import symbols,Eq,solveset\n",
    "\n",
    "x = symbols(\"x\")\n",
    "\n",
    "equation = Eq(3* x**2 - 5 * x, -8)\n",
    "solveset(equation,x)"
   ]
  },
  {
   "cell_type": "markdown",
   "metadata": {},
   "source": [
    "#### No analytic solution\n",
    "In some instances, `sympy` will not be able to find any solutions to the equation.  For example, the solution to $${\\sin(x)\\over x} = 1$$ cannot be determined through analytical technique even though there are values of x that solve the equation.  For situations like this, `sympy` will output an expression that is meant to indicate that it can't find a solution.\n"
   ]
  },
  {
   "cell_type": "code",
   "execution_count": 32,
   "metadata": {},
   "outputs": [
    {
     "data": {
      "image/png": "[encoded data removed]",
      "text/latex": [
       "$\\displaystyle \\left\\{x\\; \\middle|\\; x \\in \\mathbb{C} \\wedge - x + \\sin{\\left(x \\right)} = 0 \\right\\} \\setminus \\left\\{0\\right\\}$"
      ],
      "text/plain": [
       "{x │ x ∊ ℂ ∧ (-x + sin(x) = 0)} \\ {0}"
      ]
     },
     "execution_count": 32,
     "metadata": {},
     "output_type": "execute_result"
    }
   ],
   "source": [
    "from sympy import symbols,Eq,solveset,sin\n",
    "\n",
    "x = symbols(\"x\")\n",
    "\n",
    "equation = Eq(sin(x)/x, 1)\n",
    "solveset(equation,x)"
   ]
  },
  {
   "cell_type": "markdown",
   "metadata": {},
   "source": [
    "#### No solution... period\n",
    "Some equations really don't have solutions and  `sympy` can correctly identify these cases.  For example, the equation $$\\exp(x) = 0$$  has no solutions.  Let's see what `sympy` tells us when we try to solve this one.\n"
   ]
  },
  {
   "cell_type": "code",
   "execution_count": 14,
   "metadata": {},
   "outputs": [
    {
     "data": {
      "image/png": "[encoded data removed]",
      "text/latex": [
       "$\\displaystyle \\emptyset$"
      ],
      "text/plain": [
       "∅"
      ]
     },
     "execution_count": 14,
     "metadata": {},
     "output_type": "execute_result"
    }
   ],
   "source": [
    "from sympy import symbols,Eq,solveset,exp\n",
    "\n",
    "x = symbols(\"x\")\n",
    "\n",
    "equation = Eq(exp(x), 0)\n",
    "solveset(equation,x)"
   ]
  },
  {
   "cell_type": "markdown",
   "metadata": {},
   "source": [
    "The $\\emptyset$ symbol means an empty set or there are no solutions to this equation. \n",
    "\n",
    "#### Many or Infinite Solutions\n",
    "Some equations have infinitely many solutions.  For example the following equation $$x - x = 0$$ is satisfied for any complex or real value of $x$.  Let's see what sympy does when we ask it to solve this one.\n"
   ]
  },
  {
   "cell_type": "code",
   "execution_count": 15,
   "metadata": {},
   "outputs": [
    {
     "data": {
      "image/png": "[encoded data removed]",
      "text/latex": [
       "$\\displaystyle \\mathbb{C}$"
      ],
      "text/plain": [
       "S.Complexes"
      ]
     },
     "execution_count": 15,
     "metadata": {},
     "output_type": "execute_result"
    }
   ],
   "source": [
    "from sympy import symbols,Eq,solveset\n",
    "\n",
    "x = symbols(\"x\")\n",
    "\n",
    "equation = Eq(x-x, 0)\n",
    "solveset(equation,x)"
   ]
  },
  {
   "cell_type": "markdown",
   "metadata": {},
   "source": [
    "The output ($\\mathbb{C}$) is communicating that the set of all complex numbers are the solution to this equation. (Meaning you can choose any number and it will be a solution to this equation.) \n",
    "\n",
    "\n",
    "### Solving Systems of equations\n",
    "Often you will have multiple equations with multiple unknown variables that you want to solve for.  They call this a system of equations.  An example would be the following system $$3 x - 5 y = 8$$ $$8x + 2y = 3$$.  The normal process for solving this system is to solve one equation for $x$ and then plug the expression that results into the other equation.  That equations will only have $y$ as a variable and you can do algebra to solve for it.  \n",
    "\n",
    "#### Linear Systems\n",
    "The example given above is called a linear system because none of the variables are raised to a power.  To solve a system like this, use `sympy`'s  `linsolve` function.\n"
   ]
  },
  {
   "cell_type": "code",
   "execution_count": 4,
   "metadata": {},
   "outputs": [
    {
     "data": {
      "text/latex": [
       "$\\displaystyle \\left\\{\\left( \\frac{31}{46}, \\  - \\frac{55}{46}\\right)\\right\\}$"
      ],
      "text/plain": [
       "{(31/46, -55/46)}"
      ]
     },
     "metadata": {},
     "output_type": "display_data"
    }
   ],
   "source": [
    "from sympy import symbols,Eq,linsolve\n",
    "\n",
    "x,y = symbols(\"x y\")\n",
    "\n",
    "equationOne = Eq(3* x - 5 * y, 8)\n",
    "equationTwo = Eq(8* x + 2 * y, 3)\n",
    "display(linsolve([equationOne,equationTwo],(x,y)))\n"
   ]
  },
  {
   "cell_type": "markdown",
   "metadata": {},
   "source": [
    "It isn't hard to find a system of equations that doesn't have a solution.  $$12 x - 3 y = 8$$ $$8x - 2y = 3$$  As with single equations, `sympy` will indicate this with the empty set symbol ($\\emptyset$).\n"
   ]
  },
  {
   "cell_type": "code",
   "execution_count": 36,
   "metadata": {},
   "outputs": [
    {
     "data": {
      "image/png": "[encoded data removed]",
      "text/latex": [
       "$\\displaystyle \\emptyset$"
      ],
      "text/plain": [
       "∅"
      ]
     },
     "execution_count": 36,
     "metadata": {},
     "output_type": "execute_result"
    }
   ],
   "source": [
    "from sympy import symbols,Eq,linsolve\n",
    "\n",
    "x,y = symbols(\"x y\")\n",
    "\n",
    "equationOne = Eq(12* x - 3 * y, 8)\n",
    "equationTwo = Eq(8* x - 2 * y, 3)\n",
    "linsolve([equationOne,equationTwo],(x,y))"
   ]
  },
  {
   "cell_type": "markdown",
   "metadata": {},
   "source": [
    "#### Nonlinear Systems\n",
    "\n",
    "If the equations involve variables being raised to powers, we call it a non linear system and you must use `sympy`'s `nonlinsolve` to solve the system.  For example, here is a nonlinear system $$3 x^2 + 5 y^2 = 8$$ $$8x^2 - 12y^2 = 13$$\n"
   ]
  },
  {
   "cell_type": "code",
   "execution_count": 3,
   "metadata": {},
   "outputs": [
    {
     "data": {
      "text/latex": [
       "$\\displaystyle \\left\\{\\left( - \\frac{\\sqrt{3059}}{38}, \\  - \\frac{5 \\sqrt{19}}{38}\\right), \\left( - \\frac{\\sqrt{3059}}{38}, \\  \\frac{5 \\sqrt{19}}{38}\\right), \\left( \\frac{\\sqrt{3059}}{38}, \\  - \\frac{5 \\sqrt{19}}{38}\\right), \\left( \\frac{\\sqrt{3059}}{38}, \\  \\frac{5 \\sqrt{19}}{38}\\right)\\right\\}$"
      ],
      "text/plain": [
       "{(-sqrt(3059)/38, -5*sqrt(19)/38), (-sqrt(3059)/38, 5*sqrt(19)/38), (sqrt(3059)/38, -5*sqrt(19)/38), (sqrt(3059)/38, 5*sqrt(19)/38)}"
      ]
     },
     "execution_count": 3,
     "metadata": {},
     "output_type": "execute_result"
    }
   ],
   "source": [
    "from sympy import symbols,Eq,nonlinsolve,N\n",
    "from numpy import array,vectorize\n",
    "x,y = symbols(\"x y\")\n",
    "\n",
    "\n",
    "eqOne = Eq(3*x**2 + 5*y**2,8)\n",
    "eqTwo = Eq(8*x**2 - 12*y**2,13)\n",
    "solutions= nonlinsolve([eqOne,eqTwo],(x,y))\n",
    "solutions"
   ]
  },
  {
   "cell_type": "markdown",
   "metadata": {},
   "source": [
    "## Flashcards\n",
    "1. How do you define a mathematical variable in Python?\n",
    "2. How do you form a mathematical expression in Python? (Give an example)\n",
    "3. How do you form a mathematical equation in Python? (Give an example)\n",
    "4. What does the simplify function do?\n",
    "5. What does the factor function do?\n",
    "6. How do you perform a derivative in Python?\n",
    "7. How do you perform an integral in Python? (definite and indefinite)\n",
    "8. How do you solve an equation in Python?\n",
    "9. How do you solve a system of equations in Python?\n",
    "10. How do you evaluate a definite integral at infinity ($\\infty$)?\n",
    "11. Recite 1 Ne 4:6\n",
    "\n",
    "\n",
    "## Exercises\n",
    "1. Define a `sympy` variable for $x$ and then evaluate the following expressions.\n",
    "   - $\\sin(x + {\\pi \\over 2})$\n",
    "   - $\\sin(x + \\pi)$  \n",
    "   - $\\cos(x + {\\pi \\over 2})$\n",
    "   - $\\cos(x + \\pi)$\n",
    "   - $\\sin(-x)$  \n",
    "   - $\\cos(-x)$\n",
    "   - $\\sqrt{1 - \\sin(x)^2}$\n"
   ]
  },
  {
   "cell_type": "code",
   "execution_count": 2,
   "metadata": {},
   "outputs": [
    {
     "data": {
      "text/latex": [
       "$\\displaystyle \\cos{\\left(x \\right)}$"
      ],
      "text/plain": [
       "cos(x)"
      ]
     },
     "metadata": {},
     "output_type": "display_data"
    },
    {
     "data": {
      "text/latex": [
       "$\\displaystyle - \\sin{\\left(x \\right)}$"
      ],
      "text/plain": [
       "-sin(x)"
      ]
     },
     "metadata": {},
     "output_type": "display_data"
    },
    {
     "data": {
      "text/latex": [
       "$\\displaystyle - \\sin{\\left(x \\right)}$"
      ],
      "text/plain": [
       "-sin(x)"
      ]
     },
     "metadata": {},
     "output_type": "display_data"
    },
    {
     "data": {
      "text/latex": [
       "$\\displaystyle - \\cos{\\left(x \\right)}$"
      ],
      "text/plain": [
       "-cos(x)"
      ]
     },
     "metadata": {},
     "output_type": "display_data"
    },
    {
     "data": {
      "text/latex": [
       "$\\displaystyle - \\sin{\\left(x \\right)}$"
      ],
      "text/plain": [
       "-sin(x)"
      ]
     },
     "metadata": {},
     "output_type": "display_data"
    },
    {
     "data": {
      "text/latex": [
       "$\\displaystyle \\cos{\\left(x \\right)}$"
      ],
      "text/plain": [
       "cos(x)"
      ]
     },
     "metadata": {},
     "output_type": "display_data"
    },
    {
     "data": {
      "text/latex": [
       "$\\displaystyle \\sqrt{\\cos^{2}{\\left(x \\right)}}$"
      ],
      "text/plain": [
       "sqrt(cos(x)**2)"
      ]
     },
     "metadata": {},
     "output_type": "display_data"
    }
   ],
   "source": [
    "import sympy as sp\n",
    "x = sp.Symbol(\"x\")\n",
    "exp1 = sp.sin(x+sp.pi/2)\n",
    "exp2 = sp.sin(x+sp.pi)\n",
    "exp3 = sp.cos(x+sp.pi/2)\n",
    "exp4 = sp.cos(x+sp.pi)\n",
    "exp5 = sp.sin(-x)\n",
    "exp6 = sp.cos(-x)\n",
    "exp7 = sp.simplify(sp.sqrt(1-sp.sin(x)**2))\n",
    "display(exp1 ,exp2,exp3,exp4,exp5,exp6,exp7)"
   ]
  },
  {
   "cell_type": "code",
   "execution_count": 3,
   "metadata": {},
   "outputs": [
    {
     "data": {
      "text/latex": [
       "$\\displaystyle \\frac{2}{29}$"
      ],
      "text/plain": [
       "2/29"
      ]
     },
     "execution_count": 3,
     "metadata": {},
     "output_type": "execute_result"
    }
   ],
   "source": [
    "x = sp.Symbol(\"x\")\n",
    "\n",
    "equation = sp.exp(-5*x)*sp.sin(2*x)\n",
    "sp.integrate(equation,(x,0,sp.oo))"
   ]
  },
  {
   "cell_type": "markdown",
   "metadata": {},
   "source": [
    "2. A projectile is thrown directly downward from the top of a tall building ($y_i = 150$ meters) and lands with a thud on the ground ($y_f = 0$) $4$ seconds later. The position equation for the projectile is $$y_f = y_i + v_i \\Delta t + {1\\over 2} g \\Delta t^2$$  Use `sympy` to solve this equation for the initial velocity. Note $g = 9.8$ m/s$^2$   Answer: You should find the initial speed to be $\\approx 18$ m/s"
   ]
  },
  {
   "cell_type": "code",
   "execution_count": 5,
   "metadata": {},
   "outputs": [
    {
     "data": {
      "text/latex": [
       "$\\displaystyle \\left\\{-17.9\\right\\}$"
      ],
      "text/plain": [
       "{-17.9}"
      ]
     },
     "execution_count": 5,
     "metadata": {},
     "output_type": "execute_result"
    }
   ],
   "source": [
    "yf,yi,vi,t,g = sp.symbols(\"yf yi vi t g\")\n",
    "eq = sp.Eq(yf,yi + vi*t + 1/2 * g * t**2)\n",
    "solve = sp.solveset(eq,vi)\n",
    "solve.subs({yf: 0,yi:150,g : -9.8,t: 4})"
   ]
  },
  {
   "cell_type": "markdown",
   "metadata": {},
   "source": [
    "3. A projectile is launched from the top of a building ($y_i = 23$ m) with an initial speed of $v_i = 60$ m/s and a launch angle of $\\theta_i = 32^\\circ$.  The vertical position of the projectile is given by $$y_f = y_i + v_i \\sin \\theta_i \\Delta t - {1\\over 2}g \\Delta t^2$$.  Determine the time it takes before the projectile impacts the ground by solving this equation for $\\Delta t$."
   ]
  },
  {
   "cell_type": "code",
   "execution_count": 12,
   "metadata": {},
   "outputs": [
    {
     "data": {
      "text/latex": [
       "$\\displaystyle \\left\\{-3.16951869812387, 9.65832601526516\\right\\}$"
      ],
      "text/plain": [
       "{-3.16951869812387, 9.65832601526516}"
      ]
     },
     "execution_count": 12,
     "metadata": {},
     "output_type": "execute_result"
    }
   ],
   "source": [
    "import sympy as sp\n",
    "import numpy as np\n",
    "yf,yi,vi,t,g,θ = sp.symbols(\"yf yi vi t g θ\")\n",
    "eq = sp.Eq(yf,yi + vi*sp.sin(θ)*t - 1/2 * g * t**2)\n",
    "solve = sp.solveset(eq,t)\n",
    "solve.subs({yf: 0,yi:150,g : 9.8,θ: 32*np.pi/180, vi: 60})"
   ]
  },
  {
   "cell_type": "markdown",
   "metadata": {},
   "source": [
    "4. An elastic collision is one where the total energy of the particles is the same before and after the collision.  The equations that define an elastic collision where one of the objects is initially at rest are $${1\\over 2} m_1 (v_1)_i^2 = {1\\over 2} m_1 (v_1)_f^2 +{1\\over 2} m_2 (v_2)_f^2$$ $$m_1 (v_1)_i = m_1 (v_1)_f  + m_2 (v_2)_f$$.  Consider a situation where particle 1 ($m_1 = 5 \\text{ kg}$) is initially moving to the right with speed $(v_1)_i = 10 \\text{ m/s}$ and particle 2 is stationary ($m_2 = 2 \\text{ kg}$). Solve this system of equations for$(v_1)_f$ and $(v_2)_f$. Do the results make sense?  Then do the following\n",
    "   1. Make $m_2$ greater than $m_1$.  What do you expect will happen.  Verify that the results match your guess.  \n",
    "   2. Make the mass of particle 2 much greater than particle 1.  What do you expect will happen?  Verify that the results match your guess.\n",
    "   3. Make the mass of particle 1 much greater than particle 2.  What do you expect will happen?  Verify that the results match your guess."
   ]
  },
  {
   "cell_type": "code",
   "execution_count": 15,
   "metadata": {},
   "outputs": [
    {
     "data": {
      "text/latex": [
       "$\\displaystyle \\left\\{\\left( 4.28571428571429, \\  14.2857142857143\\right), \\left( 10, \\  0\\right)\\right\\}$"
      ],
      "text/plain": [
       "{(4.28571428571429, 14.2857142857143), (10, 0)}"
      ]
     },
     "execution_count": 15,
     "metadata": {},
     "output_type": "execute_result"
    }
   ],
   "source": [
    "m1,m2,v1i, v1f,v2f = sp.symbols(\"m1,m2,v1i,v1f,v2f\")\n",
    "energy = sp.Eq(1/2*m1*v1i**2, 1/2*m1*v1f**2+1/2*m2*v2f**2)\n",
    "momentum = sp.Eq(m1*v1i,m1*v1f+m2*v2f)\n",
    "sol = sp.nonlinsolve([energy,momentum],(v1f,v2f))\n",
    "sol.subs({m1: 5, m2: 2, v1i: 10})"
   ]
  },
  {
   "cell_type": "markdown",
   "metadata": {},
   "source": [
    "5. Define a `sympy` variable for $x$ and then calculate the following derivatives:\n",
    "   1. ${d\\over dx} \\ln(x)$\n",
    "   2. ${d\\over dx} e^{5x^2}$\n",
    "   3. ${d\\over dx} \\cos(3 x^3)$\n",
    "   4. ${d\\over dx} (x^3 - 5x^2 + 10 x)$"
   ]
  },
  {
   "cell_type": "code",
   "execution_count": 1,
   "metadata": {},
   "outputs": [
    {
     "data": {
      "text/latex": [
       "$\\displaystyle \\frac{1}{x}$"
      ],
      "text/plain": [
       "1/x"
      ]
     },
     "metadata": {},
     "output_type": "display_data"
    },
    {
     "data": {
      "text/latex": [
       "$\\displaystyle 10 x e^{5 x^{2}}$"
      ],
      "text/plain": [
       "10*x*exp(5*x**2)"
      ]
     },
     "metadata": {},
     "output_type": "display_data"
    },
    {
     "data": {
      "text/latex": [
       "$\\displaystyle - 9 x^{2} \\sin{\\left(3 x^{3} \\right)}$"
      ],
      "text/plain": [
       "-9*x**2*sin(3*x**3)"
      ]
     },
     "metadata": {},
     "output_type": "display_data"
    },
    {
     "data": {
      "text/latex": [
       "$\\displaystyle 3 x^{2} - 10 x + 10$"
      ],
      "text/plain": [
       "3*x**2 - 10*x + 10"
      ]
     },
     "metadata": {},
     "output_type": "display_data"
    }
   ],
   "source": [
    "import sympy as sp\n",
    "x = sp.Symbol(\"x\")\n",
    "eq1 = sp.log(x)\n",
    "eq2 = sp.exp(5*x**2)\n",
    "eq3 = sp.cos(3*x**3)\n",
    "eq4 = x**3 - 5*x**2 + 10*x\n",
    "\n",
    "der1 = sp.diff(eq1,x)\n",
    "der2 = sp.diff(eq2,x)\n",
    "der3 = sp.diff(eq3,x)\n",
    "der4 = sp.diff(eq4,x)\n",
    "display(der1,der2,der3,der4)"
   ]
  },
  {
   "cell_type": "markdown",
   "metadata": {},
   "source": [
    "6. Impulse is defined as the integral of the Force vs. time graph. $$I = \\int F dt$$.  Calculate the impulse imparted to an object from $0< t < 10$ if the force that it experiences is given by $$F(t) = e^{-(t - 4)}$$.\n"
   ]
  },
  {
   "cell_type": "code",
   "execution_count": 7,
   "metadata": {},
   "outputs": [
    {
     "data": {
      "text/latex": [
       "$\\displaystyle - \\frac{1}{e^{6}} + e^{4}$"
      ],
      "text/plain": [
       "-exp(-6) + exp(4)"
      ]
     },
     "metadata": {},
     "output_type": "display_data"
    },
    {
     "data": {
      "text/latex": [
       "$\\displaystyle 54.5956712809676$"
      ],
      "text/plain": [
       "54.5956712809676"
      ]
     },
     "metadata": {},
     "output_type": "display_data"
    }
   ],
   "source": [
    "t = sp.Symbol(\"t\")\n",
    "force = sp.exp(-(t-4))\n",
    "impulse = sp.integrate(force,(t,0,10))\n",
    "display(impulse,sp.N(impulse))"
   ]
  },
  {
   "cell_type": "markdown",
   "metadata": {},
   "source": [
    "### In class"
   ]
  },
  {
   "cell_type": "code",
   "execution_count": 25,
   "metadata": {},
   "outputs": [
    {
     "name": "stdout",
     "output_type": "stream",
     "text": [
      "Index(['Name', ' Diameter', ' Mass', ' Inclination', ' Eccentricity',\n",
      "       ' Semi_majorAxis', ' SurfaceGravity', ' OrbitalPeriod',\n",
      "       ' SiderealRotation', ' Satellites'],\n",
      "      dtype='object')\n",
      "84.01\n",
      "6\n"
     ]
    },
    {
     "data": {
      "text/html": [
       "<div>\n",
       "<style scoped>\n",
       "    .dataframe tbody tr th:only-of-type {\n",
       "        vertical-align: middle;\n",
       "    }\n",
       "\n",
       "    .dataframe tbody tr th {\n",
       "        vertical-align: top;\n",
       "    }\n",
       "\n",
       "    .dataframe thead th {\n",
       "        text-align: right;\n",
       "    }\n",
       "</style>\n",
       "<table border=\"1\" class=\"dataframe\">\n",
       "  <thead>\n",
       "    <tr style=\"text-align: right;\">\n",
       "      <th></th>\n",
       "      <th>Diameter</th>\n",
       "      <th>Mass</th>\n",
       "      <th>Inclination</th>\n",
       "      <th>Eccentricity</th>\n",
       "      <th>Semi_majorAxis</th>\n",
       "      <th>SurfaceGravity</th>\n",
       "      <th>OrbitalPeriod</th>\n",
       "      <th>SiderealRotation</th>\n",
       "      <th>Satellites</th>\n",
       "    </tr>\n",
       "  </thead>\n",
       "  <tbody>\n",
       "    <tr>\n",
       "      <th>count</th>\n",
       "      <td>9.000000</td>\n",
       "      <td>9.000000e+00</td>\n",
       "      <td>9.000000</td>\n",
       "      <td>9.000000</td>\n",
       "      <td>9.000000</td>\n",
       "      <td>9.00000</td>\n",
       "      <td>9.000000</td>\n",
       "      <td>9.000000</td>\n",
       "      <td>9.000000</td>\n",
       "    </tr>\n",
       "    <tr>\n",
       "      <th>mean</th>\n",
       "      <td>44790.411111</td>\n",
       "      <td>2.965398e+26</td>\n",
       "      <td>3.963478</td>\n",
       "      <td>0.081207</td>\n",
       "      <td>11.897541</td>\n",
       "      <td>8.80000</td>\n",
       "      <td>60.177518</td>\n",
       "      <td>34.700928</td>\n",
       "      <td>19.555556</td>\n",
       "    </tr>\n",
       "    <tr>\n",
       "      <th>std</th>\n",
       "      <td>52883.085612</td>\n",
       "      <td>6.281318e+26</td>\n",
       "      <td>5.318150</td>\n",
       "      <td>0.088145</td>\n",
       "      <td>14.475788</td>\n",
       "      <td>6.90473</td>\n",
       "      <td>89.449974</td>\n",
       "      <td>80.393318</td>\n",
       "      <td>26.406018</td>\n",
       "    </tr>\n",
       "    <tr>\n",
       "      <th>min</th>\n",
       "      <td>2370.000000</td>\n",
       "      <td>1.300000e+22</td>\n",
       "      <td>0.000050</td>\n",
       "      <td>0.006777</td>\n",
       "      <td>0.387099</td>\n",
       "      <td>0.62000</td>\n",
       "      <td>0.241000</td>\n",
       "      <td>0.413500</td>\n",
       "      <td>0.000000</td>\n",
       "    </tr>\n",
       "    <tr>\n",
       "      <th>25%</th>\n",
       "      <td>6794.400000</td>\n",
       "      <td>6.419000e+23</td>\n",
       "      <td>1.305300</td>\n",
       "      <td>0.016711</td>\n",
       "      <td>1.000003</td>\n",
       "      <td>3.71000</td>\n",
       "      <td>1.000000</td>\n",
       "      <td>0.671200</td>\n",
       "      <td>1.000000</td>\n",
       "    </tr>\n",
       "    <tr>\n",
       "      <th>50%</th>\n",
       "      <td>12756.300000</td>\n",
       "      <td>5.974000e+24</td>\n",
       "      <td>1.850610</td>\n",
       "      <td>0.048386</td>\n",
       "      <td>5.202887</td>\n",
       "      <td>8.87000</td>\n",
       "      <td>11.860000</td>\n",
       "      <td>0.997271</td>\n",
       "      <td>5.000000</td>\n",
       "    </tr>\n",
       "    <tr>\n",
       "      <th>75%</th>\n",
       "      <td>51118.000000</td>\n",
       "      <td>1.024000e+26</td>\n",
       "      <td>3.394710</td>\n",
       "      <td>0.093394</td>\n",
       "      <td>19.189165</td>\n",
       "      <td>9.78000</td>\n",
       "      <td>84.010000</td>\n",
       "      <td>6.387230</td>\n",
       "      <td>27.000000</td>\n",
       "    </tr>\n",
       "    <tr>\n",
       "      <th>max</th>\n",
       "      <td>142984.000000</td>\n",
       "      <td>1.899000e+27</td>\n",
       "      <td>17.089001</td>\n",
       "      <td>0.250249</td>\n",
       "      <td>39.445070</td>\n",
       "      <td>24.79000</td>\n",
       "      <td>247.740662</td>\n",
       "      <td>243.018700</td>\n",
       "      <td>64.000000</td>\n",
       "    </tr>\n",
       "  </tbody>\n",
       "</table>\n",
       "</div>"
      ],
      "text/plain": [
       "            Diameter          Mass   Inclination   Eccentricity  \\\n",
       "count       9.000000  9.000000e+00      9.000000       9.000000   \n",
       "mean    44790.411111  2.965398e+26      3.963478       0.081207   \n",
       "std     52883.085612  6.281318e+26      5.318150       0.088145   \n",
       "min      2370.000000  1.300000e+22      0.000050       0.006777   \n",
       "25%      6794.400000  6.419000e+23      1.305300       0.016711   \n",
       "50%     12756.300000  5.974000e+24      1.850610       0.048386   \n",
       "75%     51118.000000  1.024000e+26      3.394710       0.093394   \n",
       "max    142984.000000  1.899000e+27     17.089001       0.250249   \n",
       "\n",
       "        Semi_majorAxis   SurfaceGravity   OrbitalPeriod   SiderealRotation  \\\n",
       "count         9.000000          9.00000        9.000000           9.000000   \n",
       "mean         11.897541          8.80000       60.177518          34.700928   \n",
       "std          14.475788          6.90473       89.449974          80.393318   \n",
       "min           0.387099          0.62000        0.241000           0.413500   \n",
       "25%           1.000003          3.71000        1.000000           0.671200   \n",
       "50%           5.202887          8.87000       11.860000           0.997271   \n",
       "75%          19.189165          9.78000       84.010000           6.387230   \n",
       "max          39.445070         24.79000      247.740662         243.018700   \n",
       "\n",
       "        Satellites  \n",
       "count     9.000000  \n",
       "mean     19.555556  \n",
       "std      26.406018  \n",
       "min       0.000000  \n",
       "25%       1.000000  \n",
       "50%       5.000000  \n",
       "75%      27.000000  \n",
       "max      64.000000  "
      ]
     },
     "execution_count": 25,
     "metadata": {},
     "output_type": "execute_result"
    }
   ],
   "source": [
    "import pandas as pd\n",
    "data = pd.read_csv(\"planets.csv\")\n",
    "data = data.rename(index={0:\"Mercury\",1:\"Venus\",2:\"Earth\",3:\"Mars\",4:\"Saturn\",5:\"Jupiter\",6:\"Neptune\",7:\"Uranus\",8:\"Pluto\"})\n",
    "print(data.columns)\n",
    "print(data.at[\"Neptune\",' OrbitalPeriod'])\n",
    "print(len(data[data[\" Eccentricity\"]>.04]))\n",
    "data.query(\"` Mass` > 1*10**24 and ` Diameter` < 50000\")\n",
    "data.describe()"
   ]
  },
  {
   "cell_type": "code",
   "execution_count": null,
   "metadata": {},
   "outputs": [],
   "source": []
  }
 ],
 "metadata": {
  "kernelspec": {
   "display_name": "Python 3 (ipykernel)",
   "language": "python",
   "name": "python3"
  },
  "language_info": {
   "codemirror_mode": {
    "name": "ipython",
    "version": 3
   },
   "file_extension": ".py",
   "mimetype": "text/x-python",
   "name": "python",
   "nbconvert_exporter": "python",
   "pygments_lexer": "ipython3",
   "version": "3.9.7"
  }
 },
 "nbformat": 4,
 "nbformat_minor": 4
}
