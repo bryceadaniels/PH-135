{
 "cells": [
  {
   "cell_type": "markdown",
   "metadata": {},
   "source": [
    "# Exam 1\n",
    "\n",
    "Instructions:  \n",
    "This is a closed book exam.  You are not allowed to use another person or any internet resources. This exam is not timed.  Good Luck, you'll do great.\n",
    "\n",
    "Name: Bryce Daniels & Chance Edwards\n",
    "    \n",
    "\n",
    "    \n",
    "## Short Written Answer\n",
    "1. What is the keyboard shortcut for turning a code cell into a text cell in a Jupyter notebook."
   ]
  },
  {
   "cell_type": "code",
   "execution_count": null,
   "metadata": {},
   "outputs": [],
   "source": [
    "#Answer: \"M\""
   ]
  },
  {
   "cell_type": "markdown",
   "metadata": {},
   "source": [
    "2. What type of number is produced when two integers are added together?"
   ]
  },
  {
   "cell_type": "code",
   "execution_count": null,
   "metadata": {},
   "outputs": [],
   "source": [
    "#Answer:Another Interger"
   ]
  },
  {
   "cell_type": "markdown",
   "metadata": {},
   "source": [
    "3. What does the `%` operator do? (i.e. `5%2`)"
   ]
  },
  {
   "cell_type": "code",
   "execution_count": null,
   "metadata": {},
   "outputs": [],
   "source": [
    "#Answer: Gives you the remainder of two intergers"
   ]
  },
  {
   "cell_type": "markdown",
   "metadata": {},
   "source": [
    "4. What does multiplying a string and an integer produce (or does it produce an error)?"
   ]
  },
  {
   "cell_type": "code",
   "execution_count": null,
   "metadata": {},
   "outputs": [],
   "source": [
    "#Answer:You'll get the string repeated how ever many times the interger is "
   ]
  },
  {
   "cell_type": "markdown",
   "metadata": {},
   "source": [
    "5. What are f-strings?  Give an example."
   ]
  },
  {
   "cell_type": "code",
   "execution_count": 64,
   "metadata": {},
   "outputs": [
    {
     "name": "stdout",
     "output_type": "stream",
     "text": [
      "The answer is 3.34\n"
     ]
    }
   ],
   "source": [
    "#Answer:F-strings are formatted strings that allow you insert a varibles in your print statement\n",
    "forex = 3.34\n",
    "print(f'The answer is {forex}')"
   ]
  },
  {
   "cell_type": "markdown",
   "metadata": {},
   "source": [
    "6. When printing a string with a variable inserted into it, how do you format that number to be in scientific notation with only three digits being displayed after the decimal place?  (Feel free to give a code example in the cell below if that is easier)"
   ]
  },
  {
   "cell_type": "code",
   "execution_count": 65,
   "metadata": {},
   "outputs": [
    {
     "name": "stdout",
     "output_type": "stream",
     "text": [
      "The speed of light is 3.000e+08\n"
     ]
    }
   ],
   "source": [
    "#Answer: {c:.3e}\n",
    "c = 3e8\n",
    "print(f'The speed of light is {c:.3e}')"
   ]
  },
  {
   "cell_type": "markdown",
   "metadata": {},
   "source": [
    "7. How do you extract a substring from a larger string? (Give an example)"
   ]
  },
  {
   "cell_type": "code",
   "execution_count": 66,
   "metadata": {},
   "outputs": [
    {
     "data": {
      "text/plain": [
       "'Hello'"
      ]
     },
     "execution_count": 66,
     "metadata": {},
     "output_type": "execute_result"
    }
   ],
   "source": [
    "#Answer: by using slicing methods\n",
    "Obi = \"Hello_There\"\n",
    "Obi[0:5]"
   ]
  },
  {
   "cell_type": "markdown",
   "metadata": {},
   "source": [
    "8. What does the `len` function do?"
   ]
  },
  {
   "cell_type": "code",
   "execution_count": null,
   "metadata": {},
   "outputs": [],
   "source": [
    "#Answer: The Len function will tell you how long your string, list or tuple is"
   ]
  },
  {
   "cell_type": "markdown",
   "metadata": {},
   "source": [
    "9. What does `a *= 10` mean?"
   ]
  },
  {
   "cell_type": "code",
   "execution_count": null,
   "metadata": {},
   "outputs": [],
   "source": [
    "#Answer: it will redefine 'a' to a TIMES 10"
   ]
  },
  {
   "cell_type": "markdown",
   "metadata": {},
   "source": [
    "10. What is the correct way to check to see if two **float variables** are equal to each other?  (You can write some code to illustrate if you prefer.)"
   ]
  },
  {
   "cell_type": "code",
   "execution_count": 68,
   "metadata": {},
   "outputs": [
    {
     "name": "stdout",
     "output_type": "stream",
     "text": [
      "True\n"
     ]
    }
   ],
   "source": [
    "#Answer: by using the absolute value of the difference, \n",
    "print(abs((2.0)-(12/6))<1e-6)"
   ]
  },
  {
   "cell_type": "markdown",
   "metadata": {},
   "source": [
    "11. What happens when you add two lists together?"
   ]
  },
  {
   "cell_type": "code",
   "execution_count": 69,
   "metadata": {},
   "outputs": [
    {
     "name": "stdout",
     "output_type": "stream",
     "text": [
      "[4, 5, 6, 1, 2, 3]\n"
     ]
    }
   ],
   "source": [
    "#Answer: You get one list in order of how you added them together.\n",
    "a =[1,2,3]\n",
    "b = [4,5,6]\n",
    "print(b+a)"
   ]
  },
  {
   "cell_type": "markdown",
   "metadata": {},
   "source": [
    "## Short Code Answer\n",
    "\n",
    "\n",
    "1. Extract every other element starting at the second element and ending at the 10th element (inclusive) in the list below."
   ]
  },
  {
   "cell_type": "code",
   "execution_count": 39,
   "metadata": {},
   "outputs": [
    {
     "data": {
      "text/plain": [
       "[2, 4, 5, 2, 1]"
      ]
     },
     "execution_count": 39,
     "metadata": {},
     "output_type": "execute_result"
    }
   ],
   "source": [
    "myList = [5,2,1,4,3,5,1,2,4,1,3,5,9,6,5]\n",
    "myList[1:11:2]"
   ]
  },
  {
   "cell_type": "markdown",
   "metadata": {},
   "source": [
    "2. Write a single line of code that prints `True` if the name \"Alexa\" is in the list of names below. Otherwise it prints `False`"
   ]
  },
  {
   "cell_type": "code",
   "execution_count": 41,
   "metadata": {},
   "outputs": [
    {
     "data": {
      "text/plain": [
       "True"
      ]
     },
     "execution_count": 41,
     "metadata": {},
     "output_type": "execute_result"
    }
   ],
   "source": [
    "names = \"Joe,Samantha,Fred,Brigham,Jillyn,Gus,Grant,Bradley,Sophia,Julia,Alex,Penny,Paige,Crystal,Melanie,Joseph,Carter,Linus,Albert,Tori,Alexa\"\n",
    "names.find(\"Alexa\") >= 0"
   ]
  },
  {
   "cell_type": "markdown",
   "metadata": {},
   "source": [
    "3. Using a single line of code, generate a list of even numbers less than 100."
   ]
  },
  {
   "cell_type": "code",
   "execution_count": 44,
   "metadata": {},
   "outputs": [
    {
     "name": "stdout",
     "output_type": "stream",
     "text": [
      "[2, 4, 6, 8, 10, 12, 14, 16, 18, 20, 22, 24, 26, 28, 30, 32, 34, 36, 38, 40, 42, 44, 46, 48, 50, 52, 54, 56, 58, 60, 62, 64, 66, 68, 70, 72, 74, 76, 78, 80, 82, 84, 86, 88, 90, 92, 94, 96, 98]\n"
     ]
    }
   ],
   "source": [
    "# Python code here.\n",
    "mylist = list(range(2,100,2))\n",
    "print(mylist)"
   ]
  },
  {
   "cell_type": "markdown",
   "metadata": {},
   "source": [
    "4. Extract the second to last element in the list below."
   ]
  },
  {
   "cell_type": "code",
   "execution_count": 45,
   "metadata": {},
   "outputs": [
    {
     "data": {
      "text/plain": [
       "'1s2-2s2-2p5'"
      ]
     },
     "execution_count": 45,
     "metadata": {},
     "output_type": "execute_result"
    }
   ],
   "source": [
    "electrons = [\"1s1\",\"1s2\", \"1s2-2s1\",\"1s2-2s2\",\"1s2-2s2-2p1\",\"1s2-2s2-2p2\",\"1s2-2s2-2p3\",\"1s2-2s2-2p4\",\"1s2-2s2-2p5\",\"1s2-2s2-2p6\"]\n",
    "electrons[-2]"
   ]
  },
  {
   "cell_type": "markdown",
   "metadata": {},
   "source": [
    "5. Extract the second number in the second list given below. (It's 5!)"
   ]
  },
  {
   "cell_type": "code",
   "execution_count": 47,
   "metadata": {},
   "outputs": [
    {
     "data": {
      "text/plain": [
       "5"
      ]
     },
     "execution_count": 47,
     "metadata": {},
     "output_type": "execute_result"
    }
   ],
   "source": [
    "conductivity = [[1,2,3],[4,5,6],[7,8,9]]\n",
    "conductivity[1][1]"
   ]
  },
  {
   "cell_type": "markdown",
   "metadata": {},
   "source": [
    "6. Using a single line of code, add the following electron configurations to the list below: \"1s2-2s2-2p6-3s1\", \"1s2-2s2-2p6-3s2\", and \"1s2-2s2-2p6-3s2-3p1\""
   ]
  },
  {
   "cell_type": "code",
   "execution_count": 49,
   "metadata": {},
   "outputs": [
    {
     "name": "stdout",
     "output_type": "stream",
     "text": [
      "['1s1', '1s2', '1s2-2s1', '1s2-2s2', '1s2-2s2-2p1', '1s2-2s2-2p2', '1s2-2s2-2p3', '1s2-2s2-2p4', '1s2-2s2-2p5', '1s2-2s2-2p6', '1s2-2s2-2p6-3s1', '1s2-2s2-2p6-3s2', '1s2-2s2-2p6-3s2-3p1']\n"
     ]
    }
   ],
   "source": [
    "electrons = [\"1s1\",\"1s2\", \"1s2-2s1\",\"1s2-2s2\",\"1s2-2s2-2p1\",\"1s2-2s2-2p2\",\"1s2-2s2-2p3\",\"1s2-2s2-2p4\",\"1s2-2s2-2p5\",\"1s2-2s2-2p6\"]\n",
    "electrons.extend([\"1s2-2s2-2p6-3s1\", \"1s2-2s2-2p6-3s2\",\"1s2-2s2-2p6-3s2-3p1\"])\n",
    "print(electrons)"
   ]
  },
  {
   "cell_type": "markdown",
   "metadata": {},
   "source": [
    "7. Using a single line of code, determine the location of the following electron configuration in the list below: \"1s2-2s2-2p2\""
   ]
  },
  {
   "cell_type": "code",
   "execution_count": 50,
   "metadata": {},
   "outputs": [
    {
     "data": {
      "text/plain": [
       "5"
      ]
     },
     "execution_count": 50,
     "metadata": {},
     "output_type": "execute_result"
    }
   ],
   "source": [
    "electrons = [\"1s1\",\"1s2\", \"1s2-2s1\",\"1s2-2s2\",\"1s2-2s2-2p1\",\"1s2-2s2-2p2\",\"1s2-2s2-2p3\",\"1s2-2s2-2p4\",\"1s2-2s2-2p5\",\"1s2-2s2-2p6\"]\n",
    "electrons.index(\"1s2-2s2-2p2\")"
   ]
  },
  {
   "cell_type": "markdown",
   "metadata": {},
   "source": [
    "8. Below you will find two lists of numbers.  Use a single line of code to join them together to form a single list containing all of the numbers."
   ]
  },
  {
   "cell_type": "code",
   "execution_count": null,
   "metadata": {},
   "outputs": [],
   "source": [
    "x = [3,6,9,12,15]\n",
    "y = [5,10,15,20]\n",
    "x+y"
   ]
  },
  {
   "cell_type": "markdown",
   "metadata": {},
   "source": [
    "9. Find the minimum value in the list of numbers in the cell below."
   ]
  },
  {
   "cell_type": "code",
   "execution_count": null,
   "metadata": {},
   "outputs": [],
   "source": [
    "from numpy.random import uniform\n",
    "x = uniform(0,10,1000)\n",
    "min(x)"
   ]
  },
  {
   "cell_type": "markdown",
   "metadata": {},
   "source": [
    "10. Determine how many 7s are in the list below."
   ]
  },
  {
   "cell_type": "code",
   "execution_count": 53,
   "metadata": {},
   "outputs": [
    {
     "data": {
      "text/plain": [
       "89"
      ]
     },
     "execution_count": 53,
     "metadata": {},
     "output_type": "execute_result"
    }
   ],
   "source": [
    "from numpy.random import randint\n",
    "x = randint(0,10,1000)\n",
    "list(x).count(7)"
   ]
  },
  {
   "cell_type": "markdown",
   "metadata": {},
   "source": [
    "11. The cell below contains a dictionary with the orbital radii of the planets in our solar system.  Use a single line of code to produce a list that contains all of the radii."
   ]
  },
  {
   "cell_type": "code",
   "execution_count": 54,
   "metadata": {},
   "outputs": [
    {
     "data": {
      "text/plain": [
       "dict_values([0.39, 0.72, 1.0, 1.5, 5.2, 9.5, 19.2, 30.1, 39.5])"
      ]
     },
     "execution_count": 54,
     "metadata": {},
     "output_type": "execute_result"
    }
   ],
   "source": [
    "orbitalRadii = {\"Mercury\":0.39, \"Venus\":0.72, \"Earth\":1.0, \"Mars\":1.5,\"Jupiter\":5.2,\"Saturn\":9.5, \"Uranus\":19.2,\"Neptune\":30.1, \"Pluto\": 39.5}\n",
    "orbitalRadii.values()"
   ]
  },
  {
   "cell_type": "markdown",
   "metadata": {},
   "source": [
    "12. The cell below contains a dictionary with the orbital radii of the planets in our solar system. Use a single line of code to add entries for two new planets.  You choose the name of the planets and their radii."
   ]
  },
  {
   "cell_type": "code",
   "execution_count": 56,
   "metadata": {},
   "outputs": [
    {
     "name": "stdout",
     "output_type": "stream",
     "text": [
      "{'Mercury': 0.39, 'Venus': 0.72, 'Earth': 1.0, 'Mars': 1.5, 'Jupiter': 5.2, 'Saturn': 9.5, 'Uranus': 19.2, 'Neptune': 30.1, 'Pluto': 39.5, 'Tatooine': 4.67, 'Hoth': 5.87}\n"
     ]
    }
   ],
   "source": [
    "orbitalRadii = {\"Mercury\":0.39, \"Venus\":0.72, \"Earth\":1.0, \"Mars\":1.5,\"Jupiter\":5.2,\"Saturn\":9.5, \"Uranus\":19.2,\"Neptune\":30.1, \"Pluto\": 39.5}\n",
    "orbitalRadii.update({\"Tatooine\": 4.67, \"Hoth\": 5.87})\n",
    "print(orbitalRadii)"
   ]
  },
  {
   "cell_type": "markdown",
   "metadata": {},
   "source": [
    "13. The cell below contains two sets.  Find their difference."
   ]
  },
  {
   "cell_type": "code",
   "execution_count": 57,
   "metadata": {},
   "outputs": [
    {
     "data": {
      "text/plain": [
       "{3,\n",
       " 4,\n",
       " 6,\n",
       " 9,\n",
       " 10,\n",
       " 15,\n",
       " 16,\n",
       " 21,\n",
       " 25,\n",
       " 28,\n",
       " 45,\n",
       " 49,\n",
       " 55,\n",
       " 64,\n",
       " 66,\n",
       " 78,\n",
       " 81,\n",
       " 91,\n",
       " 100,\n",
       " 105,\n",
       " 120,\n",
       " 121,\n",
       " 136,\n",
       " 144,\n",
       " 153,\n",
       " 169,\n",
       " 171,\n",
       " 190,\n",
       " 196,\n",
       " 225}"
      ]
     },
     "execution_count": 57,
     "metadata": {},
     "output_type": "execute_result"
    }
   ],
   "source": [
    "squares= {1,4,9,16,25,36,49,64,81,100,121,144,169,196,225}\n",
    "triangles = {1, 3, 6, 10, 15, 21, 28, 36, 45, 55, 66, 78, 91, 105, 120, 136, 153, 171, 190}\n",
    "squares^triangles"
   ]
  },
  {
   "cell_type": "markdown",
   "metadata": {},
   "source": [
    "14. Construct a lambda function for $y = {\\sin(x) \\over x}$"
   ]
  },
  {
   "cell_type": "code",
   "execution_count": 62,
   "metadata": {},
   "outputs": [],
   "source": [
    "# Python code here\n",
    "from math import sin\n",
    "y= lambda x: sin(x)/x"
   ]
  },
  {
   "cell_type": "markdown",
   "metadata": {},
   "source": [
    "15. Import the following functions/numbers from the `math` module: `tan`,`sin`, and `pi`"
   ]
  },
  {
   "cell_type": "code",
   "execution_count": 63,
   "metadata": {},
   "outputs": [],
   "source": [
    "# Python code here\n",
    "from math import tan, sin, pi"
   ]
  },
  {
   "cell_type": "markdown",
   "metadata": {},
   "source": [
    "## Long Code Answer\n",
    "\n",
    "1. Calculate the following quantities in the cell provided below.\n",
    "    1. ${ 5^2 \\over \\sqrt{3} + 2}$\n",
    "    2. $\\cos(215^\\circ)$\n",
    "    3. $\\log_{10}(200)$\n",
    "    4. $e^2.3$"
   ]
  },
  {
   "cell_type": "code",
   "execution_count": null,
   "metadata": {},
   "outputs": [],
   "source": [
    "# Python code here\n",
    "from numpy import sqrt, cos, log10, e\n",
    "A = 5**2 /(sqrt(3)+2)\n",
    "B = cos(215*pi/180)\n",
    "C = log10(200)\n",
    "D = e**(2.3)"
   ]
  },
  {
   "cell_type": "markdown",
   "metadata": {},
   "source": [
    "2. In the cell below, you'll find a string containing the first 7 energy levels for the Hydrogen atom.  But there are also other characters and symbols mixed into the string. The energies are: `[-13.6,-3.4,-1.511,...]` \n",
    "    1. **Using list methods/functions** generate a list that only contains the energies. Don't just read the values and build the list by hand. The list elements must be numbers, not string.\n",
    "    2. Calculate the energy difference between level 1 and level 7.\n",
    "    3. Calculate the energy difference between level 3 and level 5.\n",
    "    \n",
    "Hint: You will need some form of a loop (`for` loop or list comprehension) as well as the `split` list method."
   ]
  },
  {
   "cell_type": "code",
   "execution_count": 4,
   "metadata": {},
   "outputs": [
    {
     "name": "stdout",
     "output_type": "stream",
     "text": [
      "[-13.6, -3.4, -1.511, -0.85, -0.544, -0.378, -0.278]\n",
      "-13.322 -0.9669999999999999\n"
     ]
    }
   ],
   "source": [
    "energies = \"Level 1:-13.6,Level 2:-3.4,Level 3:-1.511,Level 4:-0.850,Level 5:-0.544,Level 6:-0.378,Level 7:-0.278\"\n",
    "levels = energies.split(',')\n",
    "energy = []\n",
    "for level in levels:\n",
    "    energy.append(float(level.split(':')[1]))\n",
    "print(energy)\n",
    "B = energy[0]-energy[6]\n",
    "C = energy[2]-energy[4]\n",
    "print(B,C)"
   ]
  },
  {
   "cell_type": "markdown",
   "metadata": {},
   "source": [
    "3. You may remember the fibonacci sequence from class. The first and second numbers in the sequence are both $1$. Subsequent numbers in the sequence can be found by adding the two previous numbers together.  Here are the first few number in the sequence: $$[1,1,2,3,5,8,13]$$ Write some code that will populate a list with the fibonacci numbers until the ratio of the last two numbers is within $1 \\times 10^{-8}$ of the golden ratio: $1.61803398874989$.  Report how many fibonacci numbers you generated. \n",
    "\n",
    "    1. Do it using a `while` loop. Caution: Build a fail-safe into your `while` loop to avoid an infinite loop.\n",
    "    2. Do it using a `for` loop."
   ]
  },
  {
   "cell_type": "code",
   "execution_count": 12,
   "metadata": {},
   "outputs": [
    {
     "name": "stdout",
     "output_type": "stream",
     "text": [
      "19\n",
      "19\n"
     ]
    }
   ],
   "source": [
    "#Python code here.\n",
    "fib = [1,1]\n",
    "counter = 0\n",
    "while abs(fib[-1]/fib[-2] - 1.61803398874989)> 1e-8:\n",
    "    num = fib[-2]+fib[-1]\n",
    "    fib.append(num)\n",
    "    counter +=1\n",
    "    if counter > 10000:\n",
    "        break\n",
    "print(counter)\n",
    "\n",
    "fib = [1,1]\n",
    "counter = 0\n",
    "for n in range(10000):\n",
    "    num = fib[-2]+fib[-1]\n",
    "    fib.append(num)\n",
    "    counter +=1\n",
    "    if abs(fib[-1]/fib[-2] - 1.61803398874989)< 1e-8:\n",
    "        break\n",
    "print(counter)"
   ]
  },
  {
   "cell_type": "markdown",
   "metadata": {},
   "source": [
    "4. The hexagonal sequence is a sequence of number where the n-th number is given by $$ h_n = {2 n (2n - 1)\\over 2}$$. (see [here](https://en.wikipedia.org/wiki/Hexagonal_number) for an explanation of what the hexagonal numbers are if you are curious.  ) Use a method of your choosing to construct a list containing the first 100 hexagonal numbers.  The website linked above also gives the first 15 or 20 numbers in the sequence and you can use that information to check yourself if you'd like."
   ]
  },
  {
   "cell_type": "code",
   "execution_count": 13,
   "metadata": {},
   "outputs": [
    {
     "name": "stdout",
     "output_type": "stream",
     "text": [
      "[1.0, 6.0, 15.0, 28.0, 45.0, 66.0, 91.0, 120.0, 153.0, 190.0, 231.0, 276.0, 325.0, 378.0, 435.0, 496.0, 561.0, 630.0, 703.0, 780.0, 861.0, 946.0, 1035.0, 1128.0, 1225.0, 1326.0, 1431.0, 1540.0, 1653.0, 1770.0, 1891.0, 2016.0, 2145.0, 2278.0, 2415.0, 2556.0, 2701.0, 2850.0, 3003.0, 3160.0, 3321.0, 3486.0, 3655.0, 3828.0, 4005.0, 4186.0, 4371.0, 4560.0, 4753.0, 4950.0, 5151.0, 5356.0, 5565.0, 5778.0, 5995.0, 6216.0, 6441.0, 6670.0, 6903.0, 7140.0, 7381.0, 7626.0, 7875.0, 8128.0, 8385.0, 8646.0, 8911.0, 9180.0, 9453.0, 9730.0, 10011.0, 10296.0, 10585.0, 10878.0, 11175.0, 11476.0, 11781.0, 12090.0, 12403.0, 12720.0, 13041.0, 13366.0, 13695.0, 14028.0, 14365.0, 14706.0, 15051.0, 15400.0, 15753.0, 16110.0, 16471.0, 16836.0, 17205.0, 17578.0, 17955.0, 18336.0, 18721.0, 19110.0, 19503.0, 19900.0]\n"
     ]
    }
   ],
   "source": [
    "#Python code here.\n",
    "n = 0\n",
    "hex = [2*n*(2*n-1)/2 for n in range(1,101)]\n",
    "print(hex)"
   ]
  },
  {
   "cell_type": "markdown",
   "metadata": {},
   "source": [
    "5. Use a loop to calculate the following summation for $x = 0.5$: $$ \\sum_{n = 0}^\\infty (-1)^n {x^{n+1} \\over n + 1}$$  Do it three different ways:\n",
    "    1. Using a `for` loop with enough iterations that the sum isn't changing much. \n",
    "    2. Using a `while` loop that continues until ${x^{n+1} \\over n + 1} < 1 \\times 10^{-4}$. Report the number of iterations you had to perform to get that level of accuracy.\n",
    "    3. Using list comprehension and the `sum` function. (Use the same number of terms that you used for your `for` loop.)\n",
    "    \n",
    "The sum should converge to $$\\ln(1+ x)$$ if you include a sufficient number of terms.  Check that it does."
   ]
  },
  {
   "cell_type": "code",
   "execution_count": 19,
   "metadata": {},
   "outputs": [
    {
     "name": "stdout",
     "output_type": "stream",
     "text": [
      "-0.6931471805599451\n",
      "-0.6929671999007935\n",
      "-0.6931471805599451\n"
     ]
    }
   ],
   "source": [
    "#Python code here\n",
    "n=0\n",
    "x=0.5\n",
    "Sum = 0\n",
    "for n in range(600):\n",
    "    Sum += -1**n*(x**(n+1)/(n+1))\n",
    "print(Sum)\n",
    "\n",
    "n=0\n",
    "Sums = 0\n",
    "while (x**(n+1)/(n+1)) > 1e-4:\n",
    "    Sums += -1**n*(x**(n+1)/(n+1))\n",
    "    n+=1\n",
    "    if n > 1000000:\n",
    "        break\n",
    "print(Sums)\n",
    "\n",
    "C=[-1**n*(x**(n+1)/(n+1)) for n in range(600)]\n",
    "print(sum(C))"
   ]
  },
  {
   "cell_type": "markdown",
   "metadata": {},
   "source": [
    "6. An important function in thermodynamics is the multiplicity equation: $$ \\Omega = {(q + N - 1)! \\over q! (N-1)!}$$ which gives the number of ways to arrange $q$ units of energy amongst $N$ particles.\n",
    "\n",
    "    1. Construct a function that takes the number of energy units($q$) as a required argument and the number of particles ($N$) as a keyword argument with a default value of $10$.  The function should return the multiplicity ($\\Omega$). Note: there is a `factorial` function inside `scipy.special`. \n",
    "    2. Now use list comprehension (or a traditional loop) to call your function for $q$ values ranging from $0\\rightarrow 10$ (inclusive).\n",
    "    3. Use a list method to determine which $q$ value produces the largest multiplicity ($\\Omega$)."
   ]
  },
  {
   "cell_type": "code",
   "execution_count": 27,
   "metadata": {},
   "outputs": [
    {
     "name": "stdout",
     "output_type": "stream",
     "text": [
      "The max multiplicity is 92378.0 with a q value of 10\n"
     ]
    }
   ],
   "source": [
    "# Python code here\n",
    "from scipy.special import factorial\n",
    "def mult(q,N = 10):\n",
    "    return factorial(q+N-1)/(factorial(q)*factorial(N-1))\n",
    "\n",
    "mults = [mult(q) for q in range(11)]\n",
    "print(f'The max multiplicity is {max(mults)} with a q value of {mults.index(max(mults))}')"
   ]
  },
  {
   "cell_type": "markdown",
   "metadata": {},
   "source": [
    "7. Perform the following:\n",
    "    1. Using list comprehension, generate a list of the first 50 even numbers squared. (i.e. `[2^2,4^2,6^2,...]`)\n",
    "    2. Use list slicing to extract **every other number** in this list.\n",
    "    3. Add the number $102^2=10404$ to the end of the list\n",
    "    4. Use a single line of code to remove $62^2 = 3844$ from the list.\n",
    "    5. Add the numbers $[104^2, 106^2]$ to the end of the list using a single line of code.\n",
    "    7. Reverse the order of the list.\n",
    "    8. Add up all of the values and print the result."
   ]
  },
  {
   "cell_type": "code",
   "execution_count": 36,
   "metadata": {},
   "outputs": [
    {
     "name": "stdout",
     "output_type": "stream",
     "text": [
      "[11236, 10816, 10404, 10000, 9604, 9216, 8836, 8464, 8100, 7744, 7396, 7056, 6724, 6400, 6084, 5776, 5476, 5184, 4900, 4624, 4356, 4096, 3600, 3364, 3136, 2916, 2704, 2500, 2304, 2116, 1936, 1764, 1600, 1444, 1296, 1156, 1024, 900, 784, 676, 576, 484, 400, 324, 256, 196, 144, 100, 64, 36, 16, 4] 200312\n"
     ]
    }
   ],
   "source": [
    "# Python code here\n",
    "A=[i**2 for i in range(2,101,2)]\n",
    "A[::2]\n",
    "A.append(102**2)\n",
    "A.remove(3844)\n",
    "A.extend([104**2,106**2])\n",
    "A.reverse()\n",
    "sum(A)\n",
    "print(A, sum(A))"
   ]
  },
  {
   "cell_type": "code",
   "execution_count": null,
   "metadata": {},
   "outputs": [],
   "source": []
  }
 ],
 "metadata": {
  "kernelspec": {
   "display_name": "Python 3 (ipykernel)",
   "language": "python",
   "name": "python3"
  },
  "language_info": {
   "codemirror_mode": {
    "name": "ipython",
    "version": 3
   },
   "file_extension": ".py",
   "mimetype": "text/x-python",
   "name": "python",
   "nbconvert_exporter": "python",
   "pygments_lexer": "ipython3",
   "version": "3.9.7"
  }
 },
 "nbformat": 4,
 "nbformat_minor": 4
}
