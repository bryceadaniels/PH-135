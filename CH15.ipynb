{
 "cells": [
  {
   "cell_type": "code",
   "execution_count": 47,
   "metadata": {},
   "outputs": [
    {
     "data": {
      "text/latex": [
       "$\\displaystyle - 4 \\pi \\cos{\\left(2 \\pi^{2} \\right)}$"
      ],
      "text/plain": [
       "-4*pi*cos(2*pi**2)"
      ]
     },
     "execution_count": 47,
     "metadata": {},
     "output_type": "execute_result"
    }
   ],
   "source": [
    "import sympy as sp\n",
    "x = sp.Symbol(\"x\")\n",
    "y = sp.sin(2*x**2)*sp.cos(x)\n",
    "sp.simplify(sp.diff(y,x).subs({x:sp.pi}))"
   ]
  },
  {
   "cell_type": "code",
   "execution_count": 48,
   "metadata": {},
   "outputs": [
    {
     "data": {
      "text/latex": [
       "$\\displaystyle \\frac{4}{3}$"
      ],
      "text/plain": [
       "4/3"
      ]
     },
     "execution_count": 48,
     "metadata": {},
     "output_type": "execute_result"
    }
   ],
   "source": [
    "y = sp.sin(2*x)*sp.cos(x)\n",
    "sp.integrate(y,(x,0,sp.pi))"
   ]
  },
  {
   "cell_type": "code",
   "execution_count": 49,
   "metadata": {},
   "outputs": [
    {
     "data": {
      "text/latex": [
       "$\\displaystyle \\left\\{\\left( \\frac{56}{19}, \\  - \\frac{30}{19}\\right)\\right\\}$"
      ],
      "text/plain": [
       "{(56/19, -30/19)}"
      ]
     },
     "execution_count": 49,
     "metadata": {},
     "output_type": "execute_result"
    }
   ],
   "source": [
    "x,y = sp.symbols(\"x y\")\n",
    "eq1 = sp.Eq(5*x+3*y,10)\n",
    "eq2 = sp.Eq(3*x-2*y,12)\n",
    "sp.linsolve([eq1,eq2],(x,y))"
   ]
  },
  {
   "cell_type": "raw",
   "metadata": {},
   "source": [
    "---\n",
    "reference-location: margin\n",
    "citation-location: margin\n",
    "execute:\n",
    "  freeze: auto\n",
    "---"
   ]
  },
  {
   "cell_type": "markdown",
   "metadata": {},
   "source": [
    "# Root Finding and Optimization Algorithms\n",
    "\n",
    "[Jupyter Notebook](https://lancejnelson.github.io/PH135/jupyter/rootFinding.ipynb)\n",
    "\n",
    "Often in science, we find ourselves wanting to do one of the following: (See figure below) \n",
    "\n",
    "1. Solve an equation for a specified variable.\n",
    "2. Find the zeros of a function (equivalent to solving an equation that is equal to zero).\n",
    "3. Find the extrema (maxima or minima) of a function.\n"
   ]
  },
  {
   "cell_type": "code",
   "execution_count": 3,
   "metadata": {},
   "outputs": [
    {
     "data": {
      "image/png": "[encoded data removed]",
      "text/plain": [
       "<Figure size 360x360 with 1 Axes>"
      ]
     },
     "metadata": {
      "needs_background": "light"
     },
     "output_type": "display_data"
    }
   ],
   "source": [
    "#| echo: false\n",
    "#| fig-cap: \"The zero(red dot), maximum (green dot), and minimum (blue dot) of a function are illustrated.\"\n",
    "import matplotlib.pyplot as plt\n",
    "import numpy as np\n",
    "\n",
    "x = np.linspace(-0.5,3.5,100)\n",
    "y = np.cos(x)\n",
    "plt.figure(figsize = (5,5))\n",
    "plt.plot(x,y,'b-')\n",
    "plt.plot([1.5707],[0],'r.',ms = 15)\n",
    "plt.plot([3.14],[-1.0],'b.',ms = 15)\n",
    "plt.plot([0],[1],'g.',ms = 15)\n",
    "plt.grid()\n",
    "plt.show()"
   ]
  },
  {
   "cell_type": "markdown",
   "metadata": {},
   "source": [
    "These skills are routinely covered in an algebra class but often the equation we encounter cannot be solved using standard algebraic techniques. Instead we have to resort to a class of numerical algorithms generally referred to as root finding or optimization algorithms.  In the remainder of this chapter we will discuss various numerical methods for finding the roots of an equation.  The algorithms described below can be used to perform any of the tasks mentioned above. \n",
    "\n",
    "<!--  Finding the zero of this function means finding the x-value where the function is equal to zero (red dot).  Finding the min or max of the function means finding the x value where the slope of the function is zero (blue and green dots). When algebra techniques fail to solve the equation, we can use one of several numerical algorithms to solve it instead. \n",
    "You probably remember being asked to find the roots of a function in your math class. Finding the roots means finding the x values that make $y(x) = 0$. For example, the following polynomial equation has two solutions that can be found using the quadratic formula.\n",
    "\n",
    "$$\n",
    "4 x^2 + 2x - 2 = 0\n",
    "$$\n",
    "\n",
    "The solutions to this equation are $-1$ and ${1\\over 2}$. Try plugging them into the equation above to verify this. -->\n",
    "   \n",
    "\n",
    "## Bisection  \n",
    "![Used with permission from: https://commons.wikimedia.org/wiki/File:Bisection_method.svg](https://lancejnelson.github.io/PH135/figures/Bisection_method.png){width=60%}\n",
    "\n",
    "The bisection method finds the roots of a function by iteratively narrowing the interval where the zero is found until the interval becomes sufficiently small. If you want to find the location where the function equals something other than zero, you can simply rearrange the function until a zero appears on the right hand side of the equation and proceed with bisection on the new function.  To begin the bisection method, the user must choose an interval wherein the function zero is guaranteed to be found.  The midpoint of the interval is then found and a new, narrower interval is chosen.  By repeating this process until the interval becomes sufficiently small, the algorithm eventually finds the location where the function is equal to zero.  The steps to the algorithm are as follows:  \n",
    "\n",
    "1. Choose an interval wherein the function zero is certain to be located. Call the interval $(a,b)$\n",
    "2. Calculate the midpoint of the interval $c = {a+ b \\over 2}$\n",
    "3. Calculate the function value at the midpoint ($f(c)$).\n",
    "4. By examining the sign of $f(c)$ determine whether the interval $(a,c)$ or $(c,b)$ contains the zero of the function.\n",
    "5. Repeat steps 2-4 until $f(c)$ is sufficiently small.\n",
    "\n",
    "In the code cell below, try to use the bisection method to solve the following equation.\n",
    "$$\n",
    "y(x) = 5 x^2 - 3x - 2 = 0\n",
    "$$"
   ]
  },
  {
   "cell_type": "code",
   "execution_count": 4,
   "metadata": {},
   "outputs": [
    {
     "name": "stdout",
     "output_type": "stream",
     "text": [
      "(1.000000,-0.00)\n"
     ]
    }
   ],
   "source": [
    "def y(x):\n",
    "    return 5*x**2 - 3*x-2\n",
    "import numpy as np\n",
    "a = 0\n",
    "b = 100\n",
    "while abs(b-a) > 1e-6:\n",
    "    xmid = (a+b)/2\n",
    "    ymid = y(xmid)\n",
    "    if np.sign(ymid)==np.sign(y(a)):\n",
    "        a = xmid\n",
    "    else:\n",
    "        b = xmid\n",
    "        \n",
    "print(f\"({xmid:2f},{y(xmid):.2f})\")"
   ]
  },
  {
   "cell_type": "markdown",
   "metadata": {},
   "source": [
    "## Newton's Method\n",
    "![Used with permission from: https://commons.wikimedia.org/wiki/File:Newton_iteration.svg](https://lancejnelson.github.io/PH135/figures/Newtons_method.png){width=60%}\n",
    "\n",
    "Newton's method uses the slope of the function to estimate a better approximation to the function's zero.  To understand how we can use the slope to approximate the zero, first let's write down an approximation to the slope of a function $f(x)$. \n",
    "\n",
    "$$\n",
    "f'(x_0) \\approx {f(x_1) - f(x_0) \\over x_1 - x_0}\n",
    "$$\n",
    "\n",
    "If the slope of the function were a constant, we could simply set $f(x_1) = 0$ and solve for $x_1$ and we would be done.\n",
    "\n",
    "$$\n",
    "x_1 = x_0 - {f(x_0)\\over f'(x_0)}\n",
    "$$\n",
    "\n",
    "In reality, the function will not have a constant slope but this equation will still get us closer to the zero than we were originally. (see figure)  By repeatedly evaluating the equation above, always using the most recent estimate as $x_0$, until $f(x_0)$ becomes sufficiently small, the location where the function is zero can be found. \n",
    "$$\n",
    "x_{n+1} = x_n - {f(x_n)\\over f'(x_n)}\n",
    "$$\n",
    "\n",
    "To begin the algorithm, the user must choose an  initial guess for the zero that isn't very far away from the true value.  An improvement on this initial guess is calculated using the equation above  where $f'(x_n)$ is the derivative of the function evaluated at the current guess.  The algorithm continues with repeated evaluation of the equation above until $f(x_n)$ evaluates to a sufficiently small number.\n",
    "\n",
    "Below you will find a code example for solving the following equation:\n",
    "\n",
    "$$\n",
    "y(x) = \\cos(x) = 0\n",
    "$$"
   ]
  },
  {
   "cell_type": "code",
   "execution_count": 1,
   "metadata": {},
   "outputs": [
    {
     "name": "stdout",
     "output_type": "stream",
     "text": [
      "1.5707963256833193 1.1115773359029342e-09\n"
     ]
    }
   ],
   "source": [
    "import numpy as np\n",
    "\n",
    "x = 2.3\n",
    "\n",
    "while abs(np.cos(x)) > 1e-5:\n",
    "    x += np.cos(x)/np.sin(x) \n",
    "\n",
    "print(x,np.cos(x))"
   ]
  },
  {
   "cell_type": "markdown",
   "metadata": {},
   "source": [
    "If the function of interest has multiple zeros (like the cosine function we did above), one must give careful consideration to the initial guess.  Making a poor choice can lead to the algorithm finding a different zero than what was intended. \n",
    "\n",
    "\n",
    "## Fixed-Point Iteration\n",
    "![Used with permission from: https://commons.wikimedia.org/wiki/File:Cosine_fixed_point.svg](https://lancejnelson.github.io/PH135/figures/Fixed_Point.png){width=60%}\n",
    "\n",
    "Fixed-point iteration is another algorithm for finding function zeros. To begin, the function of interest must be rearranged to look similar to the function below.\n",
    "$$\n",
    "x = \\cos(x)\n",
    "$$\n",
    "As opposed to the alternate form:\n",
    "\n",
    "$$\n",
    "y(x) = x - \\cos(x) = 0\n",
    "$$\n",
    "\n",
    "If the function cannot be manipulated to look like the form above, it is not a good candidate for the fixed-point iteration method.  Once the equation is in this form, the user must choose an initial guess for the zero just as with the other algorithms.  The algorithm then proceeds by using the initial guess to evaluate the right hand side of the equation.  This process repeats with the new guess always being used to evaluate the function until $|x - \\cos(x)|$ is sufficiently small.   The equation given above is an example of a transcendental equation, or an equation that cannot be solved using algebraic techniques. No matter how hard you try, you'll never come up with an expression that solves this equation.\n",
    "\n",
    "The code cell below shows the fixed-point iteration algorithm used to find the zeros of the function mentioned above: $x = \\cos(x)$"
   ]
  },
  {
   "cell_type": "code",
   "execution_count": 6,
   "metadata": {},
   "outputs": [],
   "source": [
    "import numpy as np\n",
    "x = 3\n",
    "count = 0\n",
    "while abs(x - np.cos(x)) > 1e-5:\n",
    "  x = np.cos(x)\n",
    "  count += 1"
   ]
  },
  {
   "cell_type": "markdown",
   "metadata": {},
   "source": [
    "To find the zeros of a function that is not in the form: $x = f(x)$, you must first algebraically manipulate the equation to take this form. For example, the following equation\n",
    "\n",
    "$$\n",
    "2x^3 - 2 x - 5 =0 \n",
    "$$\n",
    "\n",
    "Is equivalent to:\n",
    "$$\n",
    "x = (x+{5\\over 2})^{1\\over 3}\n",
    "$$\n",
    "\n",
    "And the fixed-point iteration algorithm can now be used to solve for $x$:"
   ]
  },
  {
   "cell_type": "code",
   "execution_count": 7,
   "metadata": {},
   "outputs": [],
   "source": [
    "import numpy as np\n",
    "x = 3\n",
    "count = 0\n",
    "while abs(x - (x+5/2)**(1/3)) > 1e-8:\n",
    "    x = (x+5/2)**(1/3)\n",
    "    count += 1\n",
    "    if count > 10000:\n",
    "        break"
   ]
  },
  {
   "cell_type": "markdown",
   "metadata": {},
   "source": [
    "## Finding Extrema\n",
    "\n",
    "Any of the methods discussed above can be used to find extrema by finding the zeros of the derivative.  For example, to find the minimum of this function:\n",
    "\n",
    "$$\n",
    "y(x) = 5 x^3 - 2x^2 - 8 x + 2 \n",
    "$$\n",
    "\n",
    "We can find the zeros of the derivative function:\n",
    "\n",
    "$$\n",
    "y'(x) = 15 x^2 - 4 x - 8\n",
    "$$\n",
    "\n",
    "And then used fixed-point iteration, or any of the other methods discussed, to solve this equation for $x$:\n"
   ]
  },
  {
   "cell_type": "code",
   "execution_count": 8,
   "metadata": {},
   "outputs": [
    {
     "name": "stdout",
     "output_type": "stream",
     "text": [
      "0.8757019168612669\n"
     ]
    }
   ],
   "source": [
    "import numpy as np\n",
    "x = 3\n",
    "count = 0\n",
    "while abs(x - np.sqrt(4/15 * x + 8/15)) > 1e-8:\n",
    "    x = np.sqrt(4/15 * x + 8/15)\n",
    "    count += 1\n",
    "    if count > 10000:\n",
    "      print(\"Too many iterations. Results may not be correct!\")\n",
    "      break\n",
    "print(x)"
   ]
  },
  {
   "cell_type": "markdown",
   "metadata": {},
   "source": [
    "## Exercises\n",
    "1. Use the bisection method to find the zeros of the function $$ y(x) = 8x^3 - 15 x^2 - 4 x + 5$$\n",
    "Hint: This function has three zeros; one in the region [-1,0], one in the region [0,1] and another in the region [1.5,2.5]"
   ]
  },
  {
   "cell_type": "code",
   "execution_count": 9,
   "metadata": {},
   "outputs": [
    {
     "name": "stdout",
     "output_type": "stream",
     "text": [
      "-0.6118317591026425 1.8531602918869794e-09\n",
      "0.5191504592075944 -4.033573475226149e-09\n",
      "1.9676813008263707 1.6265985891550372e-08\n"
     ]
    }
   ],
   "source": [
    "import numpy as np\n",
    "def y(x):\n",
    "    return 8*x**3 - 15*x**2-4*x+5\n",
    "\n",
    "a = -1\n",
    "b = 0\n",
    "while abs(a-b)>1e-9:\n",
    "    xmid = (a+b)/2\n",
    "    if np.sign(y(xmid)) == np.sign(y(a)):\n",
    "        a = xmid\n",
    "    else:\n",
    "        b = xmid\n",
    "print(xmid,y(xmid))\n",
    "\n",
    "a = 0\n",
    "b = 1\n",
    "while abs(a-b)>1e-9:\n",
    "    xmid = (a+b)/2\n",
    "    if np.sign(y(xmid)) == np.sign(y(a)):\n",
    "        a = xmid\n",
    "    else:\n",
    "        b = xmid\n",
    "print(xmid,y(xmid))\n",
    "\n",
    "a = 1.5\n",
    "b = 2.5\n",
    "while abs(a-b)>1e-9:\n",
    "    xmid = (a+b)/2\n",
    "    if np.sign(y(xmid)) == np.sign(y(a)):\n",
    "        a = xmid\n",
    "    else:\n",
    "        b = xmid\n",
    "print(xmid,y(xmid))"
   ]
  },
  {
   "cell_type": "markdown",
   "metadata": {},
   "source": [
    "2. Use Newton's method to find the zero for the following function (slightly different from the one in problem 1) $$y(x) = 8x^3 - 15 x^2 - 4 x - 5$$\n",
    "then use `sympy` to solve the equation and verify that the answer are the same.  \n",
    "Answer: You should find that the zero is located at $\\approx 2.2257$  \n",
    "Hint: The derivative of this function is:\n",
    "$$\n",
    "y'(x) = 24 x^2 - 20 x - 4\n",
    "$$"
   ]
  },
  {
   "cell_type": "code",
   "execution_count": 2,
   "metadata": {},
   "outputs": [
    {
     "name": "stdout",
     "output_type": "stream",
     "text": [
      "2.2257952919836232 8.075868862533753e-10\n"
     ]
    },
    {
     "data": {
      "text/latex": [
       "$\\displaystyle \\left\\{2.22579529196684, -0.175397645983421 - 0.50003417391955 i, -0.175397645983421 + 0.50003417391955 i\\right\\}$"
      ],
      "text/plain": [
       "{2.22579529196684, -0.175397645983421 - 0.50003417391955*I, -0.175397645983421 + 0.50003417391955*I}"
      ]
     },
     "execution_count": 2,
     "metadata": {},
     "output_type": "execute_result"
    }
   ],
   "source": [
    "import sympy as sp\n",
    "def y(x):\n",
    "    return 8*x**3 - 15*x**2 - 4*x-5\n",
    "def yp(x):\n",
    "    return 24*x**2-20*x-4\n",
    "x = 3\n",
    "while abs(y(x))>1e-9:\n",
    "    x = x-y(x)/yp(x)\n",
    "print(x,y(x))\n",
    "x = sp.Symbol(\"x\")\n",
    "y = 8*x**3 - 15*x**2 - 4*x -5\n",
    "sp.N(sp.solveset(y,x))"
   ]
  },
  {
   "cell_type": "markdown",
   "metadata": {},
   "source": [
    "3. Use fixed-point iteration to solve the following equation$$\\left({1\\over 2}\\right)^x = x^2$$"
   ]
  },
  {
   "cell_type": "code",
   "execution_count": 11,
   "metadata": {},
   "outputs": [
    {
     "name": "stdout",
     "output_type": "stream",
     "text": [
      "0.7666646955676868\n",
      "-1.9999999992601514\n"
     ]
    }
   ],
   "source": [
    "x = 5\n",
    "while abs(x**2-(1/2)**(x)) >1e-9:\n",
    "    x = (1/2)**(1/2*x)\n",
    "print(x)\n",
    "x = 5\n",
    "while abs(x**2-(1/2)**(x)) >1e-9:\n",
    "    x = -(1/2)**(1/2*x)\n",
    "print(x)"
   ]
  },
  {
   "cell_type": "markdown",
   "metadata": {},
   "source": [
    "4. Use Newton's method to solve the following equation $$e^x = \\cos(x)$$\n",
    "Note: This function has three solutions; one in the region [-5,-4], one in the region [-2,-1] and another in the region [-1,1]. See if you can find all of them by varying your initial guess."
   ]
  },
  {
   "cell_type": "code",
   "execution_count": 12,
   "metadata": {},
   "outputs": [
    {
     "name": "stdout",
     "output_type": "stream",
     "text": [
      "-4.721292758847686\n",
      "-1.2926957194226605\n",
      "2.9701450707245274e-15\n"
     ]
    }
   ],
   "source": [
    "def y(x):\n",
    "    return np.exp(x)-np.cos(x)\n",
    "def yp(x):\n",
    "    return np.exp(x)+np.sin(x)\n",
    "x = -4\n",
    "while abs(y(x)) > 1e-9:\n",
    "    x = x-y(x)/yp(x)\n",
    "print(x)\n",
    "x = -2\n",
    "while abs(y(x)) > 1e-9:\n",
    "    x = x-y(x)/yp(x)\n",
    "print(x)\n",
    "x =0.5\n",
    "while abs(y(x)) > 1e-9:\n",
    "    x = x-y(x)/yp(x)\n",
    "print(x)"
   ]
  },
  {
   "cell_type": "markdown",
   "metadata": {},
   "source": [
    "5. Use a method of your choosing to find the **minimum** of the function $$y(x) = 10 x^2 \\cos(\\sqrt{x})$$\n",
    "Hint: If you choose to use the bisection method, you'll need the first derivative of this function. If you choose to use Newton's method, you'll need the first and second derivatives of this function.  Both of these functions are given below.\n",
    "\n",
    "$$\n",
    "y'(x) = 20 x \\cos(\\sqrt{x}) - 5 x^{3/2} \\sin(\\sqrt{x})\n",
    "$$\n",
    "\n",
    "$$\n",
    "y''(x) = 20 \\cos(\\sqrt{x}) - {5\\over 2} x \\cos(\\sqrt{x}) - {35\\over 2} \\sqrt{x} \\sin(\\sqrt{x})\n",
    "$$"
   ]
  },
  {
   "cell_type": "code",
   "execution_count": 15,
   "metadata": {},
   "outputs": [
    {
     "name": "stdout",
     "output_type": "stream",
     "text": [
      "15.4854972347763 -1681.735180354786\n"
     ]
    }
   ],
   "source": [
    "def f(x):\n",
    "    return 10*x**2*np.cos(np.sqrt(x))\n",
    "def fp(x):\n",
    "    return 20*x*np.cos(np.sqrt(x))-5*x**(3/2)*np.sin(np.sqrt(x))\n",
    "def fdp(x):\n",
    "    return 20*np.cos(np.sqrt(x))-5/2*x*np.cos(np.sqrt(x))-35/2*np.sqrt(x)*np.sin(np.sqrt(x))\n",
    "\n",
    "x = 20\n",
    "while abs(fp(x))>1e-9:\n",
    "    x = x-fp(x)/fdp(x)\n",
    "print(x,f(x))"
   ]
  },
  {
   "cell_type": "code",
   "execution_count": null,
   "metadata": {},
   "outputs": [],
   "source": []
  }
 ],
 "metadata": {
  "kernelspec": {
   "display_name": "Python 3 (ipykernel)",
   "language": "python",
   "name": "python3"
  },
  "language_info": {
   "codemirror_mode": {
    "name": "ipython",
    "version": 3
   },
   "file_extension": ".py",
   "mimetype": "text/x-python",
   "name": "python",
   "nbconvert_exporter": "python",
   "pygments_lexer": "ipython3",
   "version": "3.9.7"
  }
 },
 "nbformat": 4,
 "nbformat_minor": 4
}
