{
 "cells": [
  {
   "cell_type": "markdown",
   "metadata": {},
   "source": [
    "# Exam 1\n",
    "\n",
    "Instructions:  \n",
    "\n",
    "You are allowed to use the following materials and nothing else on this exam:  \n",
    "\n",
    "1. the textbook and \n",
    "2. your flashcards \n",
    "    \n",
    "on this exam.  \n",
    "\n",
    "\n",
    "You are not allowed to use another person or any internet resources. This exam is not timed and you are free to start and stop as you please.  Good Luck, you'll do great.\n",
    "\n",
    "Name: _________________\n",
    "    \n",
    "\n",
    "    \n",
    "## Short Written Answer\n",
    "1. What is the keyboard shortcut for turning a text cell into a code cell in a Jupyter notebook."
   ]
  },
  {
   "cell_type": "markdown",
   "metadata": {},
   "source": [
    "Answer: Y"
   ]
  },
  {
   "cell_type": "markdown",
   "metadata": {},
   "source": [
    "2. What type of number is produced when an integer is multiplied by another integer?"
   ]
  },
  {
   "cell_type": "markdown",
   "metadata": {},
   "source": [
    "Answer: Integer"
   ]
  },
  {
   "cell_type": "markdown",
   "metadata": {},
   "source": [
    "3. What does the `//` operator do? (i.e. `5//2`)"
   ]
  },
  {
   "cell_type": "markdown",
   "metadata": {},
   "source": [
    "Answer: Int division"
   ]
  },
  {
   "cell_type": "markdown",
   "metadata": {},
   "source": [
    "4. How do you raise a number to a power in python?"
   ]
  },
  {
   "cell_type": "markdown",
   "metadata": {},
   "source": [
    "Answer: **"
   ]
  },
  {
   "cell_type": "markdown",
   "metadata": {},
   "source": [
    "5. What happens when you \"add\" two strings together?"
   ]
  },
  {
   "cell_type": "markdown",
   "metadata": {},
   "source": [
    "Answer: They are placed next to each other"
   ]
  },
  {
   "cell_type": "markdown",
   "metadata": {},
   "source": [
    "6. What happens when you multiply two strings together?"
   ]
  },
  {
   "cell_type": "markdown",
   "metadata": {},
   "source": [
    "Answer: Error"
   ]
  },
  {
   "cell_type": "markdown",
   "metadata": {},
   "source": [
    "7. How do you write a number in scientific notation in Python?"
   ]
  },
  {
   "cell_type": "markdown",
   "metadata": {},
   "source": [
    "Answer:  numberenumber \n",
    "$3*10^8$ is 3e8"
   ]
  },
  {
   "cell_type": "markdown",
   "metadata": {},
   "source": [
    "8. What does the `int` function do?"
   ]
  },
  {
   "cell_type": "markdown",
   "metadata": {},
   "source": [
    "Answer: Converts a string or float to an integer"
   ]
  },
  {
   "cell_type": "markdown",
   "metadata": {},
   "source": [
    "9. What does `a -= 10` mean?"
   ]
  },
  {
   "cell_type": "markdown",
   "metadata": {},
   "source": [
    "Answer: a is now defined as what a was minus 10"
   ]
  },
  {
   "cell_type": "markdown",
   "metadata": {},
   "source": [
    "10. What is the correct way to check to see if two **float variables** are equal to each other?  (You can write some code to illustrate if you prefer.)"
   ]
  },
  {
   "cell_type": "markdown",
   "metadata": {},
   "source": [
    "Answer: abs(float1 - float2) < 1e-8 "
   ]
  },
  {
   "cell_type": "markdown",
   "metadata": {},
   "source": [
    "# Short Code Answer\n",
    "1. Extract the first through the 8th elements in the list below."
   ]
  },
  {
   "cell_type": "code",
   "execution_count": 88,
   "metadata": {},
   "outputs": [
    {
     "data": {
      "text/plain": [
       "[5, 2, 1, 4, 3, 5, 1, 2]"
      ]
     },
     "execution_count": 88,
     "metadata": {},
     "output_type": "execute_result"
    }
   ],
   "source": [
    "myList = [5,2,1,4,3,5,1,2,4,1,3,5,9,6,5]\n",
    "myList[:8]"
   ]
  },
  {
   "cell_type": "markdown",
   "metadata": {},
   "source": [
    "2. Write a **single line of code** that prints `True` if $x$ is greater than $10$ **and** $y$ is less than $50$. Otherwise, it prints `False`."
   ]
  },
  {
   "cell_type": "code",
   "execution_count": 89,
   "metadata": {},
   "outputs": [
    {
     "data": {
      "text/plain": [
       "True"
      ]
     },
     "execution_count": 89,
     "metadata": {},
     "output_type": "execute_result"
    }
   ],
   "source": [
    "x = 12\n",
    "y = 32\n",
    "x>10 and y < 50"
   ]
  },
  {
   "cell_type": "markdown",
   "metadata": {},
   "source": [
    "3. Add the following electron configuration to the end of the list shown below: \"1s2-2s2-2p6-3s1\""
   ]
  },
  {
   "cell_type": "code",
   "execution_count": 90,
   "metadata": {},
   "outputs": [],
   "source": [
    "electrons = [\"1s1\",\"1s2\", \"1s2-2s1\",\"1s2-2s2\",\"1s2-2s2-2p1\",\"1s2-2s2-2p2\",\"1s2-2s2-2p3\",\"1s2-2s2-2p4\",\"1s2-2s2-2p5\",\"1s2-2s2-2p6\"]\n",
    "electrons.append(\"1s2-2s2-2p6-3s1\")"
   ]
  },
  {
   "cell_type": "markdown",
   "metadata": {},
   "source": [
    "4. Using a single line of code, count the number of string that have \"2s2\" in them."
   ]
  },
  {
   "cell_type": "code",
   "execution_count": 91,
   "metadata": {},
   "outputs": [
    {
     "data": {
      "text/plain": [
       "0"
      ]
     },
     "execution_count": 91,
     "metadata": {},
     "output_type": "execute_result"
    }
   ],
   "source": [
    "electrons = [\"1s1\",\"1s2\", \"1s2-2s1\",\"1s2-2s2\",\"1s2-2s2-2p1\",\"1s2-2s2-2p2\",\"1s2-2s2-2p3\",\"1s2-2s2-2p4\",\"1s2-2s2-2p5\",\"1s2-2s2-2p6\"]\n",
    "electrons.count(\"2s2\")"
   ]
  },
  {
   "cell_type": "markdown",
   "metadata": {},
   "source": [
    "5. Find the maximum value in the list of numbers in the cell below."
   ]
  },
  {
   "cell_type": "code",
   "execution_count": 92,
   "metadata": {},
   "outputs": [
    {
     "data": {
      "text/plain": [
       "9.997776984111566"
      ]
     },
     "execution_count": 92,
     "metadata": {},
     "output_type": "execute_result"
    }
   ],
   "source": [
    "from numpy.random import uniform\n",
    "x = uniform(0,10,1000)\n",
    "max(x)"
   ]
  },
  {
   "cell_type": "markdown",
   "metadata": {},
   "source": [
    "6. Sum up all of the numbers in the list below."
   ]
  },
  {
   "cell_type": "code",
   "execution_count": 93,
   "metadata": {},
   "outputs": [
    {
     "data": {
      "text/plain": [
       "4991.093591600095"
      ]
     },
     "execution_count": 93,
     "metadata": {},
     "output_type": "execute_result"
    }
   ],
   "source": [
    "from numpy.random import uniform\n",
    "x = uniform(0,10,1000)\n",
    "sum(x)"
   ]
  },
  {
   "cell_type": "markdown",
   "metadata": {},
   "source": [
    "7. Using a single line of code, delete all of the repeated numbers in the list below.  How long is the resulting list?"
   ]
  },
  {
   "cell_type": "code",
   "execution_count": 94,
   "metadata": {},
   "outputs": [
    {
     "data": {
      "text/plain": [
       "[{0, 1, 2, 3, 4, 5, 6, 7, 8, 9}]"
      ]
     },
     "execution_count": 94,
     "metadata": {},
     "output_type": "execute_result"
    }
   ],
   "source": [
    "from numpy.random import randint\n",
    "x = randint(0,10,1000)\n",
    "[(set(x))]"
   ]
  },
  {
   "cell_type": "markdown",
   "metadata": {},
   "source": [
    "8. Create a dictionary that contains the ages of 5 of your family members.  Let the names be the keys and the ages the values."
   ]
  },
  {
   "cell_type": "code",
   "execution_count": 95,
   "metadata": {},
   "outputs": [],
   "source": [
    "# Python code here \n",
    "ages = {\"mom\":51,\"dad\":56,\"Brenden\":21,\"Kallie\":22,\"Sadie\":18}"
   ]
  },
  {
   "cell_type": "markdown",
   "metadata": {},
   "source": [
    "9. The cell below contains a dictionary with the orbital radii of the planets in our solar system.  Use a single line of code to produce a list that contains all of the planet's names."
   ]
  },
  {
   "cell_type": "code",
   "execution_count": 96,
   "metadata": {},
   "outputs": [],
   "source": [
    "orbitalRadii = {\"Mercury\":0.39, \"Venus\":0.72, \"Earth\":1.0, \"Mars\":1.5,\"Jupiter\":5.2,\"Saturn\":9.5, \"Uranus\":19.2,\"Neptune\":30.1, \"Pluto\": 39.5}\n",
    "list = orbitalRadii.keys()"
   ]
  },
  {
   "cell_type": "markdown",
   "metadata": {},
   "source": [
    "10. The cell below contains a dictionary with the orbital radii of the planets in our solar system.   Use a single line of code to remove the entry for Mars."
   ]
  },
  {
   "cell_type": "code",
   "execution_count": 97,
   "metadata": {},
   "outputs": [
    {
     "data": {
      "text/plain": [
       "1.5"
      ]
     },
     "execution_count": 97,
     "metadata": {},
     "output_type": "execute_result"
    }
   ],
   "source": [
    "orbitalRadii = {\"Mercury\":0.39, \"Venus\":0.72, \"Earth\":1.0, \"Mars\":1.5,\"Jupiter\":5.2,\"Saturn\":9.5, \"Uranus\":19.2,\"Neptune\":30.1, \"Pluto\": 39.5}\n",
    "orbitalRadii.pop(\"Mars\")"
   ]
  },
  {
   "cell_type": "markdown",
   "metadata": {},
   "source": [
    "11. The cell below contains two sets.  Find their intersection."
   ]
  },
  {
   "cell_type": "code",
   "execution_count": 98,
   "metadata": {},
   "outputs": [
    {
     "name": "stdout",
     "output_type": "stream",
     "text": [
      "{1, 36}\n"
     ]
    }
   ],
   "source": [
    "squares= {1,4,9,16,25,36,49,64,81,100,121,144,169,196,225}\n",
    "triangles = {1, 3, 6, 10, 15, 21, 28, 36, 45, 55, 66, 78, 91, 105, 120, 136, 153, 171, 190}\n",
    "print(squares&triangles)"
   ]
  },
  {
   "cell_type": "markdown",
   "metadata": {},
   "source": [
    "12. The cell below contains a list of numbers.  Calculate the average of those numbers using a single line of code."
   ]
  },
  {
   "cell_type": "code",
   "execution_count": 99,
   "metadata": {},
   "outputs": [
    {
     "name": "stdout",
     "output_type": "stream",
     "text": [
      "4.963565428083231\n",
      "4.963565428083243\n"
     ]
    }
   ],
   "source": [
    "from numpy.random import uniform\n",
    "from numpy import mean\n",
    "\n",
    "x = uniform(0,10,1000)\n",
    "print(mean(x))\n",
    "\n",
    "avg = sum(x)/len(x)\n",
    "print(avg)"
   ]
  },
  {
   "cell_type": "markdown",
   "metadata": {},
   "source": [
    "## Code Answer\n",
    "\n",
    "1. Calculate the following quantities in the cell provided below.\n",
    "    1. $\\cos({\\pi \\over 4})$\n",
    "    2. $\\sin(136^\\circ)$\n",
    "    3. $\\ln(55)$"
   ]
  },
  {
   "cell_type": "code",
   "execution_count": 100,
   "metadata": {},
   "outputs": [],
   "source": [
    "# Python code here.\n",
    "from numpy import cos,pi,sin,log\n",
    "\n",
    "a = cos(pi/4)\n",
    "b = sin(136*pi/180)\n",
    "c = log(55)"
   ]
  },
  {
   "cell_type": "markdown",
   "metadata": {},
   "source": [
    "2. Perform the following operations in the cell below:\n",
    "    1. Create a variable and assign its value to be 5.2.\n",
    "    2. Use augmented assignment to multiply the variable by 14.\n",
    "    3. Use augmented assignment to subtract 22 from the variable.\n",
    "    4. Convert the variable into an integer\n",
    "    5. Check to see if this variable is a multiple of 3\n",
    "    6. Print the variable inside the following sentence: \"This is the answer:\" followed by the value of the variable.  Format the variable to display with only two numbers after the decimal."
   ]
  },
  {
   "cell_type": "code",
   "execution_count": 101,
   "metadata": {},
   "outputs": [
    {
     "name": "stdout",
     "output_type": "stream",
     "text": [
      "False\n",
      "This is the answer. 50.00\n"
     ]
    }
   ],
   "source": [
    "# Python code here.\n",
    "a = 5.2\n",
    "a *= 14\n",
    "a -= 22\n",
    "a = int(a)\n",
    "d = a % 3 == 0\n",
    "print(d)\n",
    "print(f'This is the answer. {a:.2f}')"
   ]
  },
  {
   "cell_type": "markdown",
   "metadata": {},
   "source": [
    "3. In the cell below, you'll find some strings containing the electronic configuration of the first 11 elements on the periodic table.  \n",
    "    1. Using a single line of code, combine the strings to form one long string.\n",
    "    2. Using a single line of code, determine the total length of the long string.\n",
    "    3. Extract the substring starting at the 6th element going up to and including the 13th element.\n",
    "    4. Now split the string on every occurrence of \"-\", producing a list of 11 separate strings.\n",
    "    5. Extract the electron configuration for Boron (B) from the list that was produced in step 4. \n"
   ]
  },
  {
   "cell_type": "code",
   "execution_count": 102,
   "metadata": {},
   "outputs": [
    {
     "name": "stdout",
     "output_type": "stream",
     "text": [
      "['1s1', '1s2', '[He]2s1', '[He]2s2', '[He]2s2_2p2', '[He]2s2_2p3', '[He]2s2_2p4', '[He]2s2_2p5', '[He]2s2_2p6', '[Ne]3s1']\n"
     ]
    }
   ],
   "source": [
    "H = \"1s1\"\n",
    "He = \"-1s2\"\n",
    "Li = \"-[He]2s1\"\n",
    "Be = \"-[He]2s2\"\n",
    "B = \"-[He]2s2_2p1\"\n",
    "C = \"-[He]2s2_2p2\"\n",
    "N = \"-[He]2s2_2p3\"\n",
    "O = \"-[He]2s2_2p4\"\n",
    "F = \"-[He]2s2_2p5\"\n",
    "Ne = \"-[He]2s2_2p6\"\n",
    "Na = \"-[Ne]3s1\"\n",
    "long_string = H+He+Li+Be+B+C+N+O+F+Ne+Na\n",
    "len(long_string)\n",
    "long_string[6:14]\n",
    "long_list=long_string.split(\"-\")\n",
    "long_list.pop(long_list.index(B[1:]))\n",
    "print(long_list)"
   ]
  },
  {
   "cell_type": "markdown",
   "metadata": {},
   "source": [
    "4. Write a short code that uses a given wind speed and accomplishes the following:\n",
    "\n",
    "    1. Determines whether the storm qualifies as a hurricane and \n",
    "    2. If it does qualify as a hurricane, determine whether it is a category 1,2,3,4, or 5 storm.\n",
    "\n",
    "\n",
    "| Category | Wind Speed (mph)|\n",
    "|----------|-----------------|\n",
    "|1         |  74-95          |\n",
    "|2         |  76-110          |\n",
    "|3         |  111-130          |\n",
    "|4         |  131-155          |\n",
    "|5         |  156-above          |"
   ]
  },
  {
   "cell_type": "code",
   "execution_count": 103,
   "metadata": {},
   "outputs": [
    {
     "name": "stdout",
     "output_type": "stream",
     "text": [
      "This is a category 1 hurricane\n"
     ]
    }
   ],
   "source": [
    "windSpeed = 80\n",
    "if windSpeed >= 74:\n",
    "    hurricane = True\n",
    "    if windSpeed >= 156:\n",
    "        category = 5\n",
    "    elif windSpeed >=131:\n",
    "        category = 4\n",
    "    elif windSpeed >= 111:\n",
    "        category = 3\n",
    "    elif windSpeed >= 96:\n",
    "        category = 2\n",
    "    elif windSpeed >= 74:\n",
    "        category = 1\n",
    "    \n",
    "    print(f'This is a category {category} hurricane')\n",
    "else:\n",
    "    hurricane = False\n",
    "    print('This is not a hurricane')"
   ]
  },
  {
   "cell_type": "markdown",
   "metadata": {},
   "source": [
    "5. Construct a dictionary containing the names of nobel prize in physics recipients from the years 1910 - 1925. (see [here](https://www.britannica.com/topic/Winners-of-the-Nobel-Prize-for-Physics-1856942) ) The year should be the key and the name(s) of the recipient(s) should be the value."
   ]
  },
  {
   "cell_type": "code",
   "execution_count": 104,
   "metadata": {},
   "outputs": [],
   "source": [
    "\n",
    "# Python code here."
   ]
  },
  {
   "cell_type": "markdown",
   "metadata": {},
   "source": [
    "6. Construct a list of the first 1000 numbers that are both a multiple of 7 and are even numbers."
   ]
  },
  {
   "cell_type": "code",
   "execution_count": 105,
   "metadata": {},
   "outputs": [],
   "source": [
    "numbers = []\n",
    "num = 1\n",
    "while len(numbers) < 1000:\n",
    "    if num % 7 ==0 and num % 2 ==0:\n",
    "        numbers.append(num)\n",
    "    num +=1"
   ]
  },
  {
   "cell_type": "markdown",
   "metadata": {},
   "source": [
    "7. Use a loop to calculate the following summation for $x = 0.5$: $$ \\sum_{n = 0}^\\infty x^n$$  Do it three different ways:\n",
    "    1. Using a `for` loop with enough iterations that the sum isn't changing much. \n",
    "    2. Using a `while` loop that continues until $x^n < 1 \\times 10^{-4}$.\n",
    "    3. Using list comprehension and the `sum` function. (Use the same number of terms that you used for your `for` loop.)\n",
    "    \n",
    "The sum should converge to $${1 \\over 1- x}$$ if you include a sufficient number of terms.  Check that it does."
   ]
  },
  {
   "cell_type": "code",
   "execution_count": 106,
   "metadata": {},
   "outputs": [
    {
     "name": "stdout",
     "output_type": "stream",
     "text": [
      "2.0\n",
      "1.9998779296875\n",
      "2.0\n"
     ]
    }
   ],
   "source": [
    "# Python code here.\n",
    "x = 0.5\n",
    "summation = 0\n",
    "for n in range(1000):\n",
    "    summation += x**n\n",
    "print(summation)\n",
    "\n",
    "summation = 0\n",
    "n = 0\n",
    "while x**n > 1e-4:\n",
    "    summation += x**n\n",
    "    n += 1\n",
    "print(summation) \n",
    "\n",
    "list_comp = [x**n for n in range(1000)]\n",
    "print(sum(list_comp))"
   ]
  },
  {
   "cell_type": "markdown",
   "metadata": {},
   "source": [
    "8. Kepler's third law relates a celestial body's orbital radius to its orbital period via the following equation $$T^2 = \\left({4 \\pi^2 \\over G M_S} \\right) r^3$$  where $M_S = 1.99 \\times 10^{30}$ kg (mass of the sun)  and $r$ is the orbital radius of the planet\n",
    "\n",
    "    1. Construct a function that takes the mass of the orbital radius ($r$) of the planet as an argument and returns its orbital period ($T$).  The gravitation constant ($G = 6.67 \\times 10^{-11}$) should be included as a **keyword argument with a default value attached**.\n",
    "    2. Now use list comprehension (or a traditional loop) to call your function for all of the planets in our solar system and construct a list containing their orbital periods. Convert these periods to Earth days. The orbital radii of the planets is given in the table below:\n",
    "    \n",
    "   | Planet | Orbital Radius (m)|\n",
    "   |--------|---------------|\n",
    "   | Mercury |$$5.79 \\times 10^{10}$$|\n",
    "   | Venus |$$1.08 \\times 10^{11}$$|\n",
    "   | Earth |$$1.50 \\times 10^{11}$$|\n",
    "   | Mars |$$2.28 \\times 10^{11}$$|\n",
    "   | Jupiter |$$7.79 \\times 10^{11}$$|\n",
    "   | Saturn |$$1.43 \\times 10^{12}$$|\n",
    "   | Uranus |$$2.87 \\times 10^{12}$$|\n",
    "   | Neptune| $$4.52 \\times 10^{12}$$|\n",
    "   | Pluto |$$5.91 \\times 10^{12}$$|"
   ]
  },
  {
   "cell_type": "code",
   "execution_count": 107,
   "metadata": {},
   "outputs": [
    {
     "name": "stdout",
     "output_type": "stream",
     "text": [
      "[87.94163107147473, 224.03315962690047, 366.70223699729064, 687.1933390185086, 4339.931324266559, 10793.958075794199, 30690.18566825252, 60657.47430716834, 90689.68470950938]\n"
     ]
    }
   ],
   "source": [
    "# Python code here.\n",
    "from numpy import pi,sqrt\n",
    "\n",
    "def period(r,M_s = 1.99e30, G = 6.67e-11):\n",
    "    return sqrt(4*pi**2/(G*M_s) * r**3)\n",
    "\n",
    "radii = [5.79e10,1.08e11,1.5e11,2.28e11,7.79e11,1.43e12,2.87e12,4.52e12,5.91e12]\n",
    "periods = [period(r)/60/60/24 for r in radii]\n",
    "print(periods)"
   ]
  },
  {
   "cell_type": "markdown",
   "metadata": {},
   "source": [
    "9. Perform the following:\n",
    "    1. Construct a list of integers starting at $1$ and ending at $100$ (inclusive).\n",
    "    2. Use list slicing to extract just the odd numbers from this list.\n",
    "    3. Use list comprehension to square all of the remaining numbers.\n",
    "    4. Use a list method to find the location of the number $361$ in the list.\n",
    "    5. Add the number $101^2$ to the end of the list.\n",
    "    6. Add the numbers $[103^2, 105^2]$ to the end of the list using a single line of code.\n",
    "    7. Reverse the order of the list.\n",
    "    8. Add up all of the values and print the result.\n"
   ]
  },
  {
   "cell_type": "code",
   "execution_count": 108,
   "metadata": {},
   "outputs": [
    {
     "name": "stdout",
     "output_type": "stream",
     "text": [
      "198485\n"
     ]
    }
   ],
   "source": [
    "# Python code here.\n",
    "start = range(1,101)\n",
    "part2 = start[::2]\n",
    "newList = [n**2 for n in part2 ]\n",
    "newList.index(361)\n",
    "newList.append(101**2)\n",
    "newList.extend([103**2,105**2])\n",
    "newList.reverse()\n",
    "print(sum(newList))"
   ]
  },
  {
   "cell_type": "markdown",
   "metadata": {},
   "source": [
    "10. In the cell below you will find two lists containing the masses and velocities of several objects.  Use a loop to calculate the kinetic energy of each object using the following equation. $$K = {1\\over 2} m v^2$$ Store the kinetic energies in a list. Then calculate the max, min, and average value of the energies."
   ]
  },
  {
   "cell_type": "code",
   "execution_count": 109,
   "metadata": {},
   "outputs": [
    {
     "name": "stdout",
     "output_type": "stream",
     "text": [
      "2558.9661495350574 163.7575478507328 977.229961059983\n"
     ]
    }
   ],
   "source": [
    "from numpy.random import uniform\n",
    "\n",
    "def kinetic_energy(m,v):\n",
    "    return 1/2 * m * v**2\n",
    "\n",
    "mass = uniform(5,10,1000)\n",
    "velocity = uniform(8,23,1000)\n",
    "\n",
    "kineticEnergy = []\n",
    "for idx,m in enumerate(mass):\n",
    "    K = kinetic_energy(m,velocity[idx])\n",
    "    kineticEnergy.append(K)\n",
    "    \n",
    "maxm=max(kineticEnergy)\n",
    "minm=min(kineticEnergy)\n",
    "avg = sum(kineticEnergy)/len(kineticEnergy)\n",
    "print(maxm,minm,avg)"
   ]
  }
 ],
 "metadata": {
  "kernelspec": {
   "display_name": "Python 3 (ipykernel)",
   "language": "python",
   "name": "python3"
  },
  "language_info": {
   "codemirror_mode": {
    "name": "ipython",
    "version": 3
   },
   "file_extension": ".py",
   "mimetype": "text/x-python",
   "name": "python",
   "nbconvert_exporter": "python",
   "pygments_lexer": "ipython3",
   "version": "3.9.7"
  }
 },
 "nbformat": 4,
 "nbformat_minor": 4
}
