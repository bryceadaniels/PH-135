{
 "cells": [
  {
   "cell_type": "markdown",
   "metadata": {},
   "source": [
    "# Exam 3\n",
    "\n",
    "\n",
    "Instructions:  This exam is not timed but you must take it in one contiguous block of time.  You are not allowed to use any of the following while taking the exam:\n",
    "1. The textbook\n",
    "2. another person's knowledge.\n",
    "3. any code that you have authored previously.\n",
    "4. the internet\n",
    "\n",
    "Useful equations covering extrapolation/interpolation and numerical calculus can be found below.\n",
    "\n",
    "Good Luck\n",
    "\n",
    "\n",
    "## Useful Equations\n",
    "\n",
    "### Extrapolation and Interpolation\n",
    "$$y(x_1 + p h) = y_1 + p (y_2 - y_1)$$\n",
    "$$y(x_2 + h) = 2 y_2 - y_1$$\n",
    "$$x = x_1 - {y_1(x_2 - x_1) \\over y_2 - y_1}$$\n",
    "$$y(x_1 + {1\\over 2} h) = {1\\over 8}\\left(3 y_1 + 6y_2 - y_3 \\right)$$\n",
    "$$y(x_2 + {1\\over 2} h) = {1\\over 8}\\left(-y_1 + 6y_2 + 3 y_3 \\right)$$\n",
    "$$y(x_3 +  h) = y_1 - 3y_2 + 3y_3$$\n",
    "$$y(x_3 + {1\\over 2} h) = {1\\over 8}\\left(3 y_1 - 10y_2 + 15y_3 \\right)$$\n",
    "\n",
    "### Numerical Calculus\n",
    "$$f'(x) = {f(x + h) - f(x-h)\\over 2 h}$$\n",
    "$$f''(x) = {f(x + h) -2 f(x) + f(x-h)\\over h^2}$$\n",
    "\n",
    "Name: Bryce Daniels\n",
    "    \n",
    "\n",
    "1. (Extrapolation and Interpolation)  In the cell below, you will find data representing the trajectory of an object launched from the top of a $50$-meter-high bluff.\n",
    "    1. Plot y vs. x to see the trajectory. Set the vertical bounds of the plot to be between $0$ and $60$ meters so you can see where the ground is.\n",
    "    2. Use linear extrapolation methods to estimate the location of the particle **two grid points** beyond the last point. Plot this point (with a different color) on top of the trajectory to verify that your estimate seems reasonable. \n",
    "    3. Use **quadratic** extrapolation methods to estimate the location of the particle **two grid points** beyond the last point. Plot this point (with a different color) on top of the trajectory to verify that your estimate seems reasonable.\n",
    "    4. Use the zero-finding formula to approximate the landing location of the particle.  Plot this point on the plot along with the others."
   ]
  },
  {
   "cell_type": "code",
   "execution_count": 1,
   "metadata": {},
   "outputs": [],
   "source": [
    "import matplotlib.pyplot as plt\n",
    "from scipy.optimize import curve_fit\n",
    "import numpy as np"
   ]
  },
  {
   "cell_type": "code",
   "execution_count": 92,
   "metadata": {},
   "outputs": [
    {
     "name": "stdout",
     "output_type": "stream",
     "text": [
      "Linear Extrapolation: 3.241 \n",
      "Quadratic Extrapolation: 0.041 \n",
      "Zero: 76.413\n"
     ]
    },
    {
     "data": {
      "image/png": "[encoded data removed]",
      "text/plain": [
       "<Figure size 432x288 with 1 Axes>"
      ]
     },
     "metadata": {
      "needs_background": "light"
     },
     "output_type": "display_data"
    }
   ],
   "source": [
    "x = [0.0, 4.680868824508524, 9.361737649017048, 14.042606473525572, 18.723475298034096, 23.404344122542618, 28.085212947051144, 32.76608177155967, 37.44695059606819, 42.127819420576714, 46.808688245085236, 51.489557069593765, 56.17042589410229, 60.85129471861081, 65.53216354311934]\n",
    "y = [50.0, 52.87757963629169, 54.95515927258338, 56.23273890887507, 56.710318545166764, 56.38789818145845, 55.265477817750146, 53.34305745404185, 50.620637090333524, 47.09821672662524, 42.775796362916914, 37.65337599920861, 31.730955635500287, 25.008535271792, 17.486114908083678]\n",
    "t = [0.0, 0.2857142857142857, 0.5714285714285714, 0.8571428571428571, 1.1428571428571428, 1.4285714285714284, 1.7142857142857142, 2.0, 2.2857142857142856, 2.571428571428571, 2.8571428571428568, 3.142857142857143, 3.4285714285714284, 3.714285714285714, 4.0]\n",
    "dx = x[-1]-x[-2]\n",
    "plt.plot(x,y,'r.')\n",
    "plt.ylim(-1,60)\n",
    "\n",
    "linExtr = 2*y[-1]-y[-3]\n",
    "plt.plot(x[-1]+2*dx, linExtr,'bo')\n",
    "\n",
    "quadExtr = y[-5]-3*y[-3]+3*y[-1]\n",
    "plt.plot(x[-1]+2*dx,quadExtr,'c*')\n",
    "\n",
    "zero = x[-2]-y[-2]*dx/(y[-1]-y[-2])\n",
    "plt.plot(zero,0,'y^')\n",
    "\n",
    "print(f'Linear Extrapolation: {linExtr:.3f} \\nQuadratic Extrapolation: {quadExtr:.3f} \\nZero: {zero:.3f}')"
   ]
  },
  {
   "cell_type": "markdown",
   "metadata": {},
   "source": [
    "2. (Curve Fitting) A constant force is applied to a ball as it moves horizontally through a distance of $d=12$ cm. Using a motion detector, you measure the final speed of five different balls, each with a different mass. The results are shown in the table below.\n",
    "\n",
    "|Mass (g) | Speed (m/s)|\n",
    "|---------|------------|\n",
    "| 200     |    9.4     |\n",
    "| 400     |    6.3     |\n",
    "| 600     |    5.2     |\n",
    "| 800     |    4.9     |\n",
    "| 1000     |    4.0     |\n",
    "\n",
    "\n",
    "From Newtonian mechanics we can derive the following relationship between the mass ($m$) of the ball and it's final velocity($v_f$):\n",
    "$$\n",
    "v_f = \\sqrt{2F d \\over m}\n",
    "$$\n",
    "where $F$ is the constant force applied to the balls. \n",
    "\n",
    "1. Plot speed (vertical axis) vs. mass (horizontal axis).  Convert the masses to kilograms first.\n",
    "2. Fit a function of the form given in the equation above to this data. \n",
    "3. Plot the fit function on top of the data points to verify that the fit is good.\n",
    "4. Report the value of the force applied to the balls.\n"
   ]
  },
  {
   "cell_type": "code",
   "execution_count": 30,
   "metadata": {},
   "outputs": [
    {
     "name": "stdout",
     "output_type": "stream",
     "text": [
      "The force applied to the ball is 71.133 N\n"
     ]
    },
    {
     "data": {
      "image/png": "[encoded data removed]",
      "text/plain": [
       "<Figure size 432x288 with 1 Axes>"
      ]
     },
     "metadata": {
      "needs_background": "light"
     },
     "output_type": "display_data"
    }
   ],
   "source": [
    "def velocity(mass,a):\n",
    "    return np.sqrt(a/mass)\n",
    "\n",
    "d = .12\n",
    "speed = [9.4,6.3,5.2,4.9,4.0]\n",
    "mass = [200,400,600,800,1000]\n",
    "mass = np.array(mass)*10**-3\n",
    "plt.plot(mass,speed,'bo')\n",
    "\n",
    "params = curve_fit(velocity,mass,speed)\n",
    "\n",
    "m = np.linspace(0.1,1,100)\n",
    "v = np.sqrt(params[0][0]/m)\n",
    "plt.plot(m,v,'r')\n",
    "\n",
    "F = params[0][0]/2/d\n",
    "print(f'The force applied to the ball is {F:.3f} N')"
   ]
  },
  {
   "cell_type": "markdown",
   "metadata": {},
   "source": [
    "3. (Numerical Calculus) In the cell below, you will find the position components and the times for a projectile launched with an initial speed of $45$ m/s with an initial launch angle of $25^\\circ$.  Perform the following:\n",
    "\n",
    "    1. Plot x vs. time and y vs. time.\n",
    "    2. Calculate the numerical derivative of x vs time and y vs. time to obtain the components of the velocity. Make separate plots for these data sets.\n",
    "    3. Calculate the numerical derivative of vx vs time and vy vs. time (calculated in part 3) to obtain the components of the acceleration.  Make separate plots for these data sets.\n",
    "    4. Make one figure that contains six plots: the position components on the first row, the velocity components on the second row and the acceleration components on the final row."
   ]
  },
  {
   "cell_type": "code",
   "execution_count": 61,
   "metadata": {},
   "outputs": [
    {
     "data": {
      "text/plain": [
       "(-15.0, 0.0)"
      ]
     },
     "execution_count": 61,
     "metadata": {},
     "output_type": "execute_result"
    },
    {
     "data": {
      "image/png": "[encoded data removed]",
      "text/plain": [
       "<Figure size 432x288 with 6 Axes>"
      ]
     },
     "metadata": {
      "needs_background": "light"
     },
     "output_type": "display_data"
    }
   ],
   "source": [
    "x = [0.0, 11.652528690471211, 23.305057380942422, 34.95758607141364, 46.610114761884844, 58.26264345235605, 69.91517214282727, 81.56770083329849, 93.22022952376969, 104.8727582142409, 116.5252869047121, 128.17781559518335, 139.83034428565455, 151.48287297612575, 163.13540166659698]\n",
    "y = [0.0, 5.0336633652375635, 9.267326730475128, 12.700990095712692, 15.334653460950255, 17.16831682618782, 18.201980191425385, 18.435643556662946, 17.86930692190051, 16.502970287138076, 14.336633652375639, 11.370297017613204, 7.603960382850765, 3.037623748088336, -2.3287128866741114]\n",
    "t = [0.0, 0.2857142857142857, 0.5714285714285714, 0.8571428571428571, 1.1428571428571428, 1.4285714285714284, 1.7142857142857142, 2.0, 2.2857142857142856, 2.571428571428571, 2.8571428571428568, 3.142857142857143, 3.4285714285714284, 3.714285714285714, 4.0]\n",
    "x=np.array(x)\n",
    "y = np.array(y)\n",
    "t = np.array(t)\n",
    "dt = t[-1]-t[-2]\n",
    "\n",
    "vx = (x[2:]-x[:-2])/2/dt\n",
    "vy = (y[2:]-y[:-2])/2/dt\n",
    "\n",
    "ax = (x[2:]-2*x[1:-1]+x[:-2])/dt**2\n",
    "ay = (y[2:]-2*y[1:-1]+y[:-2])/dt**2\n",
    "\n",
    "fig = plt.figure()\n",
    "ax1 = fig.add_subplot(3,2,1)\n",
    "ax1.plot(t,x,'b--')\n",
    "\n",
    "ax2 = fig.add_subplot(3,2,2)\n",
    "ax2.plot(t,y,'r--')\n",
    "\n",
    "ax3 = fig.add_subplot(3,2,3)\n",
    "ax3.plot(t[1:-1],vx,'b--')\n",
    "ax3.set_ylim(30,50)\n",
    "\n",
    "ax4 = fig.add_subplot(3,2,4)\n",
    "ax4.plot(t[1:-1],vy,'r--')\n",
    "\n",
    "ax5 = fig.add_subplot(3,2,5)\n",
    "ax5.plot(t[1:-1],ax,'b--')\n",
    "ax5.set_ylim(-1,1)\n",
    "\n",
    "ax6 = fig.add_subplot(3,2,6)\n",
    "ax6.plot(t[1:-1],ay,'r--')\n",
    "ax6.set_ylim(-15,0)\n"
   ]
  },
  {
   "cell_type": "markdown",
   "metadata": {},
   "source": [
    "4. (Euler's Method) A cannon shell with radius $r = 5$ cm and mass $m = 6$ kg is launched on level ground with an initial speed of $700$ m/s and a launch angle of $35^\\circ$.  Including air drag, the components of the acceleration experienced by the cannon shell are\n",
    "$$\n",
    "ax = - {1\\over 2 m} \\rho A C |v| v_x\n",
    "$$\n",
    "$$\n",
    "ay = -g - {1\\over 2 m} \\rho A C |v| v_y\n",
    "$$\n",
    "with $g = 9.8$ m/s$^2$, $A$ is the cross-sectional area of the shell ($A = \\pi r^2$), and $C = 0.05$ is the drag constant.  Due to its large initial speed, the projectile will achieve a rather large maximum altitude (in the kilometers range) and the density ($\\rho$) of the atmosphere can change significantly over the course of the trajectory.  One function for approximating the variation in density is given by $$ \\rho(h) = 1.23 \\cdot e^{-h\\over 1.0 \\times 10^4}\\text{ (isothermal approximation)}$$  This is called the isothermal approximation. Another possible choice, called the adiabatic approximation, is given by $$\\rho(h) = 1.23 (1 - {a h \\over T_0})^{2.5}  \\text{ (adiabatic approximation)}$$ where $a = .0065$ and $T_0 = 294$ K.  \n",
    "    \n",
    "    1. Calculate the trajectory (y vs. x) of the cannon shell for both the isothermal and adiabatic approximations.  Plot both trajectories on the same plot and add labels to the plot so it is clear which trajectory corresponds to which approximation.\n",
    "    2. Now plot the trajectory that would result if you neglected air drag completely.  Once again, plot this trajectory on top of the two from the first part.  Is drag a negligible effect in this case? What max speed could you launch the cannon shell with and feel comfortable neglecting air drag?\n",
    "    3. Using trial and error, determine what launch angle produces the max range of the projectile under the adiabatic approximation."
   ]
  },
  {
   "cell_type": "code",
   "execution_count": 93,
   "metadata": {
    "scrolled": true
   },
   "outputs": [
    {
     "name": "stdout",
     "output_type": "stream",
     "text": [
      "It went 1187.965 m\n"
     ]
    },
    {
     "data": {
      "image/png": "[encoded data removed]",
      "text/plain": [
       "<Figure size 432x288 with 1 Axes>"
      ]
     },
     "metadata": {
      "needs_background": "light"
     },
     "output_type": "display_data"
    }
   ],
   "source": [
    "def adiabat(h,a=0.0065,T = 294):\n",
    "    return 1.23*(1-a*h/T)**2.5\n",
    "def isotherm(h):\n",
    "    return 1.23*np.exp(-h/1e4)\n",
    "vel = lambda vx,vy: np.sqrt(vx**2 + vy**2)\n",
    "\n",
    "#Constants\n",
    "r = 5e-2\n",
    "m = 6\n",
    "v = 110\n",
    "θ = 45 * np.pi/180\n",
    "g = 9.8\n",
    "a = 0.0065\n",
    "To = 294\n",
    "C = 0.05\n",
    "A = np.pi*r**2\n",
    "dt = .1\n",
    "\n",
    "\n",
    "\n",
    "\n",
    "# ADIABATIC\n",
    "#Initial\n",
    "x = [0]\n",
    "y = [0]\n",
    "t = [0]\n",
    "vx = v*np.cos(θ)\n",
    "vy = v*np.sin(θ)\n",
    "\n",
    "while y[-1] >=0 :\n",
    "    ρ = adiabat(y[-1])\n",
    "    ax = -1/2/m * ρ * A * C * abs(vel(vx,vy)) * vx\n",
    "    ay = -g - 1/2/m * ρ * A * C * abs(vel(vx,vy)) * vy\n",
    "    vx += ax*dt\n",
    "    vy += ay*dt\n",
    "    x.append(x[-1]+vx*dt)\n",
    "    y.append(y[-1]+vy*dt)\n",
    "    t.append(t[-1]+dt)\n",
    "    \n",
    "plt.plot(x,y,'ro',label= 'Adiabatic Approximation')\n",
    "print(f'It went {x[-1]:.3f} m')\n",
    "\n",
    "\n",
    "\n",
    "\n",
    "\n",
    "\n",
    "# ISOTHERMAL\n",
    "#Initial\n",
    "x = [0]\n",
    "y = [0]\n",
    "t = [0]\n",
    "vx = v*np.cos(θ)\n",
    "vy = v*np.sin(θ)\n",
    "\n",
    "while y[-1] >=0 :\n",
    "    ρ = isotherm(y[-1])\n",
    "    ax = -1/2/m * ρ * A * C * abs(vel(vx,vy)) * vx\n",
    "    ay = -g - 1/2/m * ρ * A * C * abs(vel(vx,vy)) * vy\n",
    "    vx += ax*dt\n",
    "    vy += ay*dt\n",
    "    x.append(x[-1]+vx*dt)\n",
    "    y.append(y[-1]+vy*dt)\n",
    "    t.append(t[-1]+dt)\n",
    "plt.plot(x,y,'b*',label= 'Isothermal Approximation')\n",
    "\n",
    "\n",
    "\n",
    "\n",
    "\n",
    "\n",
    "# NO DRAG\n",
    "C = 0\n",
    "#Initial\n",
    "x = [0]\n",
    "y = [0]\n",
    "t = [0]\n",
    "vx = v*np.cos(θ)\n",
    "vy = v*np.sin(θ)\n",
    "\n",
    "\n",
    "while y[-1] >=0 :\n",
    "    ρ = adiabat(y[-1])\n",
    "    ax = -1/2/m * ρ * A * C * abs(vel(vx,vy)) * vx\n",
    "    ay = -g - 1/2/m * ρ * A * C * abs(vel(vx,vy)) * vy\n",
    "    vx += ax*dt\n",
    "    vy += ay*dt\n",
    "    x.append(x[-1]+vx*dt)\n",
    "    y.append(y[-1]+vy*dt)\n",
    "    t.append(t[-1]+dt)\n",
    "plt.plot(x,y,'c^',label= 'Neglect Drag')\n",
    "\n",
    "plt.legend()\n",
    "plt.show()"
   ]
  },
  {
   "cell_type": "markdown",
   "metadata": {},
   "source": [
    "### Drag is very important in this similation. I would be comfortable neglecting drag when v < 100 m/s\n",
    "### The distance is optimized at 45 degrees"
   ]
  },
  {
   "cell_type": "markdown",
   "metadata": {},
   "source": [
    "5. (Root Finding) The function below has three zeros in the region $-2 < x < 5$. Use Newton's method to find all three of them:\n",
    "$$ y(x) = 2^x - x^2 = 0 $$\n",
    "The derivative of this function is\n",
    "$$ y'(x) = 2^x\\log(2) - 2x$$"
   ]
  },
  {
   "cell_type": "code",
   "execution_count": 91,
   "metadata": {},
   "outputs": [
    {
     "name": "stdout",
     "output_type": "stream",
     "text": [
      "-0.7666648840924213\n",
      "2.000000035665033\n",
      "4.000000007319207\n"
     ]
    }
   ],
   "source": [
    "y = lambda x: 2**x - x**2\n",
    "yp = lambda x: 2**x * np.log(2)-2*x \n",
    "x1 = -2\n",
    "while abs(y(x1)) > 1e-4:\n",
    "    x1 = x1 - y(x1)/yp(x1)\n",
    "print(x1)\n",
    "x2 = 1\n",
    "while abs(y(x2)) > 1e-4:\n",
    "    x2 = x2 - y(x2)/yp(x2)\n",
    "print(x2)\n",
    "x3 = 5\n",
    "while abs(y(x3)) > 1e-4:\n",
    "    x3 = x3 - y(x3)/yp(x3)\n",
    "print(x3)"
   ]
  }
 ],
 "metadata": {
  "kernelspec": {
   "display_name": "Python 3 (ipykernel)",
   "language": "python",
   "name": "python3"
  },
  "language_info": {
   "codemirror_mode": {
    "name": "ipython",
    "version": 3
   },
   "file_extension": ".py",
   "mimetype": "text/x-python",
   "name": "python",
   "nbconvert_exporter": "python",
   "pygments_lexer": "ipython3",
   "version": "3.9.7"
  }
 },
 "nbformat": 4,
 "nbformat_minor": 4
}
